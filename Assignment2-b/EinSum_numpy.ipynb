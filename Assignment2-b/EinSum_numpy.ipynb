{
  "nbformat": 4,
  "nbformat_minor": 0,
  "metadata": {
    "colab": {
      "provenance": [],
      "authorship_tag": "ABX9TyO42KV3Ajsw7WoRAw0lJduU",
      "include_colab_link": true
    },
    "kernelspec": {
      "name": "python3",
      "display_name": "Python 3"
    },
    "language_info": {
      "name": "python"
    }
  },
  "cells": [
    {
      "cell_type": "markdown",
      "metadata": {
        "id": "view-in-github",
        "colab_type": "text"
      },
      "source": [
        "<a href=\"https://colab.research.google.com/github/pranukrish/CMPE258_DeepLearning/blob/main/Assignment2-b/EinSum_numpy.ipynb\" target=\"_parent\"><img src=\"https://colab.research.google.com/assets/colab-badge.svg\" alt=\"Open In Colab\"/></a>"
      ]
    },
    {
      "cell_type": "markdown",
      "source": [
        "**a) Scalar-Vector Multiplication**"
      ],
      "metadata": {
        "id": "W3TtpeKuE8zk"
      }
    },
    {
      "cell_type": "code",
      "execution_count": 20,
      "metadata": {
        "colab": {
          "base_uri": "https://localhost:8080/"
        },
        "id": "Ux_qqzOB-g2e",
        "outputId": "b79d7643-160e-445a-fc85-646210162cb1"
      },
      "outputs": [
        {
          "output_type": "stream",
          "name": "stdout",
          "text": [
            "[2 4 6]\n"
          ]
        }
      ],
      "source": [
        "import numpy as np\n",
        "\n",
        "a = np.array([1, 2, 3])\n",
        "s = np.array([2])\n",
        "result = np.einsum('i,j->j', s, a)\n",
        "\n",
        "print(result)\n",
        "# Output: [2 4 6]\n"
      ]
    },
    {
      "cell_type": "markdown",
      "source": [
        "**b) Vector-Vector multiplications **"
      ],
      "metadata": {
        "id": "31hlf15tFw9w"
      }
    },
    {
      "cell_type": "code",
      "source": [
        "import numpy as np\n",
        "\n",
        "a = np.array([1, 2, 3])\n",
        "b = np.array([4, 5, 6])\n",
        "result = np.einsum('i,i->', a, b)\n",
        "\n",
        "print(result)\n"
      ],
      "metadata": {
        "colab": {
          "base_uri": "https://localhost:8080/"
        },
        "id": "VM2KOnkN-mM8",
        "outputId": "5dd91a05-143a-45c7-ff82-82ee5f4ccf37"
      },
      "execution_count": 2,
      "outputs": [
        {
          "output_type": "stream",
          "name": "stdout",
          "text": [
            "32\n"
          ]
        }
      ]
    },
    {
      "cell_type": "markdown",
      "source": [
        "**3) Outer Product**"
      ],
      "metadata": {
        "id": "lBHtrOIgI2lN"
      }
    },
    {
      "cell_type": "code",
      "source": [
        "import numpy as np\n",
        "\n",
        "a = np.array([1, 2, 3])\n",
        "b = np.array([4, 5, 6])\n",
        "result = np.einsum('i,j->ij', a, b)\n",
        "\n",
        "print(result)\n"
      ],
      "metadata": {
        "colab": {
          "base_uri": "https://localhost:8080/"
        },
        "id": "3VbPunr8-rmO",
        "outputId": "1a9ac28b-6b75-4a68-94e9-f7d5d8c05b44"
      },
      "execution_count": 12,
      "outputs": [
        {
          "output_type": "stream",
          "name": "stdout",
          "text": [
            "[[ 4  5  6]\n",
            " [ 8 10 12]\n",
            " [12 15 18]]\n"
          ]
        }
      ]
    },
    {
      "cell_type": "markdown",
      "source": [
        "**4) Scalar Dot Product**"
      ],
      "metadata": {
        "id": "iRiMl9NcJDuO"
      }
    },
    {
      "cell_type": "code",
      "source": [
        "import numpy as np\n",
        "\n",
        "a = np.array([1, 2, 3])\n",
        "s = 2\n",
        "result = np.einsum('i,i->', s*a, a)\n",
        "\n",
        "print(result)\n"
      ],
      "metadata": {
        "colab": {
          "base_uri": "https://localhost:8080/"
        },
        "id": "T4_7b99o-sqK",
        "outputId": "0985f799-8b92-4d71-8ee1-8e7ba0f8e548"
      },
      "execution_count": 13,
      "outputs": [
        {
          "output_type": "stream",
          "name": "stdout",
          "text": [
            "28\n"
          ]
        }
      ]
    },
    {
      "cell_type": "markdown",
      "source": [
        "**5) Hadamard Product**"
      ],
      "metadata": {
        "id": "E9cdqIJMJPPH"
      }
    },
    {
      "cell_type": "code",
      "source": [
        "import numpy as np\n",
        "\n",
        "a = np.array([1, 2, 3])\n",
        "b = np.array([4, 5, 6])\n",
        "result = np.einsum('i,i->i', a, b)\n",
        "\n",
        "print(result)\n"
      ],
      "metadata": {
        "colab": {
          "base_uri": "https://localhost:8080/"
        },
        "id": "HYLuFJMg-vR1",
        "outputId": "fc257503-70ea-4712-f1c1-e35f07f68d72"
      },
      "execution_count": 14,
      "outputs": [
        {
          "output_type": "stream",
          "name": "stdout",
          "text": [
            "[ 4 10 18]\n"
          ]
        }
      ]
    },
    {
      "cell_type": "markdown",
      "source": [
        "**6) Batch Matrix Multiplication**"
      ],
      "metadata": {
        "id": "Nn3ADayZJWgq"
      }
    },
    {
      "cell_type": "code",
      "source": [
        "import numpy as np\n",
        "\n",
        "A = np.random.randn(3, 4, 5)  # 3 matrices of size 4x5\n",
        "B = np.random.randn(3, 5, 6)  # 3 matrices of size 5x6\n",
        "\n",
        "# Batch matrix multiplication\n",
        "result = np.einsum('ijk,ikl->ijl', A, B)\n",
        "\n",
        "print(result.shape)\n",
        "# Output: (3, 4, 6)\n"
      ],
      "metadata": {
        "colab": {
          "base_uri": "https://localhost:8080/"
        },
        "id": "qjYJtRu--0Dz",
        "outputId": "932ab8bc-3add-4366-8b0c-30503242c118"
      },
      "execution_count": 19,
      "outputs": [
        {
          "output_type": "stream",
          "name": "stdout",
          "text": [
            "(3, 4, 6)\n"
          ]
        }
      ]
    }
  ]
}