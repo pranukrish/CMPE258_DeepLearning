{
  "nbformat": 4,
  "nbformat_minor": 0,
  "metadata": {
    "colab": {
      "provenance": [],
      "authorship_tag": "ABX9TyO/FXf8U41q1PQdzvOR5Txw",
      "include_colab_link": true
    },
    "kernelspec": {
      "name": "python3",
      "display_name": "Python 3"
    },
    "language_info": {
      "name": "python"
    }
  },
  "cells": [
    {
      "cell_type": "markdown",
      "metadata": {
        "id": "view-in-github",
        "colab_type": "text"
      },
      "source": [
        "<a href=\"https://colab.research.google.com/github/pranukrish/CMPE258_DeepLearning/blob/main/Assignment2-b/EinSum_numpy.ipynb\" target=\"_parent\"><img src=\"https://colab.research.google.com/assets/colab-badge.svg\" alt=\"Open In Colab\"/></a>"
      ]
    },
    {
      "cell_type": "markdown",
      "source": [
        "#This colab demonstrates the below operations using einsum in numpy\n",
        "\n",
        "\n",
        "\n",
        "1.   Scalar Vector Multiplication\n",
        "2.   Vector Vector Multiplications\n",
        "3.   Outer Product\n",
        "4.   Scalar Dot Product\n",
        "5.   Hadamard Product\n",
        "6.   Batch Matrix Multiplication\n",
        "7.   Tensor Reduction\n",
        "8.   Transpose\n",
        "9.   Bilinear Transformation\n",
        "10.   Attention\n",
        "11.   Tree QN\n"
      ],
      "metadata": {
        "id": "dwkKri7GUYv6"
      }
    },
    {
      "cell_type": "markdown",
      "source": [
        "**1) Scalar-Vector Multiplication**"
      ],
      "metadata": {
        "id": "W3TtpeKuE8zk"
      }
    },
    {
      "cell_type": "code",
      "execution_count": null,
      "metadata": {
        "colab": {
          "base_uri": "https://localhost:8080/"
        },
        "id": "Ux_qqzOB-g2e",
        "outputId": "b79d7643-160e-445a-fc85-646210162cb1"
      },
      "outputs": [
        {
          "output_type": "stream",
          "name": "stdout",
          "text": [
            "[2 4 6]\n"
          ]
        }
      ],
      "source": [
        "import numpy as np\n",
        "\n",
        "a = np.array([1, 2, 3])\n",
        "s = np.array([2])\n",
        "result = np.einsum('i,j->j', s, a)\n",
        "\n",
        "print(result)\n",
        "\n"
      ]
    },
    {
      "cell_type": "markdown",
      "source": [
        "**2) Vector-Vector multiplications**"
      ],
      "metadata": {
        "id": "31hlf15tFw9w"
      }
    },
    {
      "cell_type": "code",
      "source": [
        "import numpy as np\n",
        "\n",
        "a = np.array([1, 2, 3])\n",
        "b = np.array([4, 5, 6])\n",
        "result = np.einsum('i,i->', a, b)\n",
        "\n",
        "print(result)\n"
      ],
      "metadata": {
        "colab": {
          "base_uri": "https://localhost:8080/"
        },
        "id": "VM2KOnkN-mM8",
        "outputId": "5dd91a05-143a-45c7-ff82-82ee5f4ccf37"
      },
      "execution_count": null,
      "outputs": [
        {
          "output_type": "stream",
          "name": "stdout",
          "text": [
            "32\n"
          ]
        }
      ]
    },
    {
      "cell_type": "markdown",
      "source": [
        "**3) Outer Product**"
      ],
      "metadata": {
        "id": "lBHtrOIgI2lN"
      }
    },
    {
      "cell_type": "code",
      "source": [
        "import numpy as np\n",
        "\n",
        "a = np.array([1, 2, 3])\n",
        "b = np.array([4, 5, 6])\n",
        "result = np.einsum('i,j->ij', a, b)\n",
        "\n",
        "print(result)\n"
      ],
      "metadata": {
        "colab": {
          "base_uri": "https://localhost:8080/"
        },
        "id": "3VbPunr8-rmO",
        "outputId": "1a9ac28b-6b75-4a68-94e9-f7d5d8c05b44"
      },
      "execution_count": null,
      "outputs": [
        {
          "output_type": "stream",
          "name": "stdout",
          "text": [
            "[[ 4  5  6]\n",
            " [ 8 10 12]\n",
            " [12 15 18]]\n"
          ]
        }
      ]
    },
    {
      "cell_type": "markdown",
      "source": [
        "**4) Scalar Dot Product**"
      ],
      "metadata": {
        "id": "iRiMl9NcJDuO"
      }
    },
    {
      "cell_type": "code",
      "source": [
        "import numpy as np\n",
        "\n",
        "a = np.array([1, 2, 3])\n",
        "s = 2\n",
        "result = np.einsum('i,i->', s*a, a)\n",
        "\n",
        "print(result)\n"
      ],
      "metadata": {
        "colab": {
          "base_uri": "https://localhost:8080/"
        },
        "id": "T4_7b99o-sqK",
        "outputId": "0985f799-8b92-4d71-8ee1-8e7ba0f8e548"
      },
      "execution_count": null,
      "outputs": [
        {
          "output_type": "stream",
          "name": "stdout",
          "text": [
            "28\n"
          ]
        }
      ]
    },
    {
      "cell_type": "markdown",
      "source": [
        "**5) Hadamard Product**"
      ],
      "metadata": {
        "id": "E9cdqIJMJPPH"
      }
    },
    {
      "cell_type": "code",
      "source": [
        "import numpy as np\n",
        "\n",
        "a = np.array([1, 2, 3])\n",
        "b = np.array([4, 5, 6])\n",
        "result = np.einsum('i,i->i', a, b)\n",
        "\n",
        "print(result)\n"
      ],
      "metadata": {
        "colab": {
          "base_uri": "https://localhost:8080/"
        },
        "id": "HYLuFJMg-vR1",
        "outputId": "fc257503-70ea-4712-f1c1-e35f07f68d72"
      },
      "execution_count": null,
      "outputs": [
        {
          "output_type": "stream",
          "name": "stdout",
          "text": [
            "[ 4 10 18]\n"
          ]
        }
      ]
    },
    {
      "cell_type": "markdown",
      "source": [
        "**6) Batch Matrix Multiplication**"
      ],
      "metadata": {
        "id": "Nn3ADayZJWgq"
      }
    },
    {
      "cell_type": "code",
      "source": [
        "import numpy as np\n",
        "\n",
        "A = np.random.randn(3, 4, 5)  # 3 matrices of size 4x5\n",
        "B = np.random.randn(3, 5, 6)  # 3 matrices of size 5x6\n",
        "\n",
        "# Batch matrix multiplication\n",
        "result = np.einsum('ijk,ikl->ijl', A, B)\n",
        "\n",
        "print(result.shape)\n"
      ],
      "metadata": {
        "colab": {
          "base_uri": "https://localhost:8080/"
        },
        "id": "qjYJtRu--0Dz",
        "outputId": "932ab8bc-3add-4366-8b0c-30503242c118"
      },
      "execution_count": null,
      "outputs": [
        {
          "output_type": "stream",
          "name": "stdout",
          "text": [
            "(3, 4, 6)\n"
          ]
        }
      ]
    },
    {
      "cell_type": "markdown",
      "source": [
        "**7) Tensor Reduction**"
      ],
      "metadata": {
        "id": "NoALEBOdRsTl"
      }
    },
    {
      "cell_type": "code",
      "source": [
        "import numpy as np\n",
        "\n",
        "# Create a 3D tensor\n",
        "x = np.random.rand(3, 4, 5)\n",
        "\n",
        "# Sum over the second dimension\n",
        "result = np.einsum('ijk->ik', x)\n",
        "\n",
        "print(result.shape)  \n"
      ],
      "metadata": {
        "colab": {
          "base_uri": "https://localhost:8080/"
        },
        "id": "xIHomCYWRtEj",
        "outputId": "44d2a638-47bc-4edd-ca5f-9b85a348af0f"
      },
      "execution_count": 21,
      "outputs": [
        {
          "output_type": "stream",
          "name": "stdout",
          "text": [
            "(3, 5)\n"
          ]
        }
      ]
    },
    {
      "cell_type": "markdown",
      "source": [
        "**8) Transpose**"
      ],
      "metadata": {
        "id": "BWLjGViiR3VO"
      }
    },
    {
      "cell_type": "code",
      "source": [
        "import numpy as np\n",
        "\n",
        "# Create a matrix\n",
        "x = np.random.rand(3, 4)\n",
        "\n",
        "# Transpose the matrix\n",
        "result = np.einsum('ij->ji', x)\n",
        "\n",
        "print(result.shape) \n"
      ],
      "metadata": {
        "colab": {
          "base_uri": "https://localhost:8080/"
        },
        "id": "w-KmaW28R93S",
        "outputId": "77f77dc4-c60b-4251-f0e8-12e9724b26ee"
      },
      "execution_count": 22,
      "outputs": [
        {
          "output_type": "stream",
          "name": "stdout",
          "text": [
            "(4, 3)\n"
          ]
        }
      ]
    },
    {
      "cell_type": "markdown",
      "source": [
        "**9) Bilinear Transformation**"
      ],
      "metadata": {
        "id": "Uhgjij2dSAjR"
      }
    },
    {
      "cell_type": "code",
      "source": [
        "import numpy as np\n",
        "\n",
        "# Create two vectors\n",
        "x = np.array([1, 2, 3])\n",
        "y = np.array([4, 5, 6])\n",
        "\n",
        "# Create a matrix\n",
        "A = np.random.rand(3, 3)\n",
        "\n",
        "# Compute the bilinear transformation of x and y\n",
        "result = np.einsum('i,j,ij->', x, y, A)\n",
        "\n",
        "print(result)  # a scalar value\n"
      ],
      "metadata": {
        "colab": {
          "base_uri": "https://localhost:8080/"
        },
        "id": "S0fiJuyZSGDT",
        "outputId": "1040b422-d163-4524-f2d9-a04a58d6788f"
      },
      "execution_count": 23,
      "outputs": [
        {
          "output_type": "stream",
          "name": "stdout",
          "text": [
            "63.51655977349586\n"
          ]
        }
      ]
    },
    {
      "cell_type": "markdown",
      "source": [
        "**10) Attention**"
      ],
      "metadata": {
        "id": "RhI9w-roSKwB"
      }
    },
    {
      "cell_type": "code",
      "source": [
        "import numpy as np\n",
        "\n",
        "# Create a batch of input vectors and weights\n",
        "x = np.random.rand(10, 3)\n",
        "w = np.random.rand(3)\n",
        "\n",
        "# Compute the attention weights\n",
        "alpha = np.einsum('ij,j->i', x, w)\n",
        "\n",
        "# Normalize the weights using softmax\n",
        "alpha = np.exp(alpha) / np.sum(np.exp(alpha))\n",
        "\n",
        "# Compute the weighted sum of the input vectors\n",
        "result = np.einsum('ij,i->j', x, alpha)\n",
        "\n",
        "print(result.shape)  \n"
      ],
      "metadata": {
        "colab": {
          "base_uri": "https://localhost:8080/"
        },
        "id": "L-Ay2SPMSPtd",
        "outputId": "8686232f-f9a3-4974-a6bc-3d0cfecf6612"
      },
      "execution_count": 24,
      "outputs": [
        {
          "output_type": "stream",
          "name": "stdout",
          "text": [
            "(3,)\n"
          ]
        }
      ]
    },
    {
      "cell_type": "markdown",
      "source": [
        "**11) Tree-QN**"
      ],
      "metadata": {
        "id": "AGivbusFSaZu"
      }
    },
    {
      "cell_type": "code",
      "source": [
        "import numpy as np\n",
        "\n",
        "# Define the embeddings for the large corpus\n",
        "embeddings_large = np.random.rand(10000, 300)\n",
        "\n",
        "# Define the embeddings for the task-specific corpus\n",
        "embeddings_small = np.random.rand(100, 300)\n",
        "\n",
        "# Compute the pairwise cosine similarities between the large corpus embeddings\n",
        "sims_large = np.einsum('ij,ij->i', embeddings_large, embeddings_large)\n",
        "\n",
        "# Compute the pairwise cosine similarities between the task-specific corpus embeddings\n",
        "sims_small = np.einsum('ij,ij->i', embeddings_small, embeddings_small)\n",
        "\n",
        "# Compute the cosine similarities between the large corpus embeddings and the task-specific corpus embeddings\n",
        "sims_cross = np.einsum('ij,kj->ik', embeddings_small, embeddings_large)\n",
        "\n",
        "# Compute the Tree-QN metric\n",
        "n = len(embeddings_small)\n",
        "diff = np.sum(np.square(sims_cross - np.outer(sims_small, sims_large) / n))\n",
        "tree_qn = np.sqrt(diff / (n * (n - 1)))\n",
        "\n",
        "print(tree_qn)\n"
      ],
      "metadata": {
        "colab": {
          "base_uri": "https://localhost:8080/"
        },
        "id": "5yA-jQ-uTEVe",
        "outputId": "2fd8d212-c0bc-49c8-8cef-43d5f396a71f"
      },
      "execution_count": 25,
      "outputs": [
        {
          "output_type": "stream",
          "name": "stdout",
          "text": [
            "246.7055618347294\n"
          ]
        }
      ]
    }
  ]
}