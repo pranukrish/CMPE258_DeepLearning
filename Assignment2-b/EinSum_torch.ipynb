{
  "nbformat": 4,
  "nbformat_minor": 0,
  "metadata": {
    "colab": {
      "provenance": [],
      "authorship_tag": "ABX9TyObZwVKZysBK1T9EaV2RMcl",
      "include_colab_link": true
    },
    "kernelspec": {
      "name": "python3",
      "display_name": "Python 3"
    },
    "language_info": {
      "name": "python"
    }
  },
  "cells": [
    {
      "cell_type": "markdown",
      "metadata": {
        "id": "view-in-github",
        "colab_type": "text"
      },
      "source": [
        "<a href=\"https://colab.research.google.com/github/pranukrish/CMPE258_DeepLearning/blob/main/Assignment2-b/EinSum_torch.ipynb\" target=\"_parent\"><img src=\"https://colab.research.google.com/assets/colab-badge.svg\" alt=\"Open In Colab\"/></a>"
      ]
    },
    {
      "cell_type": "markdown",
      "source": [
        "#This colab demonstrates the below operations using einsum in Pytorch\n",
        "\n",
        "\n",
        "\n",
        "1.   Scalar Vector Multiplication\n",
        "2.   Vector Vector Multiplications\n",
        "3.   Outer Product\n",
        "4.   Scalar Dot Product\n",
        "5.   Hadamard Product\n",
        "6.   Batch Matrix Multiplication\n",
        "7.   Tensor Reduction\n",
        "8.   Transpose\n",
        "9.   Bilinear Transformation\n",
        "10.   Attention\n",
        "11.   Tree QN\n"
      ],
      "metadata": {
        "id": "7o3iMhIPWTx4"
      }
    },
    {
      "cell_type": "markdown",
      "source": [
        "**a) Scalar-Vector Multiplication**"
      ],
      "metadata": {
        "id": "W3TtpeKuE8zk"
      }
    },
    {
      "cell_type": "code",
      "execution_count": 3,
      "metadata": {
        "colab": {
          "base_uri": "https://localhost:8080/"
        },
        "id": "Ux_qqzOB-g2e",
        "outputId": "9c913163-55e1-48a9-964a-d989032e0778"
      },
      "outputs": [
        {
          "output_type": "stream",
          "name": "stdout",
          "text": [
            "tensor([2, 4, 6])\n"
          ]
        }
      ],
      "source": [
        "import torch\n",
        "\n",
        "a = torch.tensor([1, 2, 3])\n",
        "s = torch.tensor([2])\n",
        "result = torch.einsum('i,j->j', s, a)\n",
        "\n",
        "print(result)\n",
        "\n"
      ]
    },
    {
      "cell_type": "markdown",
      "source": [
        "**b) Vector-Vector multiplications**"
      ],
      "metadata": {
        "id": "31hlf15tFw9w"
      }
    },
    {
      "cell_type": "code",
      "source": [
        "import torch\n",
        "\n",
        "a = torch.tensor([1, 2, 3])\n",
        "b = torch.tensor([4, 5, 6])\n",
        "result = torch.einsum('i,i->', a, b)\n",
        "\n",
        "print(result)\n"
      ],
      "metadata": {
        "colab": {
          "base_uri": "https://localhost:8080/"
        },
        "id": "VM2KOnkN-mM8",
        "outputId": "073270b9-4462-490c-d6d2-7f3df798d16d"
      },
      "execution_count": 4,
      "outputs": [
        {
          "output_type": "stream",
          "name": "stdout",
          "text": [
            "tensor(32)\n"
          ]
        }
      ]
    },
    {
      "cell_type": "markdown",
      "source": [
        "**3) Outer Product**"
      ],
      "metadata": {
        "id": "lBHtrOIgI2lN"
      }
    },
    {
      "cell_type": "code",
      "source": [
        "import torch\n",
        "\n",
        "a = torch.tensor([1, 2, 3])\n",
        "b = torch.tensor([4, 5, 6])\n",
        "result = torch.einsum('i,j->ij', a, b)\n",
        "\n",
        "print(result)\n"
      ],
      "metadata": {
        "colab": {
          "base_uri": "https://localhost:8080/"
        },
        "id": "3VbPunr8-rmO",
        "outputId": "ed862f63-d19e-4930-fe37-04a631c90639"
      },
      "execution_count": 5,
      "outputs": [
        {
          "output_type": "stream",
          "name": "stdout",
          "text": [
            "tensor([[ 4,  5,  6],\n",
            "        [ 8, 10, 12],\n",
            "        [12, 15, 18]])\n"
          ]
        }
      ]
    },
    {
      "cell_type": "markdown",
      "source": [
        "**4) Scalar Dot Product**"
      ],
      "metadata": {
        "id": "iRiMl9NcJDuO"
      }
    },
    {
      "cell_type": "code",
      "source": [
        "import torch\n",
        "\n",
        "a = torch.tensor([1, 2, 3])\n",
        "s = 2\n",
        "result = torch.einsum('i,i->', s*a, a)\n",
        "\n",
        "print(result)\n"
      ],
      "metadata": {
        "colab": {
          "base_uri": "https://localhost:8080/"
        },
        "id": "T4_7b99o-sqK",
        "outputId": "8fe02593-3032-45b9-a26f-988024f03c50"
      },
      "execution_count": 6,
      "outputs": [
        {
          "output_type": "stream",
          "name": "stdout",
          "text": [
            "tensor(28)\n"
          ]
        }
      ]
    },
    {
      "cell_type": "markdown",
      "source": [
        "**5) Hadamard Product**"
      ],
      "metadata": {
        "id": "E9cdqIJMJPPH"
      }
    },
    {
      "cell_type": "code",
      "source": [
        "import torch\n",
        "\n",
        "a = torch.tensor([1, 2, 3])\n",
        "b = torch.tensor([4, 5, 6])\n",
        "result = torch.einsum('i,i->i', a, b)\n",
        "\n",
        "print(result)"
      ],
      "metadata": {
        "colab": {
          "base_uri": "https://localhost:8080/"
        },
        "id": "HYLuFJMg-vR1",
        "outputId": "eb45bdda-09e3-42c5-a678-5adc65025b5f"
      },
      "execution_count": 7,
      "outputs": [
        {
          "output_type": "stream",
          "name": "stdout",
          "text": [
            "tensor([ 4, 10, 18])\n"
          ]
        }
      ]
    },
    {
      "cell_type": "markdown",
      "source": [
        "**6) Batch Matrix Multiplication**"
      ],
      "metadata": {
        "id": "Nn3ADayZJWgq"
      }
    },
    {
      "cell_type": "code",
      "source": [
        "import torch\n",
        "\n",
        "A = torch.randn(3, 4, 5)  # 3 matrices of size 4x5\n",
        "B = torch.randn(3, 5, 6)  # 3 matrices of size 5x6\n",
        "\n",
        "# Batch matrix multiplication\n",
        "result = torch.einsum('ijk,ikl->ijl', A, B)\n",
        "\n",
        "print(result.shape)\n"
      ],
      "metadata": {
        "colab": {
          "base_uri": "https://localhost:8080/"
        },
        "id": "qjYJtRu--0Dz",
        "outputId": "5d94bbc0-7508-4288-cad6-2648c44b6046"
      },
      "execution_count": 8,
      "outputs": [
        {
          "output_type": "stream",
          "name": "stdout",
          "text": [
            "torch.Size([3, 4, 6])\n"
          ]
        }
      ]
    },
    {
      "cell_type": "markdown",
      "source": [
        "**7) Tensor Reduction**"
      ],
      "metadata": {
        "id": "NoALEBOdRsTl"
      }
    },
    {
      "cell_type": "code",
      "source": [
        "import torch\n",
        "\n",
        "# Define a tensor with shape (3, 4, 5)\n",
        "x = torch.randn(3, 4, 5)\n",
        "\n",
        "# Reduce along the first dimension\n",
        "y = torch.einsum('ijk->jk', x)\n",
        "\n",
        "print(y.shape) \n",
        "\n"
      ],
      "metadata": {
        "colab": {
          "base_uri": "https://localhost:8080/"
        },
        "id": "xIHomCYWRtEj",
        "outputId": "9891655e-3a5f-42bc-c628-8427c10a1ae4"
      },
      "execution_count": 9,
      "outputs": [
        {
          "output_type": "stream",
          "name": "stdout",
          "text": [
            "torch.Size([4, 5])\n"
          ]
        }
      ]
    },
    {
      "cell_type": "markdown",
      "source": [
        "**8) Transpose**"
      ],
      "metadata": {
        "id": "BWLjGViiR3VO"
      }
    },
    {
      "cell_type": "code",
      "source": [
        "import torch\n",
        "\n",
        "# Define a tensor with shape (3, 4, 5)\n",
        "x = torch.randn(3, 4, 5)\n",
        "\n",
        "# Transpose the first and second dimensions\n",
        "y = torch.einsum('ijk->jik', x)\n",
        "\n",
        "print(y.shape) \n"
      ],
      "metadata": {
        "colab": {
          "base_uri": "https://localhost:8080/"
        },
        "id": "w-KmaW28R93S",
        "outputId": "31a81a28-afd9-48e7-a900-cad0392358db"
      },
      "execution_count": 10,
      "outputs": [
        {
          "output_type": "stream",
          "name": "stdout",
          "text": [
            "torch.Size([4, 3, 5])\n"
          ]
        }
      ]
    },
    {
      "cell_type": "markdown",
      "source": [
        "**9) Bilinear Transformation**"
      ],
      "metadata": {
        "id": "Uhgjij2dSAjR"
      }
    },
    {
      "cell_type": "code",
      "source": [
        "import torch\n",
        "\n",
        "# Define two tensors with shapes (3, 4) and (5, 4)\n",
        "x = torch.randn(3, 4)\n",
        "y = torch.randn(5, 4)\n",
        "\n",
        "# Compute the bilinear transformation of the two tensors\n",
        "z = torch.einsum('ij,kj->ik', x, y)\n",
        "\n",
        "print(z.shape) \n"
      ],
      "metadata": {
        "colab": {
          "base_uri": "https://localhost:8080/"
        },
        "id": "S0fiJuyZSGDT",
        "outputId": "ee4d85ff-9c51-4870-df22-22a1f9291183"
      },
      "execution_count": 11,
      "outputs": [
        {
          "output_type": "stream",
          "name": "stdout",
          "text": [
            "torch.Size([3, 5])\n"
          ]
        }
      ]
    },
    {
      "cell_type": "markdown",
      "source": [
        "**10) Attention**"
      ],
      "metadata": {
        "id": "RhI9w-roSKwB"
      }
    },
    {
      "cell_type": "code",
      "source": [
        "import torch\n",
        "\n",
        "# Define three tensors with shapes (batch_size, sequence_length, hidden_size)\n",
        "queries = torch.randn(32, 10, 256)\n",
        "keys = torch.randn(32, 20, 256)\n",
        "values = torch.randn(32, 20, 256)\n",
        "\n",
        "# Compute the dot product of queries and keys\n",
        "scores = torch.einsum('bik,bjk->bij', queries, keys)\n",
        "\n",
        "# Normalize the scores with a softmax function\n",
        "scores_normalized = torch.softmax(scores, dim=-1)\n",
        "\n",
        "# Compute the weighted sum of values\n",
        "output = torch.einsum('bij,bjk->bik', scores_normalized, values)\n",
        "\n",
        "print(output.shape) \n"
      ],
      "metadata": {
        "colab": {
          "base_uri": "https://localhost:8080/"
        },
        "id": "L-Ay2SPMSPtd",
        "outputId": "49c73a3f-601b-46c3-b675-c7af2df8e672"
      },
      "execution_count": 12,
      "outputs": [
        {
          "output_type": "stream",
          "name": "stdout",
          "text": [
            "torch.Size([32, 10, 256])\n"
          ]
        }
      ]
    },
    {
      "cell_type": "markdown",
      "source": [
        "**11) Tree-QN**"
      ],
      "metadata": {
        "id": "AGivbusFSaZu"
      }
    },
    {
      "cell_type": "code",
      "source": [
        "import torch\n",
        "\n",
        "# Define the embeddings for the large corpus and the task-specific corpus\n",
        "embeddings_large = torch.randn(10000, 300)\n",
        "embeddings_small = torch.randn(100, 300)\n",
        "\n",
        "# Compute the pairwise cosine similarities between the large corpus embeddings\n",
        "sims_large = torch.einsum('ij,ij->i', embeddings_large, embeddings_large)\n",
        "\n",
        "# Compute the pairwise cosine similarities between the task-specific corpus embeddings\n",
        "sims_small = torch.einsum('ij,ij->i', embeddings_small, embeddings_small)\n",
        "\n",
        "# Compute the cosine similarities between the large corpus embeddings and the task-specific corpus embeddings\n",
        "sims = torch.einsum('ij,kj->ik', embeddings_small, embeddings_large)\n",
        "\n",
        "# Compute the Tree QN matrix\n",
        "tree_qn = torch.einsum('i,ik,l->il', sims_small, sims, sims_large)\n",
        "#tree_qn = torch.einsum('i,ik,jk->ij', sims_small, sims, sims_large)\n",
        "\n",
        "print(tree_qn.shape) \n"
      ],
      "metadata": {
        "colab": {
          "base_uri": "https://localhost:8080/"
        },
        "id": "5yA-jQ-uTEVe",
        "outputId": "e7b2a19b-0b74-4728-c90d-ff4a5e7a0ee4"
      },
      "execution_count": 17,
      "outputs": [
        {
          "output_type": "stream",
          "name": "stdout",
          "text": [
            "torch.Size([100, 10000])\n"
          ]
        }
      ]
    }
  ]
}