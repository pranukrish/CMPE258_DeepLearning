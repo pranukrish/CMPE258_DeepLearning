{
  "nbformat": 4,
  "nbformat_minor": 0,
  "metadata": {
    "colab": {
      "provenance": [],
      "authorship_tag": "ABX9TyP3TvauMZsJxbrWXvYZdoo1",
      "include_colab_link": true
    },
    "kernelspec": {
      "name": "python3",
      "display_name": "Python 3"
    },
    "language_info": {
      "name": "python"
    }
  },
  "cells": [
    {
      "cell_type": "markdown",
      "metadata": {
        "id": "view-in-github",
        "colab_type": "text"
      },
      "source": [
        "<a href=\"https://colab.research.google.com/github/pranukrish/CMPE258_DeepLearning/blob/main/Assignment2-b/EinSum_tensorflow.ipynb\" target=\"_parent\"><img src=\"https://colab.research.google.com/assets/colab-badge.svg\" alt=\"Open In Colab\"/></a>"
      ]
    },
    {
      "cell_type": "markdown",
      "source": [
        "#This colab demonstrates the below operations using einsum in Tensorflow\n",
        "\n",
        "\n",
        "\n",
        "1.   Scalar Vector Multiplication\n",
        "2.   Vector Vector Multiplications\n",
        "3.   Outer Product\n",
        "4.   Scalar Dot Product\n",
        "5.   Hadamard Product\n",
        "6.   Batch Matrix Multiplication\n",
        "7.   Tensor Reduction\n",
        "8.   Transpose\n",
        "9.   Bilinear Transformation\n",
        "10.   Attention\n",
        "11.   Tree QN\n"
      ],
      "metadata": {
        "id": "7o3iMhIPWTx4"
      }
    },
    {
      "cell_type": "code",
      "execution_count": null,
      "metadata": {
        "id": "S4RN1VfppvCY"
      },
      "outputs": [],
      "source": [
        "import tensorflow as tf\n",
        "import torch.nn.functional as F\n",
        "from tensorflow.keras.layers import Dense, Softmax"
      ]
    },
    {
      "cell_type": "markdown",
      "source": [
        "**a) Scalar-Vector Multiplication**"
      ],
      "metadata": {
        "id": "W3TtpeKuE8zk"
      }
    },
    {
      "cell_type": "code",
      "source": [
        "scalar = tf.constant([4])\n",
        "vector = tf.constant([1, 3, 4])\n",
        "print(scalar)\n",
        "print(vector)\n",
        "print(tf.einsum(\"i,j->j\", scalar, vector))\n",
        "\n",
        "scalar = 6\n",
        "vector = tf.constant([3,4,5])\n",
        "print(tf.multiply(scalar, vector))"
      ],
      "metadata": {
        "id": "_3qNrsq5v9Bx",
        "outputId": "71e838e0-27fd-4680-b8b3-68934ec661cc",
        "colab": {
          "base_uri": "https://localhost:8080/"
        }
      },
      "execution_count": null,
      "outputs": [
        {
          "output_type": "stream",
          "name": "stdout",
          "text": [
            "tf.Tensor([4], shape=(1,), dtype=int32)\n",
            "tf.Tensor([1 3 4], shape=(3,), dtype=int32)\n",
            "tf.Tensor([ 4 12 16], shape=(3,), dtype=int32)\n",
            "tf.Tensor([18 24 30], shape=(3,), dtype=int32)\n"
          ]
        }
      ]
    },
    {
      "cell_type": "markdown",
      "source": [
        "**b) Vector-Vector multiplications**"
      ],
      "metadata": {
        "id": "31hlf15tFw9w"
      }
    },
    {
      "cell_type": "code",
      "source": [
        "a = tf.constant([1,2,3])\n",
        "b = tf.constant([4,5,6,7])\n",
        "tf.einsum('i,j->ij', a, b)"
      ],
      "metadata": {
        "colab": {
          "base_uri": "https://localhost:8080/"
        },
        "id": "sR_W4TInzU7f",
        "outputId": "fcdc0402-0589-42a5-85a6-40e3fecb2aa1"
      },
      "execution_count": null,
      "outputs": [
        {
          "output_type": "execute_result",
          "data": {
            "text/plain": [
              "<tf.Tensor: shape=(3, 4), dtype=int32, numpy=\n",
              "array([[ 4,  5,  6,  7],\n",
              "       [ 8, 10, 12, 14],\n",
              "       [12, 15, 18, 21]], dtype=int32)>"
            ]
          },
          "metadata": {},
          "execution_count": 9
        }
      ]
    },
    {
      "cell_type": "markdown",
      "source": [
        "**3) Outer Product**"
      ],
      "metadata": {
        "id": "lBHtrOIgI2lN"
      }
    },
    {
      "cell_type": "code",
      "source": [
        "vector  = tf.constant([1,2,3])\n",
        "matrix = tf.constant([[1,2,3],[1,2,3]])\n",
        "tf.einsum(\"i,ji->j\", vector, matrix)"
      ],
      "metadata": {
        "colab": {
          "base_uri": "https://localhost:8080/"
        },
        "id": "E_E_B7bU9L3Y",
        "outputId": "832b5284-0319-41e4-c287-5f440552406d"
      },
      "execution_count": null,
      "outputs": [
        {
          "output_type": "execute_result",
          "data": {
            "text/plain": [
              "<tf.Tensor: shape=(2,), dtype=int32, numpy=array([14, 14], dtype=int32)>"
            ]
          },
          "metadata": {},
          "execution_count": 10
        }
      ]
    },
    {
      "cell_type": "markdown",
      "source": [
        "**4) Scalar Dot Product**"
      ],
      "metadata": {
        "id": "iRiMl9NcJDuO"
      }
    },
    {
      "cell_type": "code",
      "source": [
        "import torch\n",
        "\n",
        "a = torch.tensor([1, 2, 3])\n",
        "s = 2\n",
        "result = torch.einsum('i,i->', s*a, a)\n",
        "\n",
        "print(result)\n"
      ],
      "metadata": {
        "colab": {
          "base_uri": "https://localhost:8080/"
        },
        "id": "T4_7b99o-sqK",
        "outputId": "8fe02593-3032-45b9-a26f-988024f03c50"
      },
      "execution_count": null,
      "outputs": [
        {
          "output_type": "stream",
          "name": "stdout",
          "text": [
            "tensor(28)\n"
          ]
        }
      ]
    },
    {
      "cell_type": "markdown",
      "source": [
        "**5) Hadamard Product**"
      ],
      "metadata": {
        "id": "E9cdqIJMJPPH"
      }
    },
    {
      "cell_type": "code",
      "source": [
        "mat1 = tf.constant([[1,2,3],[4,5,6]])\n",
        "mat2 = tf.constant([[1,2,3],[4,5,6]])\n",
        "tf.einsum(\"ij,ij->ij\",mat1,mat2)"
      ],
      "metadata": {
        "colab": {
          "base_uri": "https://localhost:8080/"
        },
        "id": "2_czURGd-GrQ",
        "outputId": "a722f3ff-25c2-4d38-f7f7-dc22112cebf7"
      },
      "execution_count": null,
      "outputs": [
        {
          "output_type": "execute_result",
          "data": {
            "text/plain": [
              "<tf.Tensor: shape=(2, 3), dtype=int32, numpy=\n",
              "array([[ 1,  4,  9],\n",
              "       [16, 25, 36]], dtype=int32)>"
            ]
          },
          "metadata": {},
          "execution_count": 11
        }
      ]
    },
    {
      "cell_type": "markdown",
      "source": [
        "**6) Batch Matrix Multiplication**"
      ],
      "metadata": {
        "id": "Nn3ADayZJWgq"
      }
    },
    {
      "cell_type": "code",
      "source": [
        "a = tf.random.uniform(shape=(3,2,5), minval=-10.0, maxval=10.0)\n",
        "b = tf.random.uniform(shape=(3,5,3), minval=-10.0, maxval=10.0)\n",
        "print(a)\n",
        "print(b)\n",
        "tf.einsum('ijk,ikl->ijl', a, b)"
      ],
      "metadata": {
        "colab": {
          "base_uri": "https://localhost:8080/"
        },
        "outputId": "c9ae6bfc-371a-479b-984e-1112a3bf079b",
        "id": "bU0dRF7LnWE2"
      },
      "execution_count": null,
      "outputs": [
        {
          "output_type": "stream",
          "name": "stdout",
          "text": [
            "tf.Tensor(\n",
            "[[[ 0.2541685   7.8953934  -8.42758    -9.780831    8.763466  ]\n",
            "  [ 3.567195    8.728798    7.8437138  -7.973497    4.3910294 ]]\n",
            "\n",
            " [[ 2.776904    1.3952045   1.5529842  -1.4512081   0.29194355]\n",
            "  [-8.382516   -0.1637268   4.0471954   1.9388466   3.5329008 ]]\n",
            "\n",
            " [[ 7.2604084   2.9894428   2.7903385   0.08502197  1.1647177 ]\n",
            "  [ 7.398144    7.597786   -1.4556217  -2.7853703   7.671425  ]]], shape=(3, 2, 5), dtype=float32)\n",
            "tf.Tensor(\n",
            "[[[-0.58499146  6.2910385  -8.025892  ]\n",
            "  [-8.497481    2.7615356   6.6413803 ]\n",
            "  [-3.168826    0.640769    0.80663204]\n",
            "  [-5.126536   -4.3568087  -4.2745996 ]\n",
            "  [ 3.4997368   8.674116   -4.6977615 ]]\n",
            "\n",
            " [[ 2.006693   -6.6270566  -0.5589504 ]\n",
            "  [ 6.9808807   6.6144466   3.143608  ]\n",
            "  [-7.785518   -7.4216795  -5.1826644 ]\n",
            "  [ 1.4026909   2.2329903  -7.347367  ]\n",
            "  [-7.9124546   9.204905   -1.7181826 ]]\n",
            "\n",
            " [[ 7.0373173  -1.4391117   3.3779354 ]\n",
            "  [-1.7139959   9.086187   -6.4780426 ]\n",
            "  [ 5.9033756  -3.8361096  -5.0154376 ]\n",
            "  [ 7.9668846   3.9908142   6.534397  ]\n",
            "  [ 5.556963    7.449711    0.28258514]]], shape=(3, 5, 3), dtype=float32)\n"
          ]
        },
        {
          "output_type": "execute_result",
          "data": {
            "text/plain": [
              "<tf.Tensor: shape=(3, 2, 3), dtype=float32, numpy=\n",
              "array([[[ 40.277496 , 136.6308   ,  44.238888 ],\n",
              "        [-44.87108  , 124.39957  ,  49.12384  ]],\n",
              "\n",
              "       [[ -1.1242225, -21.253166 ,   4.9461746],\n",
              "        [-74.707924 ,  61.2809   , -37.120125 ]],\n",
              "\n",
              "       [[ 69.59197  ,  15.026173 ,  -7.950617 ],\n",
              "        [ 50.886528 , 110.00607  , -32.960632 ]]], dtype=float32)>"
            ]
          },
          "metadata": {},
          "execution_count": 12
        }
      ]
    },
    {
      "cell_type": "markdown",
      "source": [
        "**7) Tensor Reduction**"
      ],
      "metadata": {
        "id": "NoALEBOdRsTl"
      }
    },
    {
      "cell_type": "code",
      "source": [
        "a = tf.random.uniform(shape=(2,17,5,7), minval=-10.0, maxval=10.0)\n",
        "b = tf.random.uniform(shape=(11,2,4,17,6), minval=-10.0, maxval=10.0)\n",
        "\n",
        "tf.einsum('pqrs,tpwqm->rstwm', a, b).shape"
      ],
      "metadata": {
        "colab": {
          "base_uri": "https://localhost:8080/"
        },
        "outputId": "9c052519-8809-4a82-fdb7-49657da5c144",
        "id": "OrpQHfVVndRA"
      },
      "execution_count": null,
      "outputs": [
        {
          "output_type": "execute_result",
          "data": {
            "text/plain": [
              "TensorShape([5, 7, 11, 4, 6])"
            ]
          },
          "metadata": {},
          "execution_count": 13
        }
      ]
    },
    {
      "cell_type": "markdown",
      "source": [
        "**8) Transpose**"
      ],
      "metadata": {
        "id": "BWLjGViiR3VO"
      }
    },
    {
      "cell_type": "code",
      "source": [
        "print(tf.einsum(\"ij -> ji\", x))"
      ],
      "metadata": {
        "colab": {
          "base_uri": "https://localhost:8080/"
        },
        "outputId": "87ff74e8-0930-4c0d-e4a6-590281fc0ac8",
        "id": "KEXeb8QkmqM1"
      },
      "execution_count": null,
      "outputs": [
        {
          "output_type": "stream",
          "name": "stdout",
          "text": [
            "tf.Tensor(\n",
            "[[-9.445949  -1.5855675]\n",
            " [-1.4914627 -4.36615  ]\n",
            " [-5.994127  -3.192091 ]], shape=(3, 2), dtype=float32)\n"
          ]
        }
      ]
    },
    {
      "cell_type": "markdown",
      "source": [
        "**9) Bilinear Transformation**"
      ],
      "metadata": {
        "id": "Uhgjij2dSAjR"
      }
    },
    {
      "cell_type": "code",
      "source": [
        "a = tf.random.uniform(shape=(2,3), minval=-10.0, maxval=10.0)\n",
        "b = tf.random.uniform(shape=(5,3,7), minval=-10.0, maxval=10.0)\n",
        "c = tf.random.uniform(shape=(2,7), minval=-10.0, maxval=10.0)\n",
        "tf.einsum('ik,jkl,il->ij', a, b, c)"
      ],
      "metadata": {
        "colab": {
          "base_uri": "https://localhost:8080/"
        },
        "outputId": "635b48db-019b-4b95-e245-d700e989e216",
        "id": "5ch9jbXhnH2B"
      },
      "execution_count": null,
      "outputs": [
        {
          "output_type": "execute_result",
          "data": {
            "text/plain": [
              "<tf.Tensor: shape=(2, 5), dtype=float32, numpy=\n",
              "array([[ -355.03607 ,  2456.266   ,  -607.8041  ,  -703.4442  ,\n",
              "         1162.8785  ],\n",
              "       [  -16.474762,  -812.6148  ,   989.0173  ,   403.2178  ,\n",
              "        -1179.567   ]], dtype=float32)>"
            ]
          },
          "metadata": {},
          "execution_count": 14
        }
      ]
    },
    {
      "cell_type": "markdown",
      "source": [
        "**10) Attention**"
      ],
      "metadata": {
        "id": "RhI9w-roSKwB"
      }
    },
    {
      "cell_type": "code",
      "source": [
        "bM, br, w = random_tensors([7], num=3, requires_grad=True)\n",
        "WY, Wh, Wr, Wt = random_tensors([7, 7], num=4, requires_grad=True)\n",
        "\n",
        "print(bM, br, w)\n",
        "print(WY, Wh, Wr, Wt)\n",
        "\n",
        "def attention(Y, ht, rt1):\n",
        "    \n",
        "    #tanh return a new tensor with the hyperbolic tangent of the given input\n",
        "    #unsqueeze is to get a tensor add insert an additional dimension at the given position\n",
        "    tmp = tf.einsum(\"ik,kl->il\", ht, Wh) + tf.einsum(\"ik,kl->il\", rt1, Wr)\n",
        "    Mt = tf.math.tanh(tf.einsum(\"ijk,kl->ijl\", Y, WY) + tf.expand_dims(tmp, 1) + bM)\n",
        "    \n",
        "    #applying softmax : expression/sigma expression\n",
        "    at = Softmax(axis=1)(tf.einsum(\"ijk,k->ij\", Mt, w))\n",
        "    \n",
        "    \n",
        "    rt = tf.einsum(\"ijk,ij->ik\", Y, at) + tf.math.tanh(tf.einsum(\"ij,jk->ik\", rt1, Wt) + br)\n",
        "    \n",
        "    return rt, at\n",
        "\n",
        "Y = tf.constant(tf.random.normal([3, 5, 7]))\n",
        "\n",
        "ht, rt1 = random_tensors([3, 7], num=2)\n",
        "\n",
        "print(ht)\n",
        "print(rt1)\n",
        "\n",
        "rt, at = attention(Y, ht, rt1)\n",
        "print(at) "
      ],
      "metadata": {
        "colab": {
          "base_uri": "https://localhost:8080/"
        },
        "outputId": "f3034b77-1ec0-4df1-f310-9f860dce9933",
        "id": "S5Edubt5m4wv"
      },
      "execution_count": null,
      "outputs": [
        {
          "output_type": "stream",
          "name": "stdout",
          "text": [
            "<tf.Variable 'Variable:0' shape=(7,) dtype=float32, numpy=\n",
            "array([-0.04998465,  0.6842691 , -0.19926485, -0.5937128 ,  0.4735706 ,\n",
            "       -1.3880353 ,  0.23904517], dtype=float32)> <tf.Variable 'Variable:0' shape=(7,) dtype=float32, numpy=\n",
            "array([-0.30687287,  0.07625407,  1.685044  ,  0.24431336, -0.11394605,\n",
            "        0.6287942 , -0.7672582 ], dtype=float32)> <tf.Variable 'Variable:0' shape=(7,) dtype=float32, numpy=\n",
            "array([-1.3750788 ,  1.4400314 , -0.7351835 ,  0.6862943 ,  0.52089906,\n",
            "        0.7646337 , -0.36845043], dtype=float32)>\n",
            "<tf.Variable 'Variable:0' shape=(7, 7) dtype=float32, numpy=\n",
            "array([[-0.66859835, -0.26166663,  0.4333114 ,  0.90375   , -0.76918316,\n",
            "        -0.8667706 , -1.3205879 ],\n",
            "       [ 0.30185565, -0.3002777 ,  0.07431067, -1.09158   ,  0.12638527,\n",
            "         0.0769187 , -1.064051  ],\n",
            "       [ 2.4975307 ,  0.43343407,  1.206616  ,  1.3718984 ,  0.9905324 ,\n",
            "        -1.6093754 ,  0.7699465 ],\n",
            "       [-2.321177  ,  0.8535951 , -0.6347902 , -0.556702  , -0.78069746,\n",
            "         1.0637277 ,  1.6072365 ],\n",
            "       [ 0.73064154, -0.30688584,  0.4030293 , -0.53434944,  0.59178674,\n",
            "         0.33700183,  1.5723444 ],\n",
            "       [ 0.19836023,  1.7252733 , -0.970961  ,  0.70183754,  0.9432715 ,\n",
            "        -0.16502357,  0.49050263],\n",
            "       [-1.3956031 , -2.0471325 ,  0.64126796, -1.8206161 ,  0.71104115,\n",
            "        -0.7240336 ,  0.42757663]], dtype=float32)> <tf.Variable 'Variable:0' shape=(7, 7) dtype=float32, numpy=\n",
            "array([[ 0.6752977 , -0.16201243,  0.3892527 ,  0.42072323,  0.47278655,\n",
            "         0.65901846, -0.9466039 ],\n",
            "       [-0.01374535,  2.0198486 ,  2.0975404 , -0.3240477 , -0.69692534,\n",
            "         1.2316839 , -0.85722554],\n",
            "       [-1.1136079 ,  1.2633306 ,  0.5692717 ,  0.10187656, -0.10683453,\n",
            "        -1.1858586 , -0.7793091 ],\n",
            "       [-0.51883715,  0.43157905, -1.2670326 ,  0.01099996,  0.07022639,\n",
            "         0.73494494,  1.3971695 ],\n",
            "       [ 2.8285103 ,  0.5841728 ,  0.8776565 , -0.563865  , -0.49860638,\n",
            "         0.48635483, -1.3010755 ],\n",
            "       [ 0.27948278, -0.11103033, -0.66142416, -0.44566035, -0.277134  ,\n",
            "        -1.1258037 ,  1.4071606 ],\n",
            "       [-0.9617396 ,  0.9292295 , -0.05424484, -0.17268082, -0.19981295,\n",
            "        -0.5252704 ,  1.781151  ]], dtype=float32)> <tf.Variable 'Variable:0' shape=(7, 7) dtype=float32, numpy=\n",
            "array([[-0.48455083, -0.6061954 ,  0.06898703,  1.0031525 ,  1.1710602 ,\n",
            "         0.9964535 , -0.95482635],\n",
            "       [-1.3090168 , -1.278043  , -1.5910277 ,  0.46768937,  1.2252016 ,\n",
            "         0.88389236,  0.32146257],\n",
            "       [-2.184241  ,  0.34543645,  0.09341681, -2.1075456 , -0.4198336 ,\n",
            "         0.14500116, -0.21544361],\n",
            "       [ 0.40600336, -1.0020577 ,  0.13090585,  0.45619345,  0.89632   ,\n",
            "        -0.7249297 , -0.268355  ],\n",
            "       [-0.5757343 ,  0.3648892 ,  0.6454882 ,  0.7782377 , -1.6439387 ,\n",
            "         0.47636515, -1.5661161 ],\n",
            "       [-0.40926254, -0.6650536 , -0.26233816, -1.023756  , -0.78986603,\n",
            "        -0.85703176, -1.1828823 ],\n",
            "       [-1.2451975 , -2.2337446 ,  0.63685054,  0.08066074,  0.82107073,\n",
            "         1.3883209 , -0.02937113]], dtype=float32)> <tf.Variable 'Variable:0' shape=(7, 7) dtype=float32, numpy=\n",
            "array([[ 1.2881835 ,  1.3497179 ,  0.29765368,  0.9226171 , -0.64246327,\n",
            "        -1.43023   , -0.51170427],\n",
            "       [-0.57582694,  0.13191198,  1.4920872 ,  1.3541415 , -1.0098683 ,\n",
            "        -0.7364136 , -0.6429504 ],\n",
            "       [ 0.5709677 , -1.6443788 , -0.3040584 ,  1.6897647 ,  0.3103012 ,\n",
            "         0.00982743, -0.37834024],\n",
            "       [-0.8497462 ,  0.80476815, -0.11421462, -0.06935272, -1.4100678 ,\n",
            "        -0.8393745 ,  0.13948078],\n",
            "       [ 1.7647355 ,  1.7784323 ,  1.3448011 ,  0.5698432 , -0.565452  ,\n",
            "        -0.60064495, -0.48753232],\n",
            "       [ 0.28452337, -0.9690267 , -0.7425794 , -1.1009175 ,  0.8863661 ,\n",
            "        -0.01752114,  0.5477427 ],\n",
            "       [ 0.4886195 , -0.8372991 ,  0.8113848 ,  0.7027275 , -0.21155761,\n",
            "        -0.9598504 ,  1.4208169 ]], dtype=float32)>\n",
            "<tf.Variable 'Variable:0' shape=(3, 7) dtype=float32, numpy=\n",
            "array([[ 0.71075183,  1.6117982 ,  0.83845884,  0.98136735,  0.70239836,\n",
            "         0.12248471, -0.75488585],\n",
            "       [ 1.1965715 , -0.5963921 , -0.14927675,  0.43867543, -1.5566729 ,\n",
            "        -0.581987  ,  1.3009478 ],\n",
            "       [-0.12142963,  0.17746045, -1.6219268 ,  0.3433696 , -0.4398442 ,\n",
            "         1.4846182 ,  0.5018036 ]], dtype=float32)>\n",
            "<tf.Variable 'Variable:0' shape=(3, 7) dtype=float32, numpy=\n",
            "array([[ 0.2718226 ,  1.5358766 ,  0.8892536 , -0.51156914, -0.3302069 ,\n",
            "        -0.03616261, -1.6077731 ],\n",
            "       [ 0.49382797,  0.79005617,  0.36415502,  0.8734943 , -0.46287587,\n",
            "        -1.1563618 , -1.3884861 ],\n",
            "       [-0.1701911 ,  1.0339028 , -0.888154  , -0.252799  , -0.17825411,\n",
            "         2.1414325 , -1.3117055 ]], dtype=float32)>\n",
            "tf.Tensor(\n",
            "[[0.38267437 0.4943243  0.01060711 0.08487707 0.02751713]\n",
            " [0.41643396 0.01167275 0.16292158 0.3918548  0.01711691]\n",
            " [0.09233142 0.15578437 0.02446857 0.02387341 0.70354223]], shape=(3, 5), dtype=float32)\n"
          ]
        }
      ]
    },
    {
      "cell_type": "markdown",
      "source": [
        "**11) Tree-QN**"
      ],
      "metadata": {
        "id": "AGivbusFSaZu"
      }
    },
    {
      "cell_type": "code",
      "source": [
        "# Parameters\n",
        "# -- [num_actions x hidden_dimension]\n",
        "b = tf.Variable(tf.random.normal([5, 3]))\n",
        "# -- [num_actions x hidden_dimension x hidden_dimension]\n",
        "W = tf.Variable(tf.random.normal([5, 3, 3]))\n",
        "\n",
        "print(b)\n",
        "print(W)\n",
        "\n",
        "def transition(zl):\n",
        "  # -- [batch_size x num_actions x hidden_dimension]\n",
        "  return tf.expand_dims(zl, axis=1) + tf.math.tanh(tf.einsum(\"bk,aki->bai\", zl, W) + b)\n",
        "\n",
        "# Sampled dummy inputs\n",
        "# -- [batch_size x hidden_dimension]\n",
        "zl = tf.random.normal([2, 3])\n",
        "\n",
        "print(zl)\n",
        "print(transition(zl))\n",
        "\n",
        "print(zl)"
      ],
      "metadata": {
        "colab": {
          "base_uri": "https://localhost:8080/"
        },
        "outputId": "a5d45f8e-08cf-4b25-fdfe-6d6c25ba3f08",
        "id": "Zz49DNZOmxdR"
      },
      "execution_count": null,
      "outputs": [
        {
          "output_type": "stream",
          "name": "stdout",
          "text": [
            "<tf.Variable 'Variable:0' shape=(5, 3) dtype=float32, numpy=\n",
            "array([[-1.9562919 ,  0.12045093, -1.2120464 ],\n",
            "       [ 1.2429549 , -0.8839163 , -0.31442255],\n",
            "       [ 0.03016904, -1.1759588 , -0.49798042],\n",
            "       [ 0.99359417,  2.1689136 ,  1.0205982 ],\n",
            "       [-1.2921035 ,  0.18344359, -0.17415787]], dtype=float32)>\n",
            "<tf.Variable 'Variable:0' shape=(5, 3, 3) dtype=float32, numpy=\n",
            "array([[[ 0.06897929, -0.9274958 , -0.33749667],\n",
            "        [ 0.9238671 , -1.3626378 ,  0.73449755],\n",
            "        [ 0.19184135, -0.5388543 ,  1.0990243 ]],\n",
            "\n",
            "       [[-0.09707427,  0.79606813, -0.02579636],\n",
            "        [-0.8147048 , -1.3487798 ,  0.6803449 ],\n",
            "        [-1.2734554 , -0.56676716,  0.3548572 ]],\n",
            "\n",
            "       [[-0.14542772,  1.1232524 , -0.34243685],\n",
            "        [-1.4205145 ,  0.59253556,  0.23857316],\n",
            "        [-1.3421371 , -0.3505149 ,  0.17085189]],\n",
            "\n",
            "       [[-0.35782248, -0.08813392, -0.3321507 ],\n",
            "        [-0.61321956,  0.6366898 ,  1.6965084 ],\n",
            "        [ 0.5067405 ,  2.0297093 , -0.29067346]],\n",
            "\n",
            "       [[-0.05708369, -1.503445  , -0.12683778],\n",
            "        [ 1.6616107 ,  0.03513269, -1.2032849 ],\n",
            "        [ 0.85564476,  2.0520365 , -1.2401507 ]]], dtype=float32)>\n",
            "tf.Tensor(\n",
            "[[-0.54344946  0.2566047  -0.9199531 ]\n",
            " [-2.7963297   2.145453   -0.5028023 ]], shape=(2, 3), dtype=float32)\n",
            "tf.Tensor(\n",
            "[[[-1.5024405   0.9038594  -1.8718128 ]\n",
            "  [ 0.434929   -0.55822766 -1.343721  ]\n",
            "  [ 0.2093541  -0.6081469  -1.3065902 ]\n",
            "  [-0.03212601  0.72884524  0.03661221]\n",
            "  [-1.4683427  -0.44894794 -0.2987978 ]]\n",
            "\n",
            " [[-3.0539198   2.2068725   0.13528663]\n",
            "  [-2.4105842   1.1454744   0.27466583]\n",
            "  [-3.7555442   1.1518689   0.20637596]\n",
            "  [-2.3962367   3.1374862   0.497177  ]\n",
            "  [-1.8321464   3.1433623  -1.4472297 ]]], shape=(2, 5, 3), dtype=float32)\n",
            "tf.Tensor(\n",
            "[[-0.54344946  0.2566047  -0.9199531 ]\n",
            " [-2.7963297   2.145453   -0.5028023 ]], shape=(2, 3), dtype=float32)\n"
          ]
        }
      ]
    }
  ]
}