{
  "nbformat": 4,
  "nbformat_minor": 0,
  "metadata": {
    "colab": {
      "provenance": [],
      "authorship_tag": "ABX9TyMe24FVYKVjmESNM4TtcYrE",
      "include_colab_link": true
    },
    "kernelspec": {
      "name": "python3",
      "display_name": "Python 3"
    },
    "language_info": {
      "name": "python"
    }
  },
  "cells": [
    {
      "cell_type": "markdown",
      "metadata": {
        "id": "view-in-github",
        "colab_type": "text"
      },
      "source": [
        "<a href=\"https://colab.research.google.com/github/pranukrish/CMPE258_DeepLearning/blob/main/Assignment4/RegularizationTechniques.ipynb\" target=\"_parent\"><img src=\"https://colab.research.google.com/assets/colab-badge.svg\" alt=\"Open In Colab\"/></a>"
      ]
    },
    {
      "cell_type": "markdown",
      "source": [
        "\n",
        "\n",
        "**Aim: Illustrate use of various activation functions, dropouts, learning rate schedulers , regularization techniques like gradient clipping, batch normalization, early stopping, l1 and l2 regularizations, optimizers on simple data set**"
      ],
      "metadata": {
        "id": "TcZJmrsduKeS"
      }
    },
    {
      "cell_type": "code",
      "execution_count": null,
      "metadata": {
        "id": "x5cgZCv6th-N"
      },
      "outputs": [],
      "source": [
        "import sys\n",
        "assert sys.version_info >= (3, 5)\n",
        "import sklearn\n",
        "assert sklearn.__version__ >= \"0.20\"\n",
        "\n",
        "import numpy as np\n",
        "import os\n",
        "\n",
        "np.random.seed(42)\n",
        "\n",
        "\n",
        "%matplotlib inline\n",
        "import matplotlib as mpl\n",
        "import matplotlib.pyplot as plt\n",
        "mpl.rc('axes', labelsize=14)\n",
        "mpl.rc('xtick', labelsize=12)\n",
        "mpl.rc('ytick', labelsize=12)\n",
        "\n",
        "PROJECT_ROOT_DIR = \".\"\n",
        "CHAPTER_ID = \"deep\"\n",
        "IMAGES_PATH = os.path.join(PROJECT_ROOT_DIR, \"images\", CHAPTER_ID)\n",
        "os.makedirs(IMAGES_PATH, exist_ok=True)\n",
        "\n",
        "def save_fig(fig_id, tight_layout=True, fig_extension=\"png\", resolution=300):\n",
        "    path = os.path.join(IMAGES_PATH, fig_id + \".\" + fig_extension)\n",
        "    print(\"Saving figure\", fig_id)\n",
        "    if tight_layout:\n",
        "        plt.tight_layout()\n",
        "    plt.savefig(path, format=fig_extension, dpi=resolution)"
      ]
    },
    {
      "cell_type": "code",
      "source": [
        "import tensorflow as tf\n",
        "from tensorflow import keras\n",
        "[name for name in dir(keras.initializers) if not name.startswith(\"_\")]"
      ],
      "metadata": {
        "colab": {
          "base_uri": "https://localhost:8080/"
        },
        "id": "W-c7tBiOu4HI",
        "outputId": "64eaa8a1-30a1-4a81-f406-6a6290c8b103"
      },
      "execution_count": null,
      "outputs": [
        {
          "output_type": "execute_result",
          "data": {
            "text/plain": [
              "['Constant',\n",
              " 'GlorotNormal',\n",
              " 'GlorotUniform',\n",
              " 'HeNormal',\n",
              " 'HeUniform',\n",
              " 'Identity',\n",
              " 'Initializer',\n",
              " 'LecunNormal',\n",
              " 'LecunUniform',\n",
              " 'Ones',\n",
              " 'Orthogonal',\n",
              " 'RandomNormal',\n",
              " 'RandomUniform',\n",
              " 'TruncatedNormal',\n",
              " 'VarianceScaling',\n",
              " 'Zeros',\n",
              " 'constant',\n",
              " 'deserialize',\n",
              " 'get',\n",
              " 'glorot_normal',\n",
              " 'glorot_uniform',\n",
              " 'he_normal',\n",
              " 'he_uniform',\n",
              " 'identity',\n",
              " 'lecun_normal',\n",
              " 'lecun_uniform',\n",
              " 'ones',\n",
              " 'orthogonal',\n",
              " 'random_normal',\n",
              " 'random_uniform',\n",
              " 'serialize',\n",
              " 'truncated_normal',\n",
              " 'variance_scaling',\n",
              " 'zeros']"
            ]
          },
          "metadata": {},
          "execution_count": 19
        }
      ]
    },
    {
      "cell_type": "code",
      "source": [
        "# Dense layer with \"Relu \" activation\n",
        "keras.layers.Dense(20, activation=\"relu\", kernel_initializer=\"he_normal\")"
      ],
      "metadata": {
        "colab": {
          "base_uri": "https://localhost:8080/"
        },
        "id": "cNLsE96su6Mo",
        "outputId": "c96da3d0-71a1-40e1-f948-fff755c451a2"
      },
      "execution_count": null,
      "outputs": [
        {
          "output_type": "execute_result",
          "data": {
            "text/plain": [
              "<keras.layers.core.dense.Dense at 0x7f6312526650>"
            ]
          },
          "metadata": {},
          "execution_count": 20
        }
      ]
    },
    {
      "cell_type": "markdown",
      "source": [
        "###Activation functions over Fasion-MNIST dataset\n",
        "\n",
        "---\n",
        "1) PReLu\n"
      ],
      "metadata": {
        "id": "qmvkU9ouvCyw"
      }
    },
    {
      "cell_type": "code",
      "source": [
        "#Loading the dataset into validation and training sets\n",
        "(X_train_full, y_train_full), (X_test, y_test) = keras.datasets.fashion_mnist.load_data()\n",
        "X_train_full = X_train_full / 255.0\n",
        "X_test = X_test / 255.0 # Scaling the data \n",
        "X_valid, X_train = X_train_full[:5000], X_train_full[5000:]\n",
        "y_valid, y_train = y_train_full[:5000], y_train_full[5000:]"
      ],
      "metadata": {
        "id": "8Jhukec1u_93"
      },
      "execution_count": null,
      "outputs": []
    },
    {
      "cell_type": "code",
      "source": [
        "tf.random.set_seed(42)\n",
        "np.random.seed(42)\n",
        "# Creating the sequential model and adding different layers \n",
        "model = keras.models.Sequential([\n",
        "    keras.layers.Flatten(input_shape=[28, 28]),\n",
        "    keras.layers.Dense(300, kernel_initializer=\"he_normal\"),\n",
        "    keras.layers.PReLU(),\n",
        "    keras.layers.Dense(100, kernel_initializer=\"he_normal\"),\n",
        "    keras.layers.PReLU(),\n",
        "    keras.layers.Dense(10, activation=\"softmax\")\n",
        "])"
      ],
      "metadata": {
        "id": "5_2lh3HDu_1q"
      },
      "execution_count": null,
      "outputs": []
    },
    {
      "cell_type": "code",
      "source": [
        "#Compiling the built model\n",
        "model.compile(loss=\"sparse_categorical_crossentropy\",\n",
        "              optimizer=keras.optimizers.SGD(learning_rate=1e-3),\n",
        "              metrics=[\"accuracy\"])"
      ],
      "metadata": {
        "id": "sZP4GzX-u_5S"
      },
      "execution_count": null,
      "outputs": []
    },
    {
      "cell_type": "code",
      "source": [
        "#Compiling the built model\n",
        "model.compile(loss=\"sparse_categorical_crossentropy\",\n",
        "              optimizer=keras.optimizers.SGD(learning_rate=1e-3),\n",
        "              metrics=[\"accuracy\"])"
      ],
      "metadata": {
        "id": "4NgP6P1mvjtU"
      },
      "execution_count": null,
      "outputs": []
    },
    {
      "cell_type": "code",
      "source": [
        "#Training(fitting) model over MNIST dataset(training dataset) at 15 Epochs\n",
        "\n",
        "history = model.fit(X_train, y_train, epochs=15,\n",
        "                    validation_data=(X_valid, y_valid))"
      ],
      "metadata": {
        "colab": {
          "base_uri": "https://localhost:8080/"
        },
        "id": "rm7VS0YBvjpz",
        "outputId": "9e8152c4-30f2-4fc6-ca49-d5026bc6673a"
      },
      "execution_count": null,
      "outputs": [
        {
          "output_type": "stream",
          "name": "stdout",
          "text": [
            "Epoch 1/15\n",
            "1719/1719 [==============================] - 8s 4ms/step - loss: 1.3461 - accuracy: 0.6209 - val_loss: 0.9255 - val_accuracy: 0.7186\n",
            "Epoch 2/15\n",
            "1719/1719 [==============================] - 7s 4ms/step - loss: 0.8197 - accuracy: 0.7355 - val_loss: 0.7305 - val_accuracy: 0.7632\n",
            "Epoch 3/15\n",
            "1719/1719 [==============================] - 7s 4ms/step - loss: 0.6966 - accuracy: 0.7693 - val_loss: 0.6565 - val_accuracy: 0.7880\n",
            "Epoch 4/15\n",
            "1719/1719 [==============================] - 7s 4ms/step - loss: 0.6331 - accuracy: 0.7909 - val_loss: 0.6003 - val_accuracy: 0.8046\n",
            "Epoch 5/15\n",
            "1719/1719 [==============================] - 8s 5ms/step - loss: 0.5917 - accuracy: 0.8057 - val_loss: 0.5656 - val_accuracy: 0.8180\n",
            "Epoch 6/15\n",
            "1719/1719 [==============================] - 7s 4ms/step - loss: 0.5618 - accuracy: 0.8134 - val_loss: 0.5406 - val_accuracy: 0.8238\n",
            "Epoch 7/15\n",
            "1719/1719 [==============================] - 7s 4ms/step - loss: 0.5390 - accuracy: 0.8205 - val_loss: 0.5196 - val_accuracy: 0.8312\n",
            "Epoch 8/15\n",
            "1719/1719 [==============================] - 7s 4ms/step - loss: 0.5213 - accuracy: 0.8258 - val_loss: 0.5113 - val_accuracy: 0.8318\n",
            "Epoch 9/15\n",
            "1719/1719 [==============================] - 7s 4ms/step - loss: 0.5070 - accuracy: 0.8289 - val_loss: 0.4916 - val_accuracy: 0.8380\n",
            "Epoch 10/15\n",
            "1719/1719 [==============================] - 7s 4ms/step - loss: 0.4945 - accuracy: 0.8315 - val_loss: 0.4826 - val_accuracy: 0.8396\n",
            "Epoch 11/15\n",
            "1719/1719 [==============================] - 7s 4ms/step - loss: 0.4839 - accuracy: 0.8352 - val_loss: 0.4724 - val_accuracy: 0.8440\n",
            "Epoch 12/15\n",
            "1719/1719 [==============================] - 7s 4ms/step - loss: 0.4748 - accuracy: 0.8369 - val_loss: 0.4654 - val_accuracy: 0.8452\n",
            "Epoch 13/15\n",
            "1719/1719 [==============================] - 7s 4ms/step - loss: 0.4670 - accuracy: 0.8400 - val_loss: 0.4582 - val_accuracy: 0.8482\n",
            "Epoch 14/15\n",
            "1719/1719 [==============================] - 7s 4ms/step - loss: 0.4599 - accuracy: 0.8413 - val_loss: 0.4544 - val_accuracy: 0.8474\n",
            "Epoch 15/15\n",
            "1719/1719 [==============================] - 7s 4ms/step - loss: 0.4536 - accuracy: 0.8435 - val_loss: 0.4456 - val_accuracy: 0.8516\n"
          ]
        }
      ]
    },
    {
      "cell_type": "markdown",
      "source": [
        "#####2) SeLu"
      ],
      "metadata": {
        "id": "ou7DPQgOvosd"
      }
    },
    {
      "cell_type": "code",
      "source": [
        "np.random.seed(42)\n",
        "tf.random.set_seed(42)"
      ],
      "metadata": {
        "id": "likwrhC3vjnQ"
      },
      "execution_count": null,
      "outputs": []
    },
    {
      "cell_type": "code",
      "source": [
        "# Inside the sequential layer, we will add about 50 dense layers with \"selu\" activation function \n",
        "model = keras.models.Sequential()\n",
        "model.add(keras.layers.Flatten(input_shape=[28, 28]))\n",
        "model.add(keras.layers.Dense(300, activation=\"selu\",\n",
        "                             kernel_initializer=\"lecun_normal\"))\n",
        "for layer in range(50):\n",
        "    model.add(keras.layers.Dense(100, activation=\"selu\",\n",
        "                                 kernel_initializer=\"lecun_normal\"))\n",
        "model.add(keras.layers.Dense(10, activation=\"softmax\"))"
      ],
      "metadata": {
        "id": "0U1KLqgdvjk-"
      },
      "execution_count": null,
      "outputs": []
    },
    {
      "cell_type": "code",
      "source": [
        "# Scaling the data such that the mean is 0 and a unit(1) standard deviation\n",
        "\n",
        "pixel_means = X_train.mean(axis=0, keepdims=True)\n",
        "pixel_stds = X_train.std(axis=0, keepdims=True)\n",
        "X_train_scaled = (X_train - pixel_means) / pixel_stds\n",
        "X_valid_scaled = (X_valid - pixel_means) / pixel_stds\n",
        "X_test_scaled = (X_test - pixel_means) / pixel_stds"
      ],
      "metadata": {
        "id": "oQtrchzHvjir"
      },
      "execution_count": null,
      "outputs": []
    },
    {
      "cell_type": "code",
      "source": [
        "# Compiling the model\n",
        "\n",
        "model.compile(loss=\"sparse_categorical_crossentropy\",\n",
        "              optimizer=keras.optimizers.SGD(learning_rate=1e-3),\n",
        "              metrics=[\"accuracy\"])"
      ],
      "metadata": {
        "id": "DMd7zCBhvjgY"
      },
      "execution_count": null,
      "outputs": []
    },
    {
      "cell_type": "code",
      "source": [
        "#Training(fitting) model over MNIST dataset(training dataset) at 15 Epochs\n",
        "\n",
        "history = model.fit(X_train_scaled, y_train, epochs=15,\n",
        "                    validation_data=(X_valid_scaled, y_valid))"
      ],
      "metadata": {
        "colab": {
          "base_uri": "https://localhost:8080/"
        },
        "id": "JuD_RFr1u_zX",
        "outputId": "f489441f-701e-484f-e8a3-d8d838afed8e"
      },
      "execution_count": null,
      "outputs": [
        {
          "output_type": "stream",
          "name": "stdout",
          "text": [
            "Epoch 1/15\n",
            "1719/1719 [==============================] - 24s 13ms/step - loss: 0.7338 - accuracy: 0.7336 - val_loss: 0.5324 - val_accuracy: 0.8046\n",
            "Epoch 2/15\n",
            "1719/1719 [==============================] - 22s 13ms/step - loss: 0.4951 - accuracy: 0.8192 - val_loss: 0.4536 - val_accuracy: 0.8382\n",
            "Epoch 3/15\n",
            "1719/1719 [==============================] - 21s 12ms/step - loss: 0.4354 - accuracy: 0.8414 - val_loss: 0.4242 - val_accuracy: 0.8490\n",
            "Epoch 4/15\n",
            "1719/1719 [==============================] - 21s 12ms/step - loss: 0.3973 - accuracy: 0.8556 - val_loss: 0.4025 - val_accuracy: 0.8566\n",
            "Epoch 5/15\n",
            "1719/1719 [==============================] - 22s 13ms/step - loss: 0.3717 - accuracy: 0.8641 - val_loss: 0.3764 - val_accuracy: 0.8616\n",
            "Epoch 6/15\n",
            "1719/1719 [==============================] - 21s 12ms/step - loss: 0.3490 - accuracy: 0.8727 - val_loss: 0.3862 - val_accuracy: 0.8642\n",
            "Epoch 7/15\n",
            "1719/1719 [==============================] - 22s 13ms/step - loss: 0.3330 - accuracy: 0.8783 - val_loss: 0.3786 - val_accuracy: 0.8696\n",
            "Epoch 8/15\n",
            "1719/1719 [==============================] - 22s 13ms/step - loss: 0.3180 - accuracy: 0.8839 - val_loss: 0.3846 - val_accuracy: 0.8646\n",
            "Epoch 9/15\n",
            "1719/1719 [==============================] - 21s 12ms/step - loss: 0.3076 - accuracy: 0.8872 - val_loss: 0.3659 - val_accuracy: 0.8730\n",
            "Epoch 10/15\n",
            "1719/1719 [==============================] - 21s 12ms/step - loss: 0.2946 - accuracy: 0.8928 - val_loss: 0.3758 - val_accuracy: 0.8670\n",
            "Epoch 11/15\n",
            "1719/1719 [==============================] - 22s 13ms/step - loss: 0.2845 - accuracy: 0.8965 - val_loss: 0.3445 - val_accuracy: 0.8802\n",
            "Epoch 12/15\n",
            "1719/1719 [==============================] - 21s 12ms/step - loss: 0.2731 - accuracy: 0.8996 - val_loss: 0.3575 - val_accuracy: 0.8766\n",
            "Epoch 13/15\n",
            "1719/1719 [==============================] - 21s 12ms/step - loss: 0.2647 - accuracy: 0.9036 - val_loss: 0.3498 - val_accuracy: 0.8802\n",
            "Epoch 14/15\n",
            "1719/1719 [==============================] - 21s 12ms/step - loss: 0.2582 - accuracy: 0.9049 - val_loss: 0.3669 - val_accuracy: 0.8734\n",
            "Epoch 15/15\n",
            "1719/1719 [==============================] - 22s 13ms/step - loss: 0.2471 - accuracy: 0.9096 - val_loss: 0.3784 - val_accuracy: 0.8660\n"
          ]
        }
      ]
    },
    {
      "cell_type": "markdown",
      "source": [
        "#####3) Leaky ReLu"
      ],
      "metadata": {
        "id": "fU3lgR9tv6Nv"
      }
    },
    {
      "cell_type": "code",
      "source": [
        "tf.random.set_seed(42)\n",
        "np.random.seed(42)\n",
        "# Creating the sequential model and adding different layers \n",
        "model = keras.models.Sequential([\n",
        "    keras.layers.Flatten(input_shape=[28, 28]),\n",
        "    keras.layers.Dense(300, kernel_initializer=\"he_normal\"),\n",
        "    keras.layers.LeakyReLU(),\n",
        "    keras.layers.Dense(100, kernel_initializer=\"he_normal\"),\n",
        "    keras.layers.LeakyReLU(),\n",
        "    keras.layers.Dense(10, activation=\"softmax\")\n",
        "])"
      ],
      "metadata": {
        "id": "ip5b4fysv9vO"
      },
      "execution_count": null,
      "outputs": []
    },
    {
      "cell_type": "code",
      "source": [
        "#Compiling the built model\n",
        "model.compile(loss=\"sparse_categorical_crossentropy\",\n",
        "              optimizer=keras.optimizers.SGD(learning_rate=1e-3),\n",
        "              metrics=[\"accuracy\"])"
      ],
      "metadata": {
        "id": "T_3wY8ihv-vy"
      },
      "execution_count": null,
      "outputs": []
    },
    {
      "cell_type": "code",
      "source": [
        "#Training(fitting) model over MNIST dataset(training dataset) at 15 Epochs\n",
        "\n",
        "history = model.fit(X_train, y_train, epochs=15,\n",
        "                    validation_data=(X_valid, y_valid))"
      ],
      "metadata": {
        "colab": {
          "base_uri": "https://localhost:8080/"
        },
        "id": "zVlrqyzTv-sd",
        "outputId": "e387f57b-664d-436c-b427-82017c67c367"
      },
      "execution_count": null,
      "outputs": [
        {
          "output_type": "stream",
          "name": "stdout",
          "text": [
            "Epoch 1/15\n",
            "1719/1719 [==============================] - 7s 4ms/step - loss: 1.2819 - accuracy: 0.6229 - val_loss: 0.8886 - val_accuracy: 0.7160\n",
            "Epoch 2/15\n",
            "1719/1719 [==============================] - 7s 4ms/step - loss: 0.7955 - accuracy: 0.7362 - val_loss: 0.7130 - val_accuracy: 0.7656\n",
            "Epoch 3/15\n",
            "1719/1719 [==============================] - 6s 4ms/step - loss: 0.6816 - accuracy: 0.7721 - val_loss: 0.6427 - val_accuracy: 0.7900\n",
            "Epoch 4/15\n",
            "1719/1719 [==============================] - 6s 4ms/step - loss: 0.6217 - accuracy: 0.7944 - val_loss: 0.5900 - val_accuracy: 0.8066\n",
            "Epoch 5/15\n",
            "1719/1719 [==============================] - 6s 4ms/step - loss: 0.5832 - accuracy: 0.8074 - val_loss: 0.5582 - val_accuracy: 0.8202\n",
            "Epoch 6/15\n",
            "1719/1719 [==============================] - 7s 4ms/step - loss: 0.5553 - accuracy: 0.8157 - val_loss: 0.5350 - val_accuracy: 0.8238\n",
            "Epoch 7/15\n",
            "1719/1719 [==============================] - 7s 4ms/step - loss: 0.5338 - accuracy: 0.8225 - val_loss: 0.5157 - val_accuracy: 0.8304\n",
            "Epoch 8/15\n",
            "1719/1719 [==============================] - 6s 4ms/step - loss: 0.5172 - accuracy: 0.8273 - val_loss: 0.5079 - val_accuracy: 0.8282\n",
            "Epoch 9/15\n",
            "1719/1719 [==============================] - 7s 4ms/step - loss: 0.5040 - accuracy: 0.8288 - val_loss: 0.4895 - val_accuracy: 0.8386\n",
            "Epoch 10/15\n",
            "1719/1719 [==============================] - 6s 4ms/step - loss: 0.4924 - accuracy: 0.8320 - val_loss: 0.4817 - val_accuracy: 0.8396\n",
            "Epoch 11/15\n",
            "1719/1719 [==============================] - 6s 4ms/step - loss: 0.4827 - accuracy: 0.8354 - val_loss: 0.4718 - val_accuracy: 0.8448\n",
            "Epoch 12/15\n",
            "1719/1719 [==============================] - 6s 4ms/step - loss: 0.4743 - accuracy: 0.8370 - val_loss: 0.4655 - val_accuracy: 0.8464\n",
            "Epoch 13/15\n",
            "1719/1719 [==============================] - 7s 4ms/step - loss: 0.4672 - accuracy: 0.8397 - val_loss: 0.4589 - val_accuracy: 0.8462\n",
            "Epoch 14/15\n",
            "1719/1719 [==============================] - 6s 4ms/step - loss: 0.4606 - accuracy: 0.8413 - val_loss: 0.4548 - val_accuracy: 0.8480\n",
            "Epoch 15/15\n",
            "1719/1719 [==============================] - 7s 4ms/step - loss: 0.4548 - accuracy: 0.8427 - val_loss: 0.4476 - val_accuracy: 0.8496\n"
          ]
        }
      ]
    },
    {
      "cell_type": "markdown",
      "source": [
        "###Dropout"
      ],
      "metadata": {
        "id": "XROVIvyswQ8w"
      }
    },
    {
      "cell_type": "code",
      "source": [
        "# Defining, compile and train thje model at 20 Epochs\n",
        "\n",
        "model = keras.models.Sequential([\n",
        "    keras.layers.Flatten(input_shape=[28, 28]),\n",
        "    keras.layers.Dropout(rate=0.2),\n",
        "    keras.layers.Dense(300, activation=\"elu\", kernel_initializer=\"he_normal\"),\n",
        "    keras.layers.Dropout(rate=0.2),\n",
        "    keras.layers.Dense(100, activation=\"elu\", kernel_initializer=\"he_normal\"),\n",
        "    keras.layers.Dropout(rate=0.2),\n",
        "    keras.layers.Dense(10, activation=\"softmax\")\n",
        "])\n",
        "model.compile(loss=\"sparse_categorical_crossentropy\", optimizer=\"nadam\", metrics=[\"accuracy\"])\n",
        "n_epochs = 20\n",
        "history = model.fit(X_train_scaled, y_train, epochs=n_epochs,\n",
        "                    validation_data=(X_valid_scaled, y_valid))"
      ],
      "metadata": {
        "colab": {
          "base_uri": "https://localhost:8080/"
        },
        "id": "DIPWIJDDv-qN",
        "outputId": "1a345c90-9a18-42a7-b35d-e3ac7131287a"
      },
      "execution_count": null,
      "outputs": [
        {
          "output_type": "stream",
          "name": "stdout",
          "text": [
            "Epoch 1/20\n",
            "1719/1719 [==============================] - 11s 6ms/step - loss: 0.5649 - accuracy: 0.8045 - val_loss: 0.3656 - val_accuracy: 0.8678\n",
            "Epoch 2/20\n",
            "1719/1719 [==============================] - 9s 6ms/step - loss: 0.4190 - accuracy: 0.8466 - val_loss: 0.3477 - val_accuracy: 0.8704\n",
            "Epoch 3/20\n",
            "1719/1719 [==============================] - 9s 5ms/step - loss: 0.3906 - accuracy: 0.8548 - val_loss: 0.3422 - val_accuracy: 0.8746\n",
            "Epoch 4/20\n",
            "1719/1719 [==============================] - 10s 6ms/step - loss: 0.3736 - accuracy: 0.8613 - val_loss: 0.3175 - val_accuracy: 0.8792\n",
            "Epoch 5/20\n",
            "1719/1719 [==============================] - 9s 6ms/step - loss: 0.3579 - accuracy: 0.8665 - val_loss: 0.3127 - val_accuracy: 0.8856\n",
            "Epoch 6/20\n",
            "1719/1719 [==============================] - 9s 5ms/step - loss: 0.3492 - accuracy: 0.8702 - val_loss: 0.3210 - val_accuracy: 0.8840\n",
            "Epoch 7/20\n",
            "1719/1719 [==============================] - 9s 5ms/step - loss: 0.3385 - accuracy: 0.8746 - val_loss: 0.3209 - val_accuracy: 0.8850\n",
            "Epoch 8/20\n",
            "1719/1719 [==============================] - 9s 5ms/step - loss: 0.3330 - accuracy: 0.8745 - val_loss: 0.3133 - val_accuracy: 0.8910\n",
            "Epoch 9/20\n",
            "1719/1719 [==============================] - 9s 6ms/step - loss: 0.3246 - accuracy: 0.8785 - val_loss: 0.3090 - val_accuracy: 0.8890\n",
            "Epoch 10/20\n",
            "1719/1719 [==============================] - 10s 6ms/step - loss: 0.3173 - accuracy: 0.8802 - val_loss: 0.3156 - val_accuracy: 0.8844\n",
            "Epoch 11/20\n",
            "1719/1719 [==============================] - 10s 6ms/step - loss: 0.3183 - accuracy: 0.8811 - val_loss: 0.3046 - val_accuracy: 0.8948\n",
            "Epoch 12/20\n",
            "1719/1719 [==============================] - 10s 6ms/step - loss: 0.3062 - accuracy: 0.8856 - val_loss: 0.3138 - val_accuracy: 0.8838\n",
            "Epoch 13/20\n",
            "1719/1719 [==============================] - 9s 5ms/step - loss: 0.3071 - accuracy: 0.8871 - val_loss: 0.3160 - val_accuracy: 0.8868\n",
            "Epoch 14/20\n",
            "1719/1719 [==============================] - 9s 5ms/step - loss: 0.3007 - accuracy: 0.8879 - val_loss: 0.3051 - val_accuracy: 0.8884\n",
            "Epoch 15/20\n",
            "1719/1719 [==============================] - 9s 5ms/step - loss: 0.2951 - accuracy: 0.8885 - val_loss: 0.2950 - val_accuracy: 0.8920\n",
            "Epoch 16/20\n",
            "1719/1719 [==============================] - 9s 5ms/step - loss: 0.2937 - accuracy: 0.8898 - val_loss: 0.3075 - val_accuracy: 0.8906\n",
            "Epoch 17/20\n",
            "1719/1719 [==============================] - 9s 5ms/step - loss: 0.2936 - accuracy: 0.8889 - val_loss: 0.3071 - val_accuracy: 0.8878\n",
            "Epoch 18/20\n",
            "1719/1719 [==============================] - 9s 5ms/step - loss: 0.2874 - accuracy: 0.8922 - val_loss: 0.3003 - val_accuracy: 0.8958\n",
            "Epoch 19/20\n",
            "1719/1719 [==============================] - 10s 6ms/step - loss: 0.2858 - accuracy: 0.8937 - val_loss: 0.3045 - val_accuracy: 0.8926\n",
            "Epoch 20/20\n",
            "1719/1719 [==============================] - 9s 5ms/step - loss: 0.2842 - accuracy: 0.8937 - val_loss: 0.3023 - val_accuracy: 0.8928\n"
          ]
        }
      ]
    },
    {
      "cell_type": "code",
      "source": [
        "# Loss and Accuracy\n",
        "model.evaluate(X_test_scaled, y_test)"
      ],
      "metadata": {
        "colab": {
          "base_uri": "https://localhost:8080/"
        },
        "id": "APwjPlkav-n2",
        "outputId": "1bbb54df-35e8-4645-c2e9-9336d5d34199"
      },
      "execution_count": null,
      "outputs": [
        {
          "output_type": "stream",
          "name": "stdout",
          "text": [
            "313/313 [==============================] - 1s 3ms/step - loss: 0.3350 - accuracy: 0.8827\n"
          ]
        },
        {
          "output_type": "execute_result",
          "data": {
            "text/plain": [
              "[0.3350171148777008, 0.8827000260353088]"
            ]
          },
          "metadata": {},
          "execution_count": 35
        }
      ]
    },
    {
      "cell_type": "markdown",
      "source": [
        "#####Alpha Dropout"
      ],
      "metadata": {
        "id": "y7fy7B9Pxayy"
      }
    },
    {
      "cell_type": "code",
      "source": [
        "tf.random.set_seed(100)\n",
        "np.random.seed(100)"
      ],
      "metadata": {
        "id": "zx8OJR_Wv-ld"
      },
      "execution_count": null,
      "outputs": []
    },
    {
      "cell_type": "code",
      "source": [
        "# Defining, compile and train thje model at 20 Epochs\n",
        "\n",
        "model = keras.models.Sequential([\n",
        "    keras.layers.Flatten(input_shape=[28, 28]),\n",
        "    keras.layers.AlphaDropout(rate=0.2),\n",
        "    keras.layers.Dense(300, activation=\"selu\", kernel_initializer=\"lecun_normal\"),\n",
        "    keras.layers.AlphaDropout(rate=0.2),\n",
        "    keras.layers.Dense(100, activation=\"selu\", kernel_initializer=\"lecun_normal\"),\n",
        "    keras.layers.AlphaDropout(rate=0.2),\n",
        "    keras.layers.Dense(10, activation=\"softmax\")\n",
        "])\n",
        "optimizer = keras.optimizers.SGD(learning_rate=0.01, momentum=0.9, nesterov=True)\n",
        "model.compile(loss=\"sparse_categorical_crossentropy\", optimizer=optimizer, metrics=[\"accuracy\"])\n",
        "n_epochs = 20\n",
        "history = model.fit(X_train_scaled, y_train, epochs=n_epochs,\n",
        "                    validation_data=(X_valid_scaled, y_valid))"
      ],
      "metadata": {
        "colab": {
          "base_uri": "https://localhost:8080/"
        },
        "id": "7vVrgDihv-jD",
        "outputId": "16388811-6f9a-4150-92be-9995ffe58d7a"
      },
      "execution_count": null,
      "outputs": [
        {
          "output_type": "stream",
          "name": "stdout",
          "text": [
            "Epoch 1/20\n",
            "1719/1719 [==============================] - 8s 4ms/step - loss: 0.6650 - accuracy: 0.7592 - val_loss: 0.5745 - val_accuracy: 0.8454\n",
            "Epoch 2/20\n",
            "1719/1719 [==============================] - 7s 4ms/step - loss: 0.5536 - accuracy: 0.7979 - val_loss: 0.5044 - val_accuracy: 0.8468\n",
            "Epoch 3/20\n",
            "1719/1719 [==============================] - 7s 4ms/step - loss: 0.5255 - accuracy: 0.8074 - val_loss: 0.5524 - val_accuracy: 0.8400\n",
            "Epoch 4/20\n",
            "1719/1719 [==============================] - 7s 4ms/step - loss: 0.5105 - accuracy: 0.8117 - val_loss: 0.5092 - val_accuracy: 0.8456\n",
            "Epoch 5/20\n",
            "1719/1719 [==============================] - 7s 4ms/step - loss: 0.4980 - accuracy: 0.8161 - val_loss: 0.4894 - val_accuracy: 0.8484\n",
            "Epoch 6/20\n",
            "1719/1719 [==============================] - 7s 4ms/step - loss: 0.4801 - accuracy: 0.8231 - val_loss: 0.4849 - val_accuracy: 0.8590\n",
            "Epoch 7/20\n",
            "1719/1719 [==============================] - 7s 4ms/step - loss: 0.4717 - accuracy: 0.8264 - val_loss: 0.4334 - val_accuracy: 0.8690\n",
            "Epoch 8/20\n",
            "1719/1719 [==============================] - 7s 4ms/step - loss: 0.4678 - accuracy: 0.8255 - val_loss: 0.4310 - val_accuracy: 0.8724\n",
            "Epoch 9/20\n",
            "1719/1719 [==============================] - 7s 4ms/step - loss: 0.4580 - accuracy: 0.8312 - val_loss: 0.4268 - val_accuracy: 0.8658\n",
            "Epoch 10/20\n",
            "1719/1719 [==============================] - 7s 4ms/step - loss: 0.4508 - accuracy: 0.8335 - val_loss: 0.4774 - val_accuracy: 0.8682\n",
            "Epoch 11/20\n",
            "1719/1719 [==============================] - 7s 4ms/step - loss: 0.4522 - accuracy: 0.8309 - val_loss: 0.4484 - val_accuracy: 0.8664\n",
            "Epoch 12/20\n",
            "1719/1719 [==============================] - 7s 4ms/step - loss: 0.4419 - accuracy: 0.8355 - val_loss: 0.4520 - val_accuracy: 0.8794\n",
            "Epoch 13/20\n",
            "1719/1719 [==============================] - 7s 4ms/step - loss: 0.4409 - accuracy: 0.8368 - val_loss: 0.4641 - val_accuracy: 0.8686\n",
            "Epoch 14/20\n",
            "1719/1719 [==============================] - 7s 4ms/step - loss: 0.4371 - accuracy: 0.8372 - val_loss: 0.4625 - val_accuracy: 0.8660\n",
            "Epoch 15/20\n",
            "1719/1719 [==============================] - 7s 4ms/step - loss: 0.4345 - accuracy: 0.8386 - val_loss: 0.4877 - val_accuracy: 0.8640\n",
            "Epoch 16/20\n",
            "1719/1719 [==============================] - 7s 4ms/step - loss: 0.4246 - accuracy: 0.8423 - val_loss: 0.4090 - val_accuracy: 0.8734\n",
            "Epoch 17/20\n",
            "1719/1719 [==============================] - 7s 4ms/step - loss: 0.4246 - accuracy: 0.8431 - val_loss: 0.4261 - val_accuracy: 0.8742\n",
            "Epoch 18/20\n",
            "1719/1719 [==============================] - 7s 4ms/step - loss: 0.4234 - accuracy: 0.8437 - val_loss: 0.4570 - val_accuracy: 0.8744\n",
            "Epoch 19/20\n",
            "1719/1719 [==============================] - 7s 4ms/step - loss: 0.4203 - accuracy: 0.8450 - val_loss: 0.4321 - val_accuracy: 0.8706\n",
            "Epoch 20/20\n",
            "1719/1719 [==============================] - 7s 4ms/step - loss: 0.4213 - accuracy: 0.8431 - val_loss: 0.4162 - val_accuracy: 0.8774\n"
          ]
        }
      ]
    },
    {
      "cell_type": "code",
      "source": [
        "# Loss and Accuracy\n",
        "model.evaluate(X_test_scaled, y_test)"
      ],
      "metadata": {
        "colab": {
          "base_uri": "https://localhost:8080/"
        },
        "id": "wusCEFwev-gt",
        "outputId": "e6e511d2-3389-4915-a7d1-9014ed1db235"
      },
      "execution_count": null,
      "outputs": [
        {
          "output_type": "stream",
          "name": "stdout",
          "text": [
            "313/313 [==============================] - 1s 3ms/step - loss: 0.4600 - accuracy: 0.8671\n"
          ]
        },
        {
          "output_type": "execute_result",
          "data": {
            "text/plain": [
              "[0.4600156843662262, 0.8671000003814697]"
            ]
          },
          "metadata": {},
          "execution_count": 38
        }
      ]
    },
    {
      "cell_type": "markdown",
      "source": [
        "#####Max Norm"
      ],
      "metadata": {
        "id": "p5UZ4Vonxr9l"
      }
    },
    {
      "cell_type": "code",
      "source": [
        "layer = keras.layers.Dense(100, activation=\"selu\", kernel_initializer=\"lecun_normal\",\n",
        "                           kernel_constraint=keras.constraints.max_norm(1.))"
      ],
      "metadata": {
        "id": "gJUSezybv-Un"
      },
      "execution_count": null,
      "outputs": []
    },
    {
      "cell_type": "code",
      "source": [
        "from functools import partial\n",
        "# Defining, compile and train thje model at 20 Epochs\n",
        "\n",
        "MaxNormDense = partial(keras.layers.Dense,\n",
        "                       activation=\"selu\", kernel_initializer=\"lecun_normal\",\n",
        "                       kernel_constraint=keras.constraints.max_norm(1.))\n",
        "\n",
        "model = keras.models.Sequential([\n",
        "    keras.layers.Flatten(input_shape=[28, 28]),\n",
        "    MaxNormDense(300),\n",
        "    MaxNormDense(100),\n",
        "    keras.layers.Dense(10, activation=\"softmax\")\n",
        "])\n",
        "model.compile(loss=\"sparse_categorical_crossentropy\", optimizer=\"nadam\", metrics=[\"accuracy\"])\n",
        "n_epochs = 20\n",
        "history = model.fit(X_train_scaled, y_train, epochs=n_epochs,\n",
        "                    validation_data=(X_valid_scaled, y_valid))"
      ],
      "metadata": {
        "colab": {
          "base_uri": "https://localhost:8080/"
        },
        "id": "6tUZLZYGv-SN",
        "outputId": "95f89b94-0579-4007-f244-6927a335478d"
      },
      "execution_count": null,
      "outputs": [
        {
          "output_type": "stream",
          "name": "stdout",
          "text": [
            "Epoch 1/20\n",
            "1719/1719 [==============================] - 11s 6ms/step - loss: 0.4828 - accuracy: 0.8312 - val_loss: 0.3561 - val_accuracy: 0.8724\n",
            "Epoch 2/20\n",
            "1719/1719 [==============================] - 9s 5ms/step - loss: 0.3563 - accuracy: 0.8697 - val_loss: 0.3404 - val_accuracy: 0.8738\n",
            "Epoch 3/20\n",
            "1719/1719 [==============================] - 10s 6ms/step - loss: 0.3301 - accuracy: 0.8783 - val_loss: 0.3398 - val_accuracy: 0.8770\n",
            "Epoch 4/20\n",
            "1719/1719 [==============================] - 9s 5ms/step - loss: 0.3159 - accuracy: 0.8820 - val_loss: 0.3183 - val_accuracy: 0.8844\n",
            "Epoch 5/20\n",
            "1719/1719 [==============================] - 9s 6ms/step - loss: 0.3126 - accuracy: 0.8835 - val_loss: 0.3262 - val_accuracy: 0.8792\n",
            "Epoch 6/20\n",
            "1719/1719 [==============================] - 9s 5ms/step - loss: 0.3073 - accuracy: 0.8847 - val_loss: 0.3453 - val_accuracy: 0.8748\n",
            "Epoch 7/20\n",
            "1719/1719 [==============================] - 9s 5ms/step - loss: 0.3047 - accuracy: 0.8862 - val_loss: 0.3438 - val_accuracy: 0.8800\n",
            "Epoch 8/20\n",
            "1719/1719 [==============================] - 10s 6ms/step - loss: 0.3023 - accuracy: 0.8872 - val_loss: 0.3506 - val_accuracy: 0.8680\n",
            "Epoch 9/20\n",
            "1719/1719 [==============================] - 9s 5ms/step - loss: 0.3034 - accuracy: 0.8865 - val_loss: 0.3333 - val_accuracy: 0.8764\n",
            "Epoch 10/20\n",
            "1719/1719 [==============================] - 9s 5ms/step - loss: 0.3011 - accuracy: 0.8872 - val_loss: 0.3459 - val_accuracy: 0.8694\n",
            "Epoch 11/20\n",
            "1719/1719 [==============================] - 9s 6ms/step - loss: 0.2994 - accuracy: 0.8882 - val_loss: 0.3897 - val_accuracy: 0.8596\n",
            "Epoch 12/20\n",
            "1719/1719 [==============================] - 9s 5ms/step - loss: 0.2956 - accuracy: 0.8896 - val_loss: 0.3367 - val_accuracy: 0.8810\n",
            "Epoch 13/20\n",
            "1719/1719 [==============================] - 9s 5ms/step - loss: 0.2975 - accuracy: 0.8892 - val_loss: 0.3479 - val_accuracy: 0.8798\n",
            "Epoch 14/20\n",
            "1719/1719 [==============================] - 9s 5ms/step - loss: 0.2989 - accuracy: 0.8879 - val_loss: 0.3406 - val_accuracy: 0.8804\n",
            "Epoch 15/20\n",
            "1719/1719 [==============================] - 9s 5ms/step - loss: 0.2936 - accuracy: 0.8893 - val_loss: 0.3355 - val_accuracy: 0.8836\n",
            "Epoch 16/20\n",
            "1719/1719 [==============================] - 9s 6ms/step - loss: 0.2933 - accuracy: 0.8896 - val_loss: 0.3381 - val_accuracy: 0.8822\n",
            "Epoch 17/20\n",
            "1719/1719 [==============================] - 9s 5ms/step - loss: 0.2951 - accuracy: 0.8901 - val_loss: 0.3328 - val_accuracy: 0.8780\n",
            "Epoch 18/20\n",
            "1719/1719 [==============================] - 9s 6ms/step - loss: 0.2939 - accuracy: 0.8903 - val_loss: 0.3500 - val_accuracy: 0.8742\n",
            "Epoch 19/20\n",
            "1719/1719 [==============================] - 9s 5ms/step - loss: 0.2918 - accuracy: 0.8903 - val_loss: 0.3623 - val_accuracy: 0.8690\n",
            "Epoch 20/20\n",
            "1719/1719 [==============================] - 10s 6ms/step - loss: 0.2932 - accuracy: 0.8889 - val_loss: 0.3665 - val_accuracy: 0.8698\n"
          ]
        }
      ]
    },
    {
      "cell_type": "markdown",
      "source": [
        "###Learning Rate Schedulers\n",
        "\n",
        "---\n",
        "\n",
        "1) Power Rate Scheduling (decay = le-4)"
      ],
      "metadata": {
        "id": "rnZmRoHux-gZ"
      }
    },
    {
      "cell_type": "code",
      "source": [
        "optimizer = keras.optimizers.SGD(learning_rate=0.01, decay=1e-4)"
      ],
      "metadata": {
        "id": "gdXqvKkRv-P0"
      },
      "execution_count": null,
      "outputs": []
    },
    {
      "cell_type": "code",
      "source": [
        "model = keras.models.Sequential([\n",
        "    keras.layers.Flatten(input_shape=[28, 28]),\n",
        "    keras.layers.Dense(300, activation=\"selu\", kernel_initializer=\"lecun_normal\"),\n",
        "    keras.layers.Dense(100, activation=\"selu\", kernel_initializer=\"lecun_normal\"),\n",
        "    keras.layers.Dense(10, activation=\"softmax\")\n",
        "])\n",
        "model.compile(loss=\"sparse_categorical_crossentropy\", optimizer=optimizer, metrics=[\"accuracy\"])"
      ],
      "metadata": {
        "id": "m0AboMx5v-NX"
      },
      "execution_count": null,
      "outputs": []
    },
    {
      "cell_type": "code",
      "source": [
        "#Train the model at 30 Epochs and see the result\n",
        "n_epochs = 30\n",
        "history = model.fit(X_train_scaled, y_train, epochs=n_epochs,\n",
        "                    validation_data=(X_valid_scaled, y_valid))"
      ],
      "metadata": {
        "colab": {
          "base_uri": "https://localhost:8080/"
        },
        "id": "5JX7SEPmyXTm",
        "outputId": "e6ba21ba-7e6e-442d-cf7e-2d24d07db3d2"
      },
      "execution_count": null,
      "outputs": [
        {
          "output_type": "stream",
          "name": "stdout",
          "text": [
            "Epoch 1/30\n",
            "1719/1719 [==============================] - 7s 4ms/step - loss: 0.4893 - accuracy: 0.8267 - val_loss: 0.4015 - val_accuracy: 0.8600\n",
            "Epoch 2/30\n",
            "1719/1719 [==============================] - 7s 4ms/step - loss: 0.3808 - accuracy: 0.8652 - val_loss: 0.3772 - val_accuracy: 0.8688\n",
            "Epoch 3/30\n",
            "1719/1719 [==============================] - 6s 4ms/step - loss: 0.3469 - accuracy: 0.8765 - val_loss: 0.3660 - val_accuracy: 0.8702\n",
            "Epoch 4/30\n",
            "1719/1719 [==============================] - 6s 4ms/step - loss: 0.3239 - accuracy: 0.8843 - val_loss: 0.3566 - val_accuracy: 0.8766\n",
            "Epoch 5/30\n",
            "1719/1719 [==============================] - 6s 4ms/step - loss: 0.3076 - accuracy: 0.8907 - val_loss: 0.3487 - val_accuracy: 0.8770\n",
            "Epoch 6/30\n",
            "1719/1719 [==============================] - 6s 4ms/step - loss: 0.2940 - accuracy: 0.8966 - val_loss: 0.3426 - val_accuracy: 0.8808\n",
            "Epoch 7/30\n",
            "1719/1719 [==============================] - 7s 4ms/step - loss: 0.2833 - accuracy: 0.8992 - val_loss: 0.3342 - val_accuracy: 0.8828\n",
            "Epoch 8/30\n",
            "1719/1719 [==============================] - 6s 4ms/step - loss: 0.2742 - accuracy: 0.9023 - val_loss: 0.3327 - val_accuracy: 0.8858\n",
            "Epoch 9/30\n",
            "1719/1719 [==============================] - 6s 4ms/step - loss: 0.2667 - accuracy: 0.9052 - val_loss: 0.3335 - val_accuracy: 0.8840\n",
            "Epoch 10/30\n",
            "1719/1719 [==============================] - 7s 4ms/step - loss: 0.2590 - accuracy: 0.9087 - val_loss: 0.3307 - val_accuracy: 0.8868\n",
            "Epoch 11/30\n",
            "1719/1719 [==============================] - 6s 4ms/step - loss: 0.2530 - accuracy: 0.9106 - val_loss: 0.3316 - val_accuracy: 0.8820\n",
            "Epoch 12/30\n",
            "1719/1719 [==============================] - 6s 4ms/step - loss: 0.2475 - accuracy: 0.9132 - val_loss: 0.3311 - val_accuracy: 0.8850\n",
            "Epoch 13/30\n",
            "1719/1719 [==============================] - 6s 4ms/step - loss: 0.2420 - accuracy: 0.9149 - val_loss: 0.3232 - val_accuracy: 0.8866\n",
            "Epoch 14/30\n",
            "1719/1719 [==============================] - 7s 4ms/step - loss: 0.2373 - accuracy: 0.9165 - val_loss: 0.3257 - val_accuracy: 0.8872\n",
            "Epoch 15/30\n",
            "1719/1719 [==============================] - 7s 4ms/step - loss: 0.2330 - accuracy: 0.9186 - val_loss: 0.3220 - val_accuracy: 0.8894\n",
            "Epoch 16/30\n",
            "1719/1719 [==============================] - 7s 4ms/step - loss: 0.2289 - accuracy: 0.9200 - val_loss: 0.3221 - val_accuracy: 0.8864\n",
            "Epoch 17/30\n",
            "1719/1719 [==============================] - 6s 4ms/step - loss: 0.2250 - accuracy: 0.9213 - val_loss: 0.3191 - val_accuracy: 0.8914\n",
            "Epoch 18/30\n",
            "1719/1719 [==============================] - 7s 4ms/step - loss: 0.2215 - accuracy: 0.9232 - val_loss: 0.3267 - val_accuracy: 0.8864\n",
            "Epoch 19/30\n",
            "1719/1719 [==============================] - 6s 4ms/step - loss: 0.2183 - accuracy: 0.9238 - val_loss: 0.3252 - val_accuracy: 0.8848\n",
            "Epoch 20/30\n",
            "1719/1719 [==============================] - 7s 4ms/step - loss: 0.2153 - accuracy: 0.9250 - val_loss: 0.3232 - val_accuracy: 0.8906\n",
            "Epoch 21/30\n",
            "1719/1719 [==============================] - 7s 4ms/step - loss: 0.2120 - accuracy: 0.9274 - val_loss: 0.3193 - val_accuracy: 0.8904\n",
            "Epoch 22/30\n",
            "1719/1719 [==============================] - 7s 4ms/step - loss: 0.2094 - accuracy: 0.9272 - val_loss: 0.3205 - val_accuracy: 0.8882\n",
            "Epoch 23/30\n",
            "1719/1719 [==============================] - 7s 4ms/step - loss: 0.2066 - accuracy: 0.9283 - val_loss: 0.3232 - val_accuracy: 0.8904\n",
            "Epoch 24/30\n",
            "1719/1719 [==============================] - 6s 4ms/step - loss: 0.2038 - accuracy: 0.9303 - val_loss: 0.3242 - val_accuracy: 0.8896\n",
            "Epoch 25/30\n",
            "1719/1719 [==============================] - 6s 4ms/step - loss: 0.2016 - accuracy: 0.9301 - val_loss: 0.3230 - val_accuracy: 0.8890\n",
            "Epoch 26/30\n",
            "1719/1719 [==============================] - 6s 4ms/step - loss: 0.1991 - accuracy: 0.9316 - val_loss: 0.3181 - val_accuracy: 0.8886\n",
            "Epoch 27/30\n",
            "1719/1719 [==============================] - 7s 4ms/step - loss: 0.1968 - accuracy: 0.9336 - val_loss: 0.3231 - val_accuracy: 0.8890\n",
            "Epoch 28/30\n",
            "1719/1719 [==============================] - 7s 4ms/step - loss: 0.1947 - accuracy: 0.9334 - val_loss: 0.3246 - val_accuracy: 0.8892\n",
            "Epoch 29/30\n",
            "1719/1719 [==============================] - 7s 4ms/step - loss: 0.1927 - accuracy: 0.9339 - val_loss: 0.3197 - val_accuracy: 0.8934\n",
            "Epoch 30/30\n",
            "1719/1719 [==============================] - 6s 4ms/step - loss: 0.1906 - accuracy: 0.9344 - val_loss: 0.3200 - val_accuracy: 0.8898\n"
          ]
        }
      ]
    },
    {
      "cell_type": "code",
      "source": [
        "import math\n",
        "\n",
        "learning_rate = 0.01\n",
        "decay = 1e-4\n",
        "batch_size = 32\n",
        "n_steps_per_epoch = math.ceil(len(X_train) / batch_size)\n",
        "epochs = np.arange(n_epochs)\n",
        "lrs = learning_rate / (1 + decay * epochs * n_steps_per_epoch)\n",
        "\n",
        "plt.plot(epochs, lrs,  \"o-\")\n",
        "plt.axis([0, n_epochs - 1, 0, 0.01])\n",
        "plt.xlabel(\"Epoch\")\n",
        "plt.ylabel(\"Learning Rate\")\n",
        "plt.title(\"Power Scheduling\", fontsize=14)\n",
        "plt.grid(True)\n",
        "plt.show()"
      ],
      "metadata": {
        "colab": {
          "base_uri": "https://localhost:8080/",
          "height": 303
        },
        "id": "mTS72WhNyXRS",
        "outputId": "9d20a12c-b51b-4a64-ae3f-c086312089f8"
      },
      "execution_count": null,
      "outputs": [
        {
          "output_type": "display_data",
          "data": {
            "text/plain": [
              "<Figure size 432x288 with 1 Axes>"
            ],
            "image/png": "[encoded data removed]"
          },
          "metadata": {
            "needs_background": "light"
          }
        }
      ]
    },
    {
      "cell_type": "markdown",
      "source": [
        "2) Piecewise constant scheduling\n",
        "\n",
        "The function returns a 1-arg callable to compute the piecewise constant when passed the current optimizer step. This can be useful for changing the learning rate value across different invocations of optimizer functions.\n",
        "\n",
        "Example: use a learning rate that's 1.0 for the first 100001 steps, 0.5 for the next 10000 steps, and 0.1 for any additional steps."
      ],
      "metadata": {
        "id": "zAAYJrNeyiMZ"
      }
    },
    {
      "cell_type": "code",
      "source": [
        "def piecewise_constant_fn(epoch):\n",
        "    if epoch < 5:\n",
        "        return 0.01\n",
        "    elif epoch < 15:\n",
        "        return 0.005\n",
        "    else:\n",
        "        return 0.001"
      ],
      "metadata": {
        "id": "UfQyDDGAyXOn"
      },
      "execution_count": null,
      "outputs": []
    },
    {
      "cell_type": "code",
      "source": [
        "def piecewise_constant(boundaries, values):\n",
        "    boundaries = np.array([0] + boundaries)\n",
        "    values = np.array(values)\n",
        "    def piecewise_constant_fn(epoch):\n",
        "        return values[np.argmax(boundaries > epoch) - 1]\n",
        "    return piecewise_constant_fn\n",
        "\n",
        "piecewise_constant_fn = piecewise_constant([5, 15], [0.01, 0.005, 0.001])"
      ],
      "metadata": {
        "id": "dgjGNcU8yXLo"
      },
      "execution_count": null,
      "outputs": []
    },
    {
      "cell_type": "code",
      "source": [
        "lr_scheduler = keras.callbacks.LearningRateScheduler(piecewise_constant_fn)\n",
        "##Train the model at 30 Epochs and see the result\n",
        "model = keras.models.Sequential([\n",
        "    keras.layers.Flatten(input_shape=[28, 28]),\n",
        "    keras.layers.Dense(300, activation=\"selu\", kernel_initializer=\"lecun_normal\"),\n",
        "    keras.layers.Dense(100, activation=\"selu\", kernel_initializer=\"lecun_normal\"),\n",
        "    keras.layers.Dense(10, activation=\"softmax\")\n",
        "])\n",
        "model.compile(loss=\"sparse_categorical_crossentropy\", optimizer=\"nadam\", metrics=[\"accuracy\"])\n",
        "n_epochs = 30\n",
        "history = model.fit(X_train_scaled, y_train, epochs=n_epochs,\n",
        "                    validation_data=(X_valid_scaled, y_valid),\n",
        "                    callbacks=[lr_scheduler])"
      ],
      "metadata": {
        "colab": {
          "base_uri": "https://localhost:8080/"
        },
        "id": "T1vpmARfyXJD",
        "outputId": "adae3c02-ba07-46fd-fb88-80f167f993f1"
      },
      "execution_count": null,
      "outputs": [
        {
          "output_type": "stream",
          "name": "stdout",
          "text": [
            "Epoch 1/30\n",
            "1719/1719 [==============================] - 10s 5ms/step - loss: 0.8418 - accuracy: 0.7597 - val_loss: 0.8232 - val_accuracy: 0.7786 - lr: 0.0100\n",
            "Epoch 2/30\n",
            "1719/1719 [==============================] - 9s 5ms/step - loss: 0.8952 - accuracy: 0.7385 - val_loss: 0.6581 - val_accuracy: 0.8056 - lr: 0.0100\n",
            "Epoch 3/30\n",
            "1719/1719 [==============================] - 9s 5ms/step - loss: 0.8647 - accuracy: 0.7464 - val_loss: 0.9398 - val_accuracy: 0.6638 - lr: 0.0100\n",
            "Epoch 4/30\n",
            "1719/1719 [==============================] - 9s 5ms/step - loss: 0.8849 - accuracy: 0.7320 - val_loss: 0.8515 - val_accuracy: 0.7238 - lr: 0.0100\n",
            "Epoch 5/30\n",
            "1719/1719 [==============================] - 9s 5ms/step - loss: 0.9144 - accuracy: 0.7317 - val_loss: 0.8595 - val_accuracy: 0.7308 - lr: 0.0100\n",
            "Epoch 6/30\n",
            "1719/1719 [==============================] - 9s 5ms/step - loss: 0.5813 - accuracy: 0.8181 - val_loss: 0.6391 - val_accuracy: 0.8296 - lr: 0.0050\n",
            "Epoch 7/30\n",
            "1719/1719 [==============================] - 9s 5ms/step - loss: 0.5461 - accuracy: 0.8334 - val_loss: 0.5771 - val_accuracy: 0.8384 - lr: 0.0050\n",
            "Epoch 8/30\n",
            "1719/1719 [==============================] - 9s 5ms/step - loss: 0.5264 - accuracy: 0.8370 - val_loss: 0.6993 - val_accuracy: 0.8174 - lr: 0.0050\n",
            "Epoch 9/30\n",
            "1719/1719 [==============================] - 9s 5ms/step - loss: 0.5337 - accuracy: 0.8413 - val_loss: 0.7412 - val_accuracy: 0.8390 - lr: 0.0050\n",
            "Epoch 10/30\n",
            "1719/1719 [==============================] - 9s 5ms/step - loss: 0.5033 - accuracy: 0.8450 - val_loss: 0.9011 - val_accuracy: 0.8514 - lr: 0.0050\n",
            "Epoch 11/30\n",
            "1719/1719 [==============================] - 9s 5ms/step - loss: 0.5412 - accuracy: 0.8458 - val_loss: 0.6474 - val_accuracy: 0.8328 - lr: 0.0050\n",
            "Epoch 12/30\n",
            "1719/1719 [==============================] - 9s 5ms/step - loss: 0.4971 - accuracy: 0.8517 - val_loss: 0.6057 - val_accuracy: 0.7976 - lr: 0.0050\n",
            "Epoch 13/30\n",
            "1719/1719 [==============================] - 9s 5ms/step - loss: 0.4799 - accuracy: 0.8531 - val_loss: 0.6486 - val_accuracy: 0.8492 - lr: 0.0050\n",
            "Epoch 14/30\n",
            "1719/1719 [==============================] - 9s 5ms/step - loss: 0.4851 - accuracy: 0.8557 - val_loss: 0.6734 - val_accuracy: 0.8468 - lr: 0.0050\n",
            "Epoch 15/30\n",
            "1719/1719 [==============================] - 9s 5ms/step - loss: 0.4839 - accuracy: 0.8565 - val_loss: 0.5685 - val_accuracy: 0.8484 - lr: 0.0050\n",
            "Epoch 16/30\n",
            "1719/1719 [==============================] - 9s 5ms/step - loss: 0.3353 - accuracy: 0.8901 - val_loss: 0.5073 - val_accuracy: 0.8652 - lr: 0.0010\n",
            "Epoch 17/30\n",
            "1719/1719 [==============================] - 9s 5ms/step - loss: 0.3138 - accuracy: 0.8985 - val_loss: 0.5105 - val_accuracy: 0.8686 - lr: 0.0010\n",
            "Epoch 18/30\n",
            "1719/1719 [==============================] - 9s 5ms/step - loss: 0.2994 - accuracy: 0.9027 - val_loss: 0.4938 - val_accuracy: 0.8704 - lr: 0.0010\n",
            "Epoch 19/30\n",
            "1719/1719 [==============================] - 9s 5ms/step - loss: 0.2895 - accuracy: 0.9066 - val_loss: 0.5056 - val_accuracy: 0.8738 - lr: 0.0010\n",
            "Epoch 20/30\n",
            "1719/1719 [==============================] - 9s 5ms/step - loss: 0.2783 - accuracy: 0.9095 - val_loss: 0.5363 - val_accuracy: 0.8724 - lr: 0.0010\n",
            "Epoch 21/30\n",
            "1719/1719 [==============================] - 9s 5ms/step - loss: 0.2778 - accuracy: 0.9116 - val_loss: 0.4950 - val_accuracy: 0.8696 - lr: 0.0010\n",
            "Epoch 22/30\n",
            "1719/1719 [==============================] - 9s 5ms/step - loss: 0.2674 - accuracy: 0.9141 - val_loss: 0.5109 - val_accuracy: 0.8724 - lr: 0.0010\n",
            "Epoch 23/30\n",
            "1719/1719 [==============================] - 9s 5ms/step - loss: 0.2574 - accuracy: 0.9176 - val_loss: 0.4935 - val_accuracy: 0.8740 - lr: 0.0010\n",
            "Epoch 24/30\n",
            "1719/1719 [==============================] - 9s 5ms/step - loss: 0.2538 - accuracy: 0.9186 - val_loss: 0.5178 - val_accuracy: 0.8758 - lr: 0.0010\n",
            "Epoch 25/30\n",
            "1719/1719 [==============================] - 9s 5ms/step - loss: 0.2476 - accuracy: 0.9216 - val_loss: 0.5014 - val_accuracy: 0.8702 - lr: 0.0010\n",
            "Epoch 26/30\n",
            "1719/1719 [==============================] - 9s 5ms/step - loss: 0.2426 - accuracy: 0.9228 - val_loss: 0.5480 - val_accuracy: 0.8772 - lr: 0.0010\n",
            "Epoch 27/30\n",
            "1719/1719 [==============================] - 9s 5ms/step - loss: 0.2444 - accuracy: 0.9248 - val_loss: 0.5637 - val_accuracy: 0.8740 - lr: 0.0010\n",
            "Epoch 28/30\n",
            "1719/1719 [==============================] - 9s 5ms/step - loss: 0.2295 - accuracy: 0.9278 - val_loss: 0.5626 - val_accuracy: 0.8728 - lr: 0.0010\n",
            "Epoch 29/30\n",
            "1719/1719 [==============================] - 9s 5ms/step - loss: 0.2264 - accuracy: 0.9280 - val_loss: 0.5816 - val_accuracy: 0.8770 - lr: 0.0010\n",
            "Epoch 30/30\n",
            "1719/1719 [==============================] - 9s 5ms/step - loss: 0.2254 - accuracy: 0.9288 - val_loss: 0.5560 - val_accuracy: 0.8748 - lr: 0.0010\n"
          ]
        }
      ]
    },
    {
      "cell_type": "code",
      "source": [
        "plt.plot(history.epoch, [piecewise_constant_fn(epoch) for epoch in history.epoch], \"o-\")\n",
        "plt.axis([0, n_epochs - 1, 0, 0.011])\n",
        "plt.xlabel(\"Epoch\")\n",
        "plt.ylabel(\"Learning Rate\")\n",
        "plt.title(\"Piecewise Constant Scheduling\", fontsize=14)\n",
        "plt.grid(True)\n",
        "plt.show()"
      ],
      "metadata": {
        "colab": {
          "base_uri": "https://localhost:8080/",
          "height": 303
        },
        "id": "aeYPtwl-yXGl",
        "outputId": "02879ba6-282b-4e38-d010-00d2a3d48758"
      },
      "execution_count": null,
      "outputs": [
        {
          "output_type": "display_data",
          "data": {
            "text/plain": [
              "<Figure size 432x288 with 1 Axes>"
            ],
            "image/png": "[encoded data removed]"
          },
          "metadata": {
            "needs_background": "light"
          }
        }
      ]
    },
    {
      "cell_type": "markdown",
      "source": [
        "3) Performance Scheduling"
      ],
      "metadata": {
        "id": "lekMnU_dywgA"
      }
    },
    {
      "cell_type": "code",
      "source": [
        "tf.random.set_seed(42)\n",
        "np.random.seed(42)"
      ],
      "metadata": {
        "id": "eEOabNYiyXEE"
      },
      "execution_count": null,
      "outputs": []
    },
    {
      "cell_type": "code",
      "source": [
        "lr_scheduler = keras.callbacks.ReduceLROnPlateau(factor=0.5, patience=5)\n",
        "\n",
        "model = keras.models.Sequential([\n",
        "    keras.layers.Flatten(input_shape=[28, 28]),\n",
        "    keras.layers.Dense(300, activation=\"selu\", kernel_initializer=\"lecun_normal\"),\n",
        "    keras.layers.Dense(100, activation=\"selu\", kernel_initializer=\"lecun_normal\"),\n",
        "    keras.layers.Dense(10, activation=\"softmax\")\n",
        "])\n",
        "optimizer = keras.optimizers.SGD(learning_rate=0.02, momentum=0.9)\n",
        "model.compile(loss=\"sparse_categorical_crossentropy\", optimizer=optimizer, metrics=[\"accuracy\"])\n",
        "n_epochs = 30\n",
        "history = model.fit(X_train_scaled, y_train, epochs=n_epochs,\n",
        "                    validation_data=(X_valid_scaled, y_valid),\n",
        "                    callbacks=[lr_scheduler])"
      ],
      "metadata": {
        "colab": {
          "base_uri": "https://localhost:8080/"
        },
        "id": "K8YbrixIyXBk",
        "outputId": "c07a88ff-1c7e-463b-9bf4-61b914caac0c"
      },
      "execution_count": null,
      "outputs": [
        {
          "output_type": "stream",
          "name": "stdout",
          "text": [
            "Epoch 1/30\n",
            "1719/1719 [==============================] - 7s 4ms/step - loss: 0.5931 - accuracy: 0.8065 - val_loss: 0.4398 - val_accuracy: 0.8558 - lr: 0.0200\n",
            "Epoch 2/30\n",
            "1719/1719 [==============================] - 6s 4ms/step - loss: 0.4917 - accuracy: 0.8403 - val_loss: 0.5223 - val_accuracy: 0.8488 - lr: 0.0200\n",
            "Epoch 3/30\n",
            "1719/1719 [==============================] - 7s 4ms/step - loss: 0.5129 - accuracy: 0.8420 - val_loss: 0.4830 - val_accuracy: 0.8548 - lr: 0.0200\n",
            "Epoch 4/30\n",
            "1719/1719 [==============================] - 6s 4ms/step - loss: 0.5083 - accuracy: 0.8479 - val_loss: 0.4766 - val_accuracy: 0.8548 - lr: 0.0200\n",
            "Epoch 5/30\n",
            "1719/1719 [==============================] - 7s 4ms/step - loss: 0.5107 - accuracy: 0.8479 - val_loss: 0.5483 - val_accuracy: 0.8300 - lr: 0.0200\n",
            "Epoch 6/30\n",
            "1719/1719 [==============================] - 7s 4ms/step - loss: 0.5060 - accuracy: 0.8529 - val_loss: 0.5157 - val_accuracy: 0.8486 - lr: 0.0200\n",
            "Epoch 7/30\n",
            "1719/1719 [==============================] - 6s 4ms/step - loss: 0.2966 - accuracy: 0.8949 - val_loss: 0.3924 - val_accuracy: 0.8682 - lr: 0.0100\n",
            "Epoch 8/30\n",
            "1719/1719 [==============================] - 7s 4ms/step - loss: 0.2524 - accuracy: 0.9067 - val_loss: 0.4058 - val_accuracy: 0.8706 - lr: 0.0100\n",
            "Epoch 9/30\n",
            "1719/1719 [==============================] - 7s 4ms/step - loss: 0.2362 - accuracy: 0.9137 - val_loss: 0.3956 - val_accuracy: 0.8798 - lr: 0.0100\n",
            "Epoch 10/30\n",
            "1719/1719 [==============================] - 6s 4ms/step - loss: 0.2204 - accuracy: 0.9189 - val_loss: 0.4021 - val_accuracy: 0.8888 - lr: 0.0100\n",
            "Epoch 11/30\n",
            "1719/1719 [==============================] - 7s 4ms/step - loss: 0.2072 - accuracy: 0.9229 - val_loss: 0.3960 - val_accuracy: 0.8824 - lr: 0.0100\n",
            "Epoch 12/30\n",
            "1719/1719 [==============================] - 7s 4ms/step - loss: 0.1969 - accuracy: 0.9273 - val_loss: 0.4498 - val_accuracy: 0.8810 - lr: 0.0100\n",
            "Epoch 13/30\n",
            "1719/1719 [==============================] - 6s 4ms/step - loss: 0.1391 - accuracy: 0.9464 - val_loss: 0.4016 - val_accuracy: 0.8916 - lr: 0.0050\n",
            "Epoch 14/30\n",
            "1719/1719 [==============================] - 6s 4ms/step - loss: 0.1208 - accuracy: 0.9539 - val_loss: 0.4132 - val_accuracy: 0.8892 - lr: 0.0050\n",
            "Epoch 15/30\n",
            "1719/1719 [==============================] - 7s 4ms/step - loss: 0.1133 - accuracy: 0.9564 - val_loss: 0.4172 - val_accuracy: 0.8906 - lr: 0.0050\n",
            "Epoch 16/30\n",
            "1719/1719 [==============================] - 7s 4ms/step - loss: 0.1048 - accuracy: 0.9592 - val_loss: 0.4436 - val_accuracy: 0.8894 - lr: 0.0050\n",
            "Epoch 17/30\n",
            "1719/1719 [==============================] - 6s 4ms/step - loss: 0.0993 - accuracy: 0.9621 - val_loss: 0.4527 - val_accuracy: 0.8872 - lr: 0.0050\n",
            "Epoch 18/30\n",
            "1719/1719 [==============================] - 7s 4ms/step - loss: 0.0754 - accuracy: 0.9721 - val_loss: 0.4571 - val_accuracy: 0.8906 - lr: 0.0025\n",
            "Epoch 19/30\n",
            "1719/1719 [==============================] - 6s 4ms/step - loss: 0.0700 - accuracy: 0.9746 - val_loss: 0.4777 - val_accuracy: 0.8908 - lr: 0.0025\n",
            "Epoch 20/30\n",
            "1719/1719 [==============================] - 6s 4ms/step - loss: 0.0660 - accuracy: 0.9762 - val_loss: 0.4755 - val_accuracy: 0.8910 - lr: 0.0025\n",
            "Epoch 21/30\n",
            "1719/1719 [==============================] - 6s 4ms/step - loss: 0.0619 - accuracy: 0.9783 - val_loss: 0.4884 - val_accuracy: 0.8924 - lr: 0.0025\n",
            "Epoch 22/30\n",
            "1719/1719 [==============================] - 7s 4ms/step - loss: 0.0593 - accuracy: 0.9786 - val_loss: 0.4932 - val_accuracy: 0.8916 - lr: 0.0025\n",
            "Epoch 23/30\n",
            "1719/1719 [==============================] - 7s 4ms/step - loss: 0.0497 - accuracy: 0.9831 - val_loss: 0.4982 - val_accuracy: 0.8926 - lr: 0.0012\n",
            "Epoch 24/30\n",
            "1719/1719 [==============================] - 6s 4ms/step - loss: 0.0470 - accuracy: 0.9846 - val_loss: 0.5081 - val_accuracy: 0.8914 - lr: 0.0012\n",
            "Epoch 25/30\n",
            "1719/1719 [==============================] - 7s 4ms/step - loss: 0.0456 - accuracy: 0.9854 - val_loss: 0.5142 - val_accuracy: 0.8886 - lr: 0.0012\n",
            "Epoch 26/30\n",
            "1719/1719 [==============================] - 7s 4ms/step - loss: 0.0438 - accuracy: 0.9862 - val_loss: 0.5178 - val_accuracy: 0.8920 - lr: 0.0012\n",
            "Epoch 27/30\n",
            "1719/1719 [==============================] - 7s 4ms/step - loss: 0.0423 - accuracy: 0.9869 - val_loss: 0.5283 - val_accuracy: 0.8904 - lr: 0.0012\n",
            "Epoch 28/30\n",
            "1719/1719 [==============================] - 7s 4ms/step - loss: 0.0386 - accuracy: 0.9887 - val_loss: 0.5298 - val_accuracy: 0.8920 - lr: 6.2500e-04\n",
            "Epoch 29/30\n",
            "1719/1719 [==============================] - 6s 4ms/step - loss: 0.0376 - accuracy: 0.9885 - val_loss: 0.5296 - val_accuracy: 0.8926 - lr: 6.2500e-04\n",
            "Epoch 30/30\n",
            "1719/1719 [==============================] - 7s 4ms/step - loss: 0.0369 - accuracy: 0.9887 - val_loss: 0.5333 - val_accuracy: 0.8908 - lr: 6.2500e-04\n"
          ]
        }
      ]
    },
    {
      "cell_type": "code",
      "source": [
        "plt.plot(history.epoch, history.history[\"lr\"], \"bo-\")\n",
        "plt.xlabel(\"Epoch\")\n",
        "plt.ylabel(\"Learning Rate\", color='b')\n",
        "plt.tick_params('y', colors='b')\n",
        "plt.gca().set_xlim(0, n_epochs - 1)\n",
        "plt.grid(True)\n",
        "\n",
        "ax2 = plt.gca().twinx()\n",
        "ax2.plot(history.epoch, history.history[\"val_loss\"], \"r^-\")\n",
        "ax2.set_ylabel('Validation Loss', color='r')\n",
        "ax2.tick_params('y', colors='r')\n",
        "\n",
        "plt.title(\"Reduce LR on Plateau\", fontsize=14)\n",
        "plt.show()"
      ],
      "metadata": {
        "colab": {
          "base_uri": "https://localhost:8080/",
          "height": 303
        },
        "id": "hBlflASUyW_C",
        "outputId": "2dffcb4e-0e18-450e-d322-ce68422e343d"
      },
      "execution_count": null,
      "outputs": [
        {
          "output_type": "display_data",
          "data": {
            "text/plain": [
              "<Figure size 432x288 with 2 Axes>"
            ],
            "image/png": "[encoded data removed]"
          },
          "metadata": {
            "needs_background": "light"
          }
        }
      ]
    },
    {
      "cell_type": "markdown",
      "source": [
        "### Regularization\n",
        "\n",
        "\n",
        "---\n",
        "\n",
        "$\\ell_1$ and $\\ell_2$ regularization"
      ],
      "metadata": {
        "id": "lGFSTO2KzL6F"
      }
    },
    {
      "cell_type": "code",
      "source": [
        "layer = keras.layers.Dense(100, activation=\"elu\",\n",
        "                           kernel_initializer=\"he_normal\",\n",
        "                           kernel_regularizer=keras.regularizers.l2(0.01))"
      ],
      "metadata": {
        "id": "wwQw0n4_yW8Y"
      },
      "execution_count": null,
      "outputs": []
    },
    {
      "cell_type": "code",
      "source": [
        "# Defining, compile and train thje model at 10 Epochs\n",
        "model = keras.models.Sequential([\n",
        "    keras.layers.Flatten(input_shape=[28, 28]),\n",
        "    keras.layers.Dense(300, activation=\"elu\",\n",
        "                       kernel_initializer=\"he_normal\",\n",
        "                       kernel_regularizer=keras.regularizers.l2(0.01)),\n",
        "    keras.layers.Dense(100, activation=\"elu\",\n",
        "                       kernel_initializer=\"he_normal\",\n",
        "                       kernel_regularizer=keras.regularizers.l2(0.01)),\n",
        "    keras.layers.Dense(10, activation=\"softmax\",\n",
        "                       kernel_regularizer=keras.regularizers.l2(0.01))\n",
        "])\n",
        "model.compile(loss=\"sparse_categorical_crossentropy\", optimizer=\"nadam\", metrics=[\"accuracy\"])\n",
        "n_epochs = 10\n",
        "history = model.fit(X_train_scaled, y_train, epochs=n_epochs,\n",
        "                    validation_data=(X_valid_scaled, y_valid))"
      ],
      "metadata": {
        "colab": {
          "base_uri": "https://localhost:8080/"
        },
        "id": "AhIz_NSZyW5_",
        "outputId": "9a352943-aac5-456f-96be-92c35eff067f"
      },
      "execution_count": null,
      "outputs": [
        {
          "output_type": "stream",
          "name": "stdout",
          "text": [
            "Epoch 1/10\n",
            "1719/1719 [==============================] - 11s 6ms/step - loss: 1.5956 - accuracy: 0.8124 - val_loss: 0.7169 - val_accuracy: 0.8340\n",
            "Epoch 2/10\n",
            "1719/1719 [==============================] - 9s 5ms/step - loss: 0.7197 - accuracy: 0.8274 - val_loss: 0.6850 - val_accuracy: 0.8376\n",
            "Epoch 3/10\n",
            "1719/1719 [==============================] - 10s 6ms/step - loss: 0.7017 - accuracy: 0.8327 - val_loss: 0.6988 - val_accuracy: 0.8340\n",
            "Epoch 4/10\n",
            "1719/1719 [==============================] - 10s 6ms/step - loss: 0.6950 - accuracy: 0.8365 - val_loss: 0.6728 - val_accuracy: 0.8466\n",
            "Epoch 5/10\n",
            "1719/1719 [==============================] - 10s 6ms/step - loss: 0.6897 - accuracy: 0.8373 - val_loss: 0.6622 - val_accuracy: 0.8502\n",
            "Epoch 6/10\n",
            "1719/1719 [==============================] - 9s 5ms/step - loss: 0.6872 - accuracy: 0.8378 - val_loss: 0.6614 - val_accuracy: 0.8498\n",
            "Epoch 7/10\n",
            "1719/1719 [==============================] - 10s 6ms/step - loss: 0.6858 - accuracy: 0.8399 - val_loss: 0.6583 - val_accuracy: 0.8506\n",
            "Epoch 8/10\n",
            "1719/1719 [==============================] - 10s 6ms/step - loss: 0.6832 - accuracy: 0.8412 - val_loss: 0.7487 - val_accuracy: 0.8206\n",
            "Epoch 9/10\n",
            "1719/1719 [==============================] - 10s 6ms/step - loss: 0.6846 - accuracy: 0.8394 - val_loss: 0.6605 - val_accuracy: 0.8516\n",
            "Epoch 10/10\n",
            "1719/1719 [==============================] - 10s 6ms/step - loss: 0.6806 - accuracy: 0.8402 - val_loss: 0.6598 - val_accuracy: 0.8470\n"
          ]
        }
      ]
    },
    {
      "cell_type": "markdown",
      "source": [
        "######**Gradient** **Clipping**"
      ],
      "metadata": {
        "id": "fojLCjZlz0nD"
      }
    },
    {
      "cell_type": "code",
      "source": [
        "optimizer = keras.optimizers.SGD(clipvalue=1.0)"
      ],
      "metadata": {
        "id": "KvbHgdCNyW3l"
      },
      "execution_count": null,
      "outputs": []
    },
    {
      "cell_type": "code",
      "source": [
        "optimizer = keras.optimizers.SGD(clipnorm=1.0)"
      ],
      "metadata": {
        "id": "C3YXxpa0yW1K"
      },
      "execution_count": null,
      "outputs": []
    },
    {
      "cell_type": "code",
      "source": [
        "model = keras.models.Sequential([\n",
        "    keras.layers.Flatten(input_shape=[28, 28]),\n",
        "    keras.layers.BatchNormalization(),\n",
        "    keras.layers.Dense(300, use_bias=False),\n",
        "    keras.layers.BatchNormalization(),\n",
        "    keras.layers.Activation(\"relu\"),\n",
        "    keras.layers.Dense(100, use_bias=False),\n",
        "    keras.layers.BatchNormalization(),\n",
        "    keras.layers.Activation(\"relu\"),\n",
        "    keras.layers.Dense(10, activation=\"softmax\")\n",
        "])"
      ],
      "metadata": {
        "id": "0f0Pk92-yWys"
      },
      "execution_count": null,
      "outputs": []
    },
    {
      "cell_type": "code",
      "source": [
        "model.compile(loss=\"sparse_categorical_crossentropy\",\n",
        "              optimizer=keras.optimizers.SGD(learning_rate=1e-3,clipvalue=1.0),\n",
        "              metrics=[\"accuracy\"])"
      ],
      "metadata": {
        "id": "qkNFzjMoyWwN"
      },
      "execution_count": null,
      "outputs": []
    },
    {
      "cell_type": "code",
      "source": [
        "# fitting the model at 15 epochs\n",
        "history = model.fit(X_train, y_train, epochs=15,\n",
        "                    validation_data=(X_valid, y_valid))"
      ],
      "metadata": {
        "colab": {
          "base_uri": "https://localhost:8080/"
        },
        "id": "rPGBoheryWt5",
        "outputId": "4a3b5cb5-58cb-4679-ab7a-29827a7f61b8"
      },
      "execution_count": null,
      "outputs": [
        {
          "output_type": "stream",
          "name": "stdout",
          "text": [
            "Epoch 1/15\n",
            "1719/1719 [==============================] - 11s 6ms/step - loss: 1.0346 - accuracy: 0.6739 - val_loss: 0.6680 - val_accuracy: 0.7884\n",
            "Epoch 2/15\n",
            "1719/1719 [==============================] - 10s 6ms/step - loss: 0.6757 - accuracy: 0.7819 - val_loss: 0.5537 - val_accuracy: 0.8212\n",
            "Epoch 3/15\n",
            "1719/1719 [==============================] - 10s 6ms/step - loss: 0.5961 - accuracy: 0.8021 - val_loss: 0.4996 - val_accuracy: 0.8352\n",
            "Epoch 4/15\n",
            "1719/1719 [==============================] - 10s 6ms/step - loss: 0.5456 - accuracy: 0.8176 - val_loss: 0.4655 - val_accuracy: 0.8458\n",
            "Epoch 5/15\n",
            "1719/1719 [==============================] - 10s 6ms/step - loss: 0.5140 - accuracy: 0.8250 - val_loss: 0.4419 - val_accuracy: 0.8510\n",
            "Epoch 6/15\n",
            "1719/1719 [==============================] - 10s 6ms/step - loss: 0.4915 - accuracy: 0.8309 - val_loss: 0.4237 - val_accuracy: 0.8540\n",
            "Epoch 7/15\n",
            "1719/1719 [==============================] - 10s 6ms/step - loss: 0.4741 - accuracy: 0.8375 - val_loss: 0.4103 - val_accuracy: 0.8582\n",
            "Epoch 8/15\n",
            "1719/1719 [==============================] - 10s 6ms/step - loss: 0.4603 - accuracy: 0.8407 - val_loss: 0.3994 - val_accuracy: 0.8628\n",
            "Epoch 9/15\n",
            "1719/1719 [==============================] - 10s 6ms/step - loss: 0.4465 - accuracy: 0.8458 - val_loss: 0.3911 - val_accuracy: 0.8640\n",
            "Epoch 10/15\n",
            "1719/1719 [==============================] - 10s 6ms/step - loss: 0.4338 - accuracy: 0.8500 - val_loss: 0.3828 - val_accuracy: 0.8682\n",
            "Epoch 11/15\n",
            "1719/1719 [==============================] - 10s 6ms/step - loss: 0.4244 - accuracy: 0.8531 - val_loss: 0.3762 - val_accuracy: 0.8698\n",
            "Epoch 12/15\n",
            "1719/1719 [==============================] - 10s 6ms/step - loss: 0.4173 - accuracy: 0.8548 - val_loss: 0.3718 - val_accuracy: 0.8698\n",
            "Epoch 13/15\n",
            "1719/1719 [==============================] - 10s 6ms/step - loss: 0.4082 - accuracy: 0.8574 - val_loss: 0.3663 - val_accuracy: 0.8722\n",
            "Epoch 14/15\n",
            "1719/1719 [==============================] - 10s 6ms/step - loss: 0.4006 - accuracy: 0.8595 - val_loss: 0.3625 - val_accuracy: 0.8744\n",
            "Epoch 15/15\n",
            "1719/1719 [==============================] - 10s 6ms/step - loss: 0.3939 - accuracy: 0.8616 - val_loss: 0.3583 - val_accuracy: 0.8756\n"
          ]
        }
      ]
    },
    {
      "cell_type": "markdown",
      "source": [
        "#####Batch Normalization"
      ],
      "metadata": {
        "id": "1UyBkFNy0Fdq"
      }
    },
    {
      "cell_type": "code",
      "source": [
        "# A batch Normalization layer added to stabilize the neurons\n",
        "model = keras.models.Sequential([\n",
        "    keras.layers.Flatten(input_shape=[28, 28]),\n",
        "    keras.layers.BatchNormalization(),\n",
        "    keras.layers.Dense(300, use_bias=False),\n",
        "    keras.layers.BatchNormalization(),\n",
        "    keras.layers.Activation(\"relu\"),\n",
        "    keras.layers.Dense(100, use_bias=False),\n",
        "    keras.layers.BatchNormalization(),\n",
        "    keras.layers.Activation(\"relu\"),\n",
        "    keras.layers.Dense(10, activation=\"softmax\")\n",
        "])"
      ],
      "metadata": {
        "id": "_8nPnqXcyWro"
      },
      "execution_count": null,
      "outputs": []
    },
    {
      "cell_type": "code",
      "source": [
        "model.compile(loss=\"sparse_categorical_crossentropy\",\n",
        "              optimizer=keras.optimizers.SGD(learning_rate=1e-3),\n",
        "              metrics=[\"accuracy\"])"
      ],
      "metadata": {
        "id": "6-MrC5ktyWpW"
      },
      "execution_count": null,
      "outputs": []
    },
    {
      "cell_type": "code",
      "source": [
        "# fitting the model at 15 epochs\n",
        "history = model.fit(X_train, y_train, epochs=15,\n",
        "                    validation_data=(X_valid, y_valid))"
      ],
      "metadata": {
        "colab": {
          "base_uri": "https://localhost:8080/"
        },
        "id": "zRI6ALnUyWm_",
        "outputId": "e226a629-b74b-4bb2-a94a-6360d748b1ef"
      },
      "execution_count": null,
      "outputs": [
        {
          "output_type": "stream",
          "name": "stdout",
          "text": [
            "Epoch 1/15\n",
            "1719/1719 [==============================] - 10s 6ms/step - loss: 1.0199 - accuracy: 0.6861 - val_loss: 0.6611 - val_accuracy: 0.7864\n",
            "Epoch 2/15\n",
            "1719/1719 [==============================] - 9s 6ms/step - loss: 0.6609 - accuracy: 0.7862 - val_loss: 0.5478 - val_accuracy: 0.8196\n",
            "Epoch 3/15\n",
            "1719/1719 [==============================] - 10s 6ms/step - loss: 0.5857 - accuracy: 0.8046 - val_loss: 0.4968 - val_accuracy: 0.8332\n",
            "Epoch 4/15\n",
            "1719/1719 [==============================] - 9s 5ms/step - loss: 0.5370 - accuracy: 0.8190 - val_loss: 0.4662 - val_accuracy: 0.8410\n",
            "Epoch 5/15\n",
            "1719/1719 [==============================] - 10s 6ms/step - loss: 0.5053 - accuracy: 0.8278 - val_loss: 0.4438 - val_accuracy: 0.8498\n",
            "Epoch 6/15\n",
            "1719/1719 [==============================] - 9s 6ms/step - loss: 0.4845 - accuracy: 0.8330 - val_loss: 0.4278 - val_accuracy: 0.8526\n",
            "Epoch 7/15\n",
            "1719/1719 [==============================] - 10s 6ms/step - loss: 0.4692 - accuracy: 0.8377 - val_loss: 0.4140 - val_accuracy: 0.8566\n",
            "Epoch 8/15\n",
            "1719/1719 [==============================] - 10s 6ms/step - loss: 0.4542 - accuracy: 0.8416 - val_loss: 0.4034 - val_accuracy: 0.8594\n",
            "Epoch 9/15\n",
            "1719/1719 [==============================] - 10s 6ms/step - loss: 0.4414 - accuracy: 0.8477 - val_loss: 0.3947 - val_accuracy: 0.8610\n",
            "Epoch 10/15\n",
            "1719/1719 [==============================] - 10s 6ms/step - loss: 0.4305 - accuracy: 0.8504 - val_loss: 0.3868 - val_accuracy: 0.8650\n",
            "Epoch 11/15\n",
            "1719/1719 [==============================] - 10s 6ms/step - loss: 0.4195 - accuracy: 0.8540 - val_loss: 0.3798 - val_accuracy: 0.8692\n",
            "Epoch 12/15\n",
            "1719/1719 [==============================] - 10s 6ms/step - loss: 0.4142 - accuracy: 0.8550 - val_loss: 0.3752 - val_accuracy: 0.8702\n",
            "Epoch 13/15\n",
            "1719/1719 [==============================] - 10s 6ms/step - loss: 0.4056 - accuracy: 0.8581 - val_loss: 0.3689 - val_accuracy: 0.8746\n",
            "Epoch 14/15\n",
            "1719/1719 [==============================] - 10s 6ms/step - loss: 0.3969 - accuracy: 0.8609 - val_loss: 0.3653 - val_accuracy: 0.8742\n",
            "Epoch 15/15\n",
            "1719/1719 [==============================] - 10s 6ms/step - loss: 0.3904 - accuracy: 0.8635 - val_loss: 0.3610 - val_accuracy: 0.8740\n"
          ]
        }
      ]
    },
    {
      "cell_type": "markdown",
      "source": [
        "#####Early Stopping"
      ],
      "metadata": {
        "id": "RQWJauJd0i-S"
      }
    },
    {
      "cell_type": "code",
      "source": [
        "model.add(keras.layers.Dense(10, activation=\"softmax\"))"
      ],
      "metadata": {
        "id": "5KXInoSuyWkt"
      },
      "execution_count": null,
      "outputs": []
    },
    {
      "cell_type": "code",
      "source": [
        "optimizer = keras.optimizers.Nadam(learning_rate=5e-5)\n",
        "model.compile(loss=\"sparse_categorical_crossentropy\",\n",
        "              optimizer=optimizer,\n",
        "              metrics=[\"accuracy\"])"
      ],
      "metadata": {
        "id": "jKENGQ_5yWiV"
      },
      "execution_count": null,
      "outputs": []
    },
    {
      "cell_type": "code",
      "source": [
        "(X_train_full, y_train_full), (X_test, y_test) = keras.datasets.cifar10.load_data()\n",
        "\n",
        "X_train = X_train_full[5000:]\n",
        "y_train = y_train_full[5000:]\n",
        "X_valid = X_train_full[:5000]\n",
        "y_valid = y_train_full[:5000]"
      ],
      "metadata": {
        "colab": {
          "base_uri": "https://localhost:8080/"
        },
        "id": "5eYMmdA5yWf-",
        "outputId": "3742198b-c0f1-46dd-9d57-88e8c768c6d0"
      },
      "execution_count": null,
      "outputs": [
        {
          "output_type": "stream",
          "name": "stdout",
          "text": [
            "Downloading data from https://www.cs.toronto.edu/~kriz/cifar-10-python.tar.gz\n",
            "170500096/170498071 [==============================] - 2s 0us/step\n",
            "170508288/170498071 [==============================] - 2s 0us/step\n"
          ]
        }
      ]
    },
    {
      "cell_type": "code",
      "source": [
        "early_stopping_cb = keras.callbacks.EarlyStopping(patience=20)\n",
        "model_checkpoint_cb = keras.callbacks.ModelCheckpoint(\"my_cifar10_model.h5\", save_best_only=True)\n",
        "run_index = 1 # increment every time you train the model\n",
        "run_logdir = os.path.join(os.curdir, \"my_cifar10_logs\", \"run_{:03d}\".format(run_index))\n",
        "tensorboard_cb = keras.callbacks.TensorBoard(run_logdir)\n",
        "callbacks = [early_stopping_cb, model_checkpoint_cb, tensorboard_cb]"
      ],
      "metadata": {
        "id": "HjWT4bVZyWdk"
      },
      "execution_count": null,
      "outputs": []
    },
    {
      "cell_type": "markdown",
      "source": [
        "###Optimizers"
      ],
      "metadata": {
        "id": "VDZPMtSq05NT"
      }
    },
    {
      "cell_type": "code",
      "source": [
        "# Adams Optimizer\n",
        "optimizer = keras.optimizers.Adam(learning_rate=0.001, beta_1=0.9, beta_2=0.999)"
      ],
      "metadata": {
        "id": "abnopBHw01Vc"
      },
      "execution_count": null,
      "outputs": []
    },
    {
      "cell_type": "code",
      "source": [
        "#Nadam Optimizer\n",
        "optimizer = keras.optimizers.Nadam(learning_rate=0.001, beta_1=0.9, beta_2=0.999)"
      ],
      "metadata": {
        "id": "51bXsijE01Td"
      },
      "execution_count": null,
      "outputs": []
    },
    {
      "cell_type": "code",
      "source": [
        "#RMSProp Optimizer\n",
        "optimizer = keras.optimizers.RMSprop(learning_rate=0.001, rho=0.9)"
      ],
      "metadata": {
        "id": "d1pTKKQN01RM"
      },
      "execution_count": null,
      "outputs": []
    },
    {
      "cell_type": "code",
      "source": [
        "#Adamax Optimizer\n",
        "optimizer = keras.optimizers.Adamax(learning_rate=0.001, beta_1=0.9, beta_2=0.999)"
      ],
      "metadata": {
        "id": "XRaoRoLs1HkJ"
      },
      "execution_count": null,
      "outputs": []
    },
    {
      "cell_type": "markdown",
      "source": [
        "##Reference:\n",
        "#####https://github.com/ageron/handson-ml2/blob/master/11_training_deep_neural_networks.ipynb"
      ],
      "metadata": {
        "id": "sg0w1i-Gt92M"
      }
    }
  ]
}