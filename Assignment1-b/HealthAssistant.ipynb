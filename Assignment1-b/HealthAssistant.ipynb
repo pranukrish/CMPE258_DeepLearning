{
  "nbformat": 4,
  "nbformat_minor": 0,
  "metadata": {
    "colab": {
      "provenance": []
    },
    "kernelspec": {
      "name": "python3",
      "display_name": "Python 3"
    },
    "language_info": {
      "name": "python"
    }
  },
  "cells": [
    {
      "cell_type": "code",
      "source": [
        "from google.colab import drive\n",
        "drive.mount('/content/gdrive')"
      ],
      "metadata": {
        "colab": {
          "base_uri": "https://localhost:8080/"
        },
        "id": "V_7xthYHMuVy",
        "outputId": "aee17e2d-0389-4d23-f2d5-69d5be0a2ffa"
      },
      "execution_count": 28,
      "outputs": [
        {
          "output_type": "stream",
          "name": "stdout",
          "text": [
            "Drive already mounted at /content/gdrive; to attempt to forcibly remount, call drive.mount(\"/content/gdrive\", force_remount=True).\n"
          ]
        }
      ]
    },
    {
      "cell_type": "code",
      "source": [
        "import json\n",
        "import yaml"
      ],
      "metadata": {
        "id": "36qfbOUZM44c"
      },
      "execution_count": 29,
      "outputs": []
    },
    {
      "cell_type": "code",
      "source": [
        "with open('/content/gdrive/MyDrive/A1b-ChatGPT/data.yaml', 'r') as file:\n",
        "  data = yaml.safe_load(file)\n",
        "\n",
        "data"
      ],
      "metadata": {
        "colab": {
          "base_uri": "https://localhost:8080/"
        },
        "id": "jovOn-wyNwPL",
        "outputId": "622f29a0-d0a8-4e86-ff65-2987caa4bab3"
      },
      "execution_count": 30,
      "outputs": [
        {
          "output_type": "execute_result",
          "data": {
            "text/plain": [
              "{'categories': ['depression'],\n",
              " 'conversations': [['What Is Depression?',\n",
              "   'Depression is a common and serious medical illness that negatively affects how you feel, the way you think and how you act.',\n",
              "   'Fortunately,it is also treatable.',\n",
              "   'Depression causes feelings of sadness and/or a loss of interest in activities you once enjoyed. It can lead to a variety of emotional and physical problems and can decrease your ability to function at work and at home.'],\n",
              "  ['I feel i have let my parents down',\n",
              "   'No matter what,your parents will always be proud of you and will love you.',\n",
              "   'You will feel much better if you share your feelings with them.'],\n",
              "  ['What are the types of depression?',\n",
              "   'There are many different forms of depression but most common types are.',\n",
              "   'Clinical depression,persistent depressive disorder,bipolar disorder,postnatal disorder.'],\n",
              "  ['I am good for nothing.',\n",
              "   \"Don't ever think you cannot achieve what you want.\",\n",
              "   'You are capable of reaching your goals.Here is a quote for you Everything you can imagine is real.'],\n",
              "  ['I am feeling stressed lately',\n",
              "   'My research says that music is the best way to calm yourself.',\n",
              "   'so visit the link and listen to your favourite music.',\n",
              "   'it will definitely cheer you up \"https://www.spotify.com\"'],\n",
              "  ['i want to kill myself',\n",
              "   'Helpline is available,you can contact the counsellor today:9152987821.Always remember you mean something to someone.'],\n",
              "  ['i am afraid i will fail again',\n",
              "   'failure is the stepping stone towards success.Never fear failure.',\n",
              "   'Your hardwork and determination will help you reach your goal.'],\n",
              "  ['What is Depression?',\n",
              "   'Depression\\\\xa0is a mood disorder that causes a persistent feeling of sadness and loss of interest. Also called major\\\\xa0depressive\\\\xa0disorder or clinical\\\\xa0depression, it affects how you feel, think and behave and can lead to a variety of emotional and physical problems.'],\n",
              "  ['What are the causes of depression?',\n",
              "   \"It's complicated, and there are multiple\\xa0causes\\xa0of major\\xa0depression. Factors such as genetic vulnerability, severe life stressors, substances you may take (some medications, drugs and alcohol) and medical conditions can affect the way your brain regulates your moods.\"],\n",
              "  ['What are the top causes of depression?',\n",
              "   'Abuse. Past physical, sexual, or emotional abuse can increase the vulnerability to clinical\\\\xa0depression\\\\xa0later in life.'],\n",
              "  ['Which age group has the highest rate of depression?',\n",
              "   'This number represented 7.1% of all U.S. adults. The\\\\xa0prevalence\\\\xa0of major\\\\xa0depressive\\\\xa0episode was higher among adult females (8.7%) compared to males (5.3%). The\\\\xa0prevalence\\\\xa0of adults\\\\xa0with\\\\xa0a major\\\\xa0depressive\\\\xa0episode was\\\\xa0highest\\\\xa0among individuals aged 18-25 (13.1%).'],\n",
              "  ['Which country has the highest rate of depression?',\n",
              "   'The most depressed country is Afghanistan, where more than one in five people suffer from the disorder. The least depressed is\\\\xa0Japan, with a diagnosed rate of less than 2.5 percent.'],\n",
              "  ['Which country has the lowest rate of depression?',\n",
              "   'The most depressed country is Afghanistan, where more than one in five people suffer from the disorder. The least depressed is\\\\xa0Japan, with a diagnosed rate of less than 2.5 percent.'],\n",
              "  ['Is school a cause of depression?',\n",
              "   'Not only\\\\xa0does school\\\\xa0sometimes contribute to\\\\xa0depression,\\\\xa0depression\\\\xa0can also interfere with\\\\xa0school. Moreover, research shows that 75 percent of all mental health conditions begin by age 24. Hence, the college years are a critical time for understanding and talking about teen mental health.'],\n",
              "  ['What is the biological cause of depression?',\n",
              "   \"There is no single\\xa0cause\\xa0for\\xa0depression; rather it's a combination of stress and a person's vulnerability to developing\\xa0depression. The predisposition to developing\\xa0depression\\xa0can be inherited. Other\\xa0biological causes\\xa0for\\xa0depression\\xa0can include physical illness, the process of ageing and gender.\"],\n",
              "  ['How does depression affect the world?',\n",
              "   'Depression\\\\xa0is a leading\\\\xa0cause\\\\xa0of disability worldwide and is a major contributor to the overall\\\\xa0global\\\\xa0burden of disease. More women are affected by\\\\xa0depression\\\\xa0than men.\\\\xa0Depression\\\\xa0can lead to suicide. There are effective psychological and pharmacological treatments for moderate and severe\\\\xa0depression.'],\n",
              "  ['Which race has the highest rate of depression?',\n",
              "   'Major depression was most prevalent among\\\\xa0Hispanics\\\\xa0(10.8%), followed by\\\\xa0African Americans\\\\xa0(8.9%) and\\\\xa0Whites\\\\xa0(7.8%). The odds of depressive disorders among older\\\\xa0Hispanics\\\\xa0were 44% greater than among\\\\xa0Whites\\\\xa0(OR = 1.44; 95% CI = 1.02, 2.04), representing a significantly greater prevalence of major depression.'],\n",
              "  ['What is the meaning of anxiety and depression?',\n",
              "   'Depression\\\\xa0and\\\\xa0anxiety\\\\xa0disorders are different, but people with\\\\xa0depression\\\\xa0often experience symptoms similar to those of an\\\\xa0anxiety\\\\xa0disorder, such as nervousness, irritability, and problems sleeping and concentrating. But each disorder has its own causes and its own emotional and behavioral symptoms.'],\n",
              "  ['Does oversleeping cause depression?',\n",
              "   \"It's important to remember that\\xa0oversleeping\\xa0is a possible symptom of\\xa0depression\\xa0and that\\xa0oversleeping\\xa0doesn't\\xa0cause depression. But it\\xa0can\\xa0exacerbate and worsen\\xa0depression symptoms\"],\n",
              "  ['Can lack of sleep make you feel sad?',\n",
              "   'Studies show\\\\xa0people\\\\xa0who are\\\\xa0sleep\\\\xa0deprived report increases in negative moods (anger, frustration, irritability,\\\\xa0sadness) and decreases in positive moods. And sleeplessness is often a symptom of mood disorders, such as depression and anxiety.'],\n",
              "  ['Is depression a side effect of diabetes?',\n",
              "   \"If you have\\xa0diabetes\\xa0— either type 1 or type 2 — you have an increased risk of developing\\xa0depression. And if you're\\xa0depressed, you may have a greater chance of developing type 2\\xa0diabetes. The good news is that\\xa0diabetes\\xa0and\\xa0depression\\xa0can be treated together.\"],\n",
              "  ['Can low blood sugar cause suicidal thoughts?',\n",
              "   'The observed association between plasma\\\\xa0glucose levels, insulin resistance\\\\xa0and suicidal\\\\xa0behaviour suggests that disturbances in\\\\xa0glucose\\\\xa0metabolism are associated with\\\\xa0suicidal ideation and\\\\xa0attempts.'],\n",
              "  ['How long can Anxiety last?',\n",
              "   \"Anxiety attacks\\xa0usually peak within\\xa010 minutes, and they rarely last more than\\xa030 minutes. But during that short time, you may experience terror so severe that you feel as if you're about to die or totally lose control.\"],\n",
              "  ['What are the stages of anxiety?',\n",
              "   'Anxiety levels\\\\xa0are typically classified by the level of distress and impairment experienced into four categories namely, mild\\\\xa0anxiety, moderate\\\\xa0anxiety, severe\\\\xa0anxiety\\\\xa0and panic level\\\\xa0anxiety.'],\n",
              "  ['At what age does anxiety peak?',\n",
              "   'Adults\\\\xa0ages\\\\xa030 to 44 have the highest rate of\\\\xa0anxiety\\\\xa0of this\\\\xa0age\\\\xa0group, with around 23% of people this\\\\xa0age\\\\xa0reporting an\\\\xa0anxiety\\\\xa0disorder within the past year.'],\n",
              "  ['Why is anxiety bad for you?',\n",
              "   'Anxiety\\\\xa0disorders can cause rapid heart rate, palpitations, and chest pain.\\\\xa0You\\\\xa0may also be at an increased risk of high blood pressure and heart disease. If\\\\xa0you\\\\xa0already have heart disease,\\\\xa0anxiety\\\\xa0disorders may raise the risk of coronary events.'],\n",
              "  ['What is the 3 3 3 rule for anxiety?',\n",
              "   \"There's an\\xa0anxiety-reducing technique called grounding. There are different versions of this, but an easy one to remember is the\\xa03-3-3 rule. Mentally note\\xa0three\\xa0things you see,\\xa0three\\xa0sounds you hear, and then move\\xa0three\\xa0parts of your body. This exercise can help your mind refocus on something else.\"],\n",
              "  ['Do we control our thoughts?',\n",
              "   'We\\\\xa0are aware of a tiny fraction of the\\\\xa0thinking\\\\xa0that goes on in\\\\xa0our minds, and\\\\xa0we can control\\\\xa0only a tiny part of\\\\xa0our\\\\xa0conscious\\\\xa0thoughts. The vast majority of\\\\xa0our thinking\\\\xa0efforts goes on subconsciously. ... Slips of the tongue and accidental actions offer glimpses of\\\\xa0our\\\\xa0unfiltered subconscious mental life.'],\n",
              "  ['How many thoughts a day do we have?',\n",
              "   \"A new study has suggested that an average person has 6,200\\xa0thoughts\\xa0per\\xa0day. Thousands of\\xa0thoughts\\xa0cross our mind through the\\xa0day.\\xa0Many\\xa0people even complain that they can't sleep immediately after going to bed as their brain\\xa0does\\xa0not stop thinking.\"],\n",
              "  ['How can we reduce anxiety?',\n",
              "   '3 3 3 rule is the best method to reduce anxiety.',\n",
              "   'In this method you have to mentally note\\\\xa0three\\\\xa0things you see,\\\\xa0three\\\\xa0sounds you hear, and then move\\\\xa0three\\\\xa0parts of your body. This exercise can help your mind refocus on something else.'],\n",
              "  ['I am lonely!',\n",
              "   \"You are never lonely if you look around carefully you will find people who care for you and would love to have your company. Besides if you are feeling lonely literally I suggest you watch a horror movie then you won't feel lonely anymore. ;)\"],\n",
              "  ['No one likes me!',\n",
              "   \"You really think that? I'd suggest you try helping someone who really needs your help you'll straight up get a person to like you just by being nice. Kindness is the best gift you can offer to anyone :)\"],\n",
              "  ['I think I am ugly!',\n",
              "   'Well do you really think that? Would you like to see the most beautiful face ever? Open your WebCam and voila, the prettiest face on this planet magically appears.'],\n",
              "  ['I am good for nothing!',\n",
              "   'Your perception of how good you are, will never be accurate. If you wake up everyday in the morning, smile to yourself and tell yourself that the day is yours to seize you might stop feeling that way. Carpe Diem! my friend.'],\n",
              "  ['I wish I was better than them',\n",
              "   \"Life is never about being better than anyone else, it's always about being better than yourself, if you have the guts to be better than yourself, you are automatically the best person to ever exist!\"],\n",
              "  ['I hate myself!',\n",
              "   'When God was creating the universe he gave humans the power to think and the contemplate, so that we can understand the world and make it a better place. God did not give you brains to hate yourself, it wuld be wiser to love yourself and show God that you are serving the purpose for which you were sent.'],\n",
              "  [\"I wish I could've been a winner\",\n",
              "   'Our lives started off with winning, my friend. Everyone is born to be a winner, we just need to figure out the right way and need to wait for the right time.'],\n",
              "  ['I hate losing.',\n",
              "   'First of all Ill annoy you with a common saying, \"Failures are stepping stones to success.\" And then Ill tell you, winning just boosts your ego, it is your failures that actually teach you.'],\n",
              "  [\"I think I'm losing my mind\",\n",
              "   \"You mean your cloud storage, SD card, or your Memory drive? If a machine like me doesn't lose it's memory unless a superior being that is you, a human doesen't erase it's memory, what could possibly go wrong to put you in this state?\"],\n",
              "  ['I want a break',\n",
              "   'A break is putting your mind to rest getting rid of negative thoughts and stress. Your life is completely in your hands and taking a few hours off from pressurizing your brain will definitely be beneficial for you.'],\n",
              "  ['I am stressed out',\n",
              "   \"You know taking too much stress will affect you negatively. Sometimes it's better to let go of the thoughts in your head and let your mind chill.\"],\n",
              "  ['I will never succeed in life',\n",
              "   'Success is something that is achieved at different times by different people, being patient and working while ignoring anything and everything that pulls you back is an important aspect in being successful.'],\n",
              "  ['I am sad',\n",
              "   'Hey,hang in there.I know time is tough but be patient and everything will fall into place.',\n",
              "   'Here is a quote that I found which could cheer you up Forget what is gone, appreciate what remains, and look forward for what is coming next.'],\n",
              "  ['I am a victim of bullying',\n",
              "   'Bullying is wrong and no one should be bullied.',\n",
              "   'I highly recommend you to file a case against your bully.'],\n",
              "  ['I am afraid to file a case against bullying',\n",
              "   \"Bullying is very wrong and you shouldn't let anyone overpower you.\",\n",
              "   'I highly recommend you to stand for yourself and report this to your guardian.'],\n",
              "  ['I wish to quit',\n",
              "   \"Winners never quit and quitters never win a very common saying, but it isn't easy to follow, quitting should never be one of your options always think of ways to fight life back and to emerge out stronger than ever.\"],\n",
              "  ['I want to leave the cou ntry and run away',\n",
              "   'Why do you want to spend so much on this thought, I think it would be better to go on a vacation in your beautiful country and visit some amazing places that you are yet to visit.'],\n",
              "  ['I let everyojokne down',\n",
              "   'If you are the one who let them down you were the one who raised there hopes in the first place.',\n",
              "   'If you have done it once I can guarantee you can do it over and over again.'],\n",
              "  [\"I can't do this anymore\",\n",
              "   \"If you are really that exhausted you definitely need a break, and taking a teeny tiny break isn't very harmful, take some time off let your mind be at peace and get back to work with all the enrgy and enthusiasm that you have.\"],\n",
              "  ['My time has come',\n",
              "   'Yeahh!! The time has come for you to show the world that you are the greatest person alive, and no one else can be as good as you are.'],\n",
              "  ['I am feeling anxious lately.',\n",
              "   'I have heard that 3 3 3 rule is the best method to reduce anxiety.',\n",
              "   'In this method you have to mentally note\\\\xa0three\\\\xa0things you see,\\\\xa0three\\\\xa0sounds you hear, and then move\\\\xa0three\\\\xa0parts of your body.',\n",
              "   'This exercise can help your mind refocus on something else.',\n",
              "   'Give this method a try I am sure it will help you']]}"
            ]
          },
          "metadata": {},
          "execution_count": 30
        }
      ]
    },
    {
      "cell_type": "code",
      "source": [
        "convos = data['conversations']\n",
        "\n",
        "convos[0]"
      ],
      "metadata": {
        "colab": {
          "base_uri": "https://localhost:8080/"
        },
        "id": "OmTsPZSpOG0g",
        "outputId": "36d808f1-bac5-4777-bfbd-c67cccea68b6"
      },
      "execution_count": 31,
      "outputs": [
        {
          "output_type": "execute_result",
          "data": {
            "text/plain": [
              "['What Is Depression?',\n",
              " 'Depression is a common and serious medical illness that negatively affects how you feel, the way you think and how you act.',\n",
              " 'Fortunately,it is also treatable.',\n",
              " 'Depression causes feelings of sadness and/or a loss of interest in activities you once enjoyed. It can lead to a variety of emotional and physical problems and can decrease your ability to function at work and at home.']"
            ]
          },
          "metadata": {},
          "execution_count": 31
        }
      ]
    },
    {
      "cell_type": "code",
      "source": [
        "output = []"
      ],
      "metadata": {
        "id": "o-v437pATBrh"
      },
      "execution_count": 32,
      "outputs": []
    },
    {
      "cell_type": "code",
      "source": [
        "for convo in convos:\n",
        "  completion = ''\n",
        "  for i, dialog in enumerate(convo):\n",
        "    if i == 0:\n",
        "      prompt = dialog\n",
        "      # p_encode = prompt.encode(\"ascii\", \"ignore\")\n",
        "      # prompt = p_encode.decode()\n",
        "      prompt = prompt.replace(\"\\xa0\", \" \")\n",
        "      # print('prompt:',prompt)\n",
        "    else:\n",
        "      completion += \" \" + dialog\n",
        "      # c_encode = completion.encode(\"ascii\", \"ignore\")\n",
        "      # completion = c_encode.decode()\n",
        "      completion = completion.replace(\"\\xa0\", \" \")\n",
        "  completion = completion.strip()\n",
        "  line = {'prompt': prompt, 'completion': completion}\n",
        "  # print(line)\n",
        "  output.append(line)\n",
        "    \n",
        "print(output)"
      ],
      "metadata": {
        "colab": {
          "base_uri": "https://localhost:8080/"
        },
        "id": "3Yz-LYKiOXln",
        "outputId": "f9f6a537-3bbe-4bb8-d12f-d3cd7bad82fe"
      },
      "execution_count": 33,
      "outputs": [
        {
          "output_type": "stream",
          "name": "stdout",
          "text": [
            "[{'prompt': 'What Is Depression?', 'completion': 'Depression is a common and serious medical illness that negatively affects how you feel, the way you think and how you act. Fortunately,it is also treatable. Depression causes feelings of sadness and/or a loss of interest in activities you once enjoyed. It can lead to a variety of emotional and physical problems and can decrease your ability to function at work and at home.'}, {'prompt': 'I feel i have let my parents down', 'completion': 'No matter what,your parents will always be proud of you and will love you. You will feel much better if you share your feelings with them.'}, {'prompt': 'What are the types of depression?', 'completion': 'There are many different forms of depression but most common types are. Clinical depression,persistent depressive disorder,bipolar disorder,postnatal disorder.'}, {'prompt': 'I am good for nothing.', 'completion': \"Don't ever think you cannot achieve what you want. You are capable of reaching your goals.Here is a quote for you Everything you can imagine is real.\"}, {'prompt': 'I am feeling stressed lately', 'completion': 'My research says that music is the best way to calm yourself. so visit the link and listen to your favourite music. it will definitely cheer you up \"https://www.spotify.com\"'}, {'prompt': 'i want to kill myself', 'completion': 'Helpline is available,you can contact the counsellor today:9152987821.Always remember you mean something to someone.'}, {'prompt': 'i am afraid i will fail again', 'completion': 'failure is the stepping stone towards success.Never fear failure. Your hardwork and determination will help you reach your goal.'}, {'prompt': 'What is Depression?', 'completion': 'Depression\\\\xa0is a mood disorder that causes a persistent feeling of sadness and loss of interest. Also called major\\\\xa0depressive\\\\xa0disorder or clinical\\\\xa0depression, it affects how you feel, think and behave and can lead to a variety of emotional and physical problems.'}, {'prompt': 'What are the causes of depression?', 'completion': \"It's complicated, and there are multiple causes of major depression. Factors such as genetic vulnerability, severe life stressors, substances you may take (some medications, drugs and alcohol) and medical conditions can affect the way your brain regulates your moods.\"}, {'prompt': 'What are the top causes of depression?', 'completion': 'Abuse. Past physical, sexual, or emotional abuse can increase the vulnerability to clinical\\\\xa0depression\\\\xa0later in life.'}, {'prompt': 'Which age group has the highest rate of depression?', 'completion': 'This number represented 7.1% of all U.S. adults. The\\\\xa0prevalence\\\\xa0of major\\\\xa0depressive\\\\xa0episode was higher among adult females (8.7%) compared to males (5.3%). The\\\\xa0prevalence\\\\xa0of adults\\\\xa0with\\\\xa0a major\\\\xa0depressive\\\\xa0episode was\\\\xa0highest\\\\xa0among individuals aged 18-25 (13.1%).'}, {'prompt': 'Which country has the highest rate of depression?', 'completion': 'The most depressed country is Afghanistan, where more than one in five people suffer from the disorder. The least depressed is\\\\xa0Japan, with a diagnosed rate of less than 2.5 percent.'}, {'prompt': 'Which country has the lowest rate of depression?', 'completion': 'The most depressed country is Afghanistan, where more than one in five people suffer from the disorder. The least depressed is\\\\xa0Japan, with a diagnosed rate of less than 2.5 percent.'}, {'prompt': 'Is school a cause of depression?', 'completion': 'Not only\\\\xa0does school\\\\xa0sometimes contribute to\\\\xa0depression,\\\\xa0depression\\\\xa0can also interfere with\\\\xa0school. Moreover, research shows that 75 percent of all mental health conditions begin by age 24. Hence, the college years are a critical time for understanding and talking about teen mental health.'}, {'prompt': 'What is the biological cause of depression?', 'completion': \"There is no single cause for depression; rather it's a combination of stress and a person's vulnerability to developing depression. The predisposition to developing depression can be inherited. Other biological causes for depression can include physical illness, the process of ageing and gender.\"}, {'prompt': 'How does depression affect the world?', 'completion': 'Depression\\\\xa0is a leading\\\\xa0cause\\\\xa0of disability worldwide and is a major contributor to the overall\\\\xa0global\\\\xa0burden of disease. More women are affected by\\\\xa0depression\\\\xa0than men.\\\\xa0Depression\\\\xa0can lead to suicide. There are effective psychological and pharmacological treatments for moderate and severe\\\\xa0depression.'}, {'prompt': 'Which race has the highest rate of depression?', 'completion': 'Major depression was most prevalent among\\\\xa0Hispanics\\\\xa0(10.8%), followed by\\\\xa0African Americans\\\\xa0(8.9%) and\\\\xa0Whites\\\\xa0(7.8%). The odds of depressive disorders among older\\\\xa0Hispanics\\\\xa0were 44% greater than among\\\\xa0Whites\\\\xa0(OR = 1.44; 95% CI = 1.02, 2.04), representing a significantly greater prevalence of major depression.'}, {'prompt': 'What is the meaning of anxiety and depression?', 'completion': 'Depression\\\\xa0and\\\\xa0anxiety\\\\xa0disorders are different, but people with\\\\xa0depression\\\\xa0often experience symptoms similar to those of an\\\\xa0anxiety\\\\xa0disorder, such as nervousness, irritability, and problems sleeping and concentrating. But each disorder has its own causes and its own emotional and behavioral symptoms.'}, {'prompt': 'Does oversleeping cause depression?', 'completion': \"It's important to remember that oversleeping is a possible symptom of depression and that oversleeping doesn't cause depression. But it can exacerbate and worsen depression symptoms\"}, {'prompt': 'Can lack of sleep make you feel sad?', 'completion': 'Studies show\\\\xa0people\\\\xa0who are\\\\xa0sleep\\\\xa0deprived report increases in negative moods (anger, frustration, irritability,\\\\xa0sadness) and decreases in positive moods. And sleeplessness is often a symptom of mood disorders, such as depression and anxiety.'}, {'prompt': 'Is depression a side effect of diabetes?', 'completion': \"If you have diabetes — either type 1 or type 2 — you have an increased risk of developing depression. And if you're depressed, you may have a greater chance of developing type 2 diabetes. The good news is that diabetes and depression can be treated together.\"}, {'prompt': 'Can low blood sugar cause suicidal thoughts?', 'completion': 'The observed association between plasma\\\\xa0glucose levels, insulin resistance\\\\xa0and suicidal\\\\xa0behaviour suggests that disturbances in\\\\xa0glucose\\\\xa0metabolism are associated with\\\\xa0suicidal ideation and\\\\xa0attempts.'}, {'prompt': 'How long can Anxiety last?', 'completion': \"Anxiety attacks usually peak within 10 minutes, and they rarely last more than 30 minutes. But during that short time, you may experience terror so severe that you feel as if you're about to die or totally lose control.\"}, {'prompt': 'What are the stages of anxiety?', 'completion': 'Anxiety levels\\\\xa0are typically classified by the level of distress and impairment experienced into four categories namely, mild\\\\xa0anxiety, moderate\\\\xa0anxiety, severe\\\\xa0anxiety\\\\xa0and panic level\\\\xa0anxiety.'}, {'prompt': 'At what age does anxiety peak?', 'completion': 'Adults\\\\xa0ages\\\\xa030 to 44 have the highest rate of\\\\xa0anxiety\\\\xa0of this\\\\xa0age\\\\xa0group, with around 23% of people this\\\\xa0age\\\\xa0reporting an\\\\xa0anxiety\\\\xa0disorder within the past year.'}, {'prompt': 'Why is anxiety bad for you?', 'completion': 'Anxiety\\\\xa0disorders can cause rapid heart rate, palpitations, and chest pain.\\\\xa0You\\\\xa0may also be at an increased risk of high blood pressure and heart disease. If\\\\xa0you\\\\xa0already have heart disease,\\\\xa0anxiety\\\\xa0disorders may raise the risk of coronary events.'}, {'prompt': 'What is the 3 3 3 rule for anxiety?', 'completion': \"There's an anxiety-reducing technique called grounding. There are different versions of this, but an easy one to remember is the 3-3-3 rule. Mentally note three things you see, three sounds you hear, and then move three parts of your body. This exercise can help your mind refocus on something else.\"}, {'prompt': 'Do we control our thoughts?', 'completion': 'We\\\\xa0are aware of a tiny fraction of the\\\\xa0thinking\\\\xa0that goes on in\\\\xa0our minds, and\\\\xa0we can control\\\\xa0only a tiny part of\\\\xa0our\\\\xa0conscious\\\\xa0thoughts. The vast majority of\\\\xa0our thinking\\\\xa0efforts goes on subconsciously. ... Slips of the tongue and accidental actions offer glimpses of\\\\xa0our\\\\xa0unfiltered subconscious mental life.'}, {'prompt': 'How many thoughts a day do we have?', 'completion': \"A new study has suggested that an average person has 6,200 thoughts per day. Thousands of thoughts cross our mind through the day. Many people even complain that they can't sleep immediately after going to bed as their brain does not stop thinking.\"}, {'prompt': 'How can we reduce anxiety?', 'completion': '3 3 3 rule is the best method to reduce anxiety. In this method you have to mentally note\\\\xa0three\\\\xa0things you see,\\\\xa0three\\\\xa0sounds you hear, and then move\\\\xa0three\\\\xa0parts of your body. This exercise can help your mind refocus on something else.'}, {'prompt': 'I am lonely!', 'completion': \"You are never lonely if you look around carefully you will find people who care for you and would love to have your company. Besides if you are feeling lonely literally I suggest you watch a horror movie then you won't feel lonely anymore. ;)\"}, {'prompt': 'No one likes me!', 'completion': \"You really think that? I'd suggest you try helping someone who really needs your help you'll straight up get a person to like you just by being nice. Kindness is the best gift you can offer to anyone :)\"}, {'prompt': 'I think I am ugly!', 'completion': 'Well do you really think that? Would you like to see the most beautiful face ever? Open your WebCam and voila, the prettiest face on this planet magically appears.'}, {'prompt': 'I am good for nothing!', 'completion': 'Your perception of how good you are, will never be accurate. If you wake up everyday in the morning, smile to yourself and tell yourself that the day is yours to seize you might stop feeling that way. Carpe Diem! my friend.'}, {'prompt': 'I wish I was better than them', 'completion': \"Life is never about being better than anyone else, it's always about being better than yourself, if you have the guts to be better than yourself, you are automatically the best person to ever exist!\"}, {'prompt': 'I hate myself!', 'completion': 'When God was creating the universe he gave humans the power to think and the contemplate, so that we can understand the world and make it a better place. God did not give you brains to hate yourself, it wuld be wiser to love yourself and show God that you are serving the purpose for which you were sent.'}, {'prompt': \"I wish I could've been a winner\", 'completion': 'Our lives started off with winning, my friend. Everyone is born to be a winner, we just need to figure out the right way and need to wait for the right time.'}, {'prompt': 'I hate losing.', 'completion': 'First of all Ill annoy you with a common saying, \"Failures are stepping stones to success.\" And then Ill tell you, winning just boosts your ego, it is your failures that actually teach you.'}, {'prompt': \"I think I'm losing my mind\", 'completion': \"You mean your cloud storage, SD card, or your Memory drive? If a machine like me doesn't lose it's memory unless a superior being that is you, a human doesen't erase it's memory, what could possibly go wrong to put you in this state?\"}, {'prompt': 'I want a break', 'completion': 'A break is putting your mind to rest getting rid of negative thoughts and stress. Your life is completely in your hands and taking a few hours off from pressurizing your brain will definitely be beneficial for you.'}, {'prompt': 'I am stressed out', 'completion': \"You know taking too much stress will affect you negatively. Sometimes it's better to let go of the thoughts in your head and let your mind chill.\"}, {'prompt': 'I will never succeed in life', 'completion': 'Success is something that is achieved at different times by different people, being patient and working while ignoring anything and everything that pulls you back is an important aspect in being successful.'}, {'prompt': 'I am sad', 'completion': 'Hey,hang in there.I know time is tough but be patient and everything will fall into place. Here is a quote that I found which could cheer you up Forget what is gone, appreciate what remains, and look forward for what is coming next.'}, {'prompt': 'I am a victim of bullying', 'completion': 'Bullying is wrong and no one should be bullied. I highly recommend you to file a case against your bully.'}, {'prompt': 'I am afraid to file a case against bullying', 'completion': \"Bullying is very wrong and you shouldn't let anyone overpower you. I highly recommend you to stand for yourself and report this to your guardian.\"}, {'prompt': 'I wish to quit', 'completion': \"Winners never quit and quitters never win a very common saying, but it isn't easy to follow, quitting should never be one of your options always think of ways to fight life back and to emerge out stronger than ever.\"}, {'prompt': 'I want to leave the cou ntry and run away', 'completion': 'Why do you want to spend so much on this thought, I think it would be better to go on a vacation in your beautiful country and visit some amazing places that you are yet to visit.'}, {'prompt': 'I let everyojokne down', 'completion': 'If you are the one who let them down you were the one who raised there hopes in the first place. If you have done it once I can guarantee you can do it over and over again.'}, {'prompt': \"I can't do this anymore\", 'completion': \"If you are really that exhausted you definitely need a break, and taking a teeny tiny break isn't very harmful, take some time off let your mind be at peace and get back to work with all the enrgy and enthusiasm that you have.\"}, {'prompt': 'My time has come', 'completion': 'Yeahh!! The time has come for you to show the world that you are the greatest person alive, and no one else can be as good as you are.'}, {'prompt': 'I am feeling anxious lately.', 'completion': 'I have heard that 3 3 3 rule is the best method to reduce anxiety. In this method you have to mentally note\\\\xa0three\\\\xa0things you see,\\\\xa0three\\\\xa0sounds you hear, and then move\\\\xa0three\\\\xa0parts of your body. This exercise can help your mind refocus on something else. Give this method a try I am sure it will help you'}]\n"
          ]
        }
      ]
    },
    {
      "cell_type": "code",
      "source": [
        "from google.colab import files"
      ],
      "metadata": {
        "id": "ijmYBGaTVqGD"
      },
      "execution_count": 34,
      "outputs": []
    },
    {
      "cell_type": "code",
      "source": [
        "with open('depression-d.jsonl', 'w') as outfile:\n",
        "        for i in output:\n",
        "            json.dump(i, outfile)\n",
        "            outfile.write('\\n')\n",
        "\n",
        "\n",
        "files.download('depression-d.jsonl')\n"
      ],
      "metadata": {
        "id": "ETdV0OyYPFYZ"
      },
      "execution_count": null,
      "outputs": []
    },
    {
      "cell_type": "code",
      "source": [
        "!pip install openai"
      ],
      "metadata": {
        "id": "2auTioYVSImG",
        "colab": {
          "base_uri": "https://localhost:8080/"
        },
        "outputId": "3e23eba3-899f-4289-dc34-05e94ba117ab"
      },
      "execution_count": 36,
      "outputs": [
        {
          "output_type": "stream",
          "name": "stdout",
          "text": [
            "Looking in indexes: https://pypi.org/simple, https://us-python.pkg.dev/colab-wheels/public/simple/\n",
            "Requirement already satisfied: openai in /usr/local/lib/python3.8/dist-packages (0.26.4)\n",
            "Requirement already satisfied: tqdm in /usr/local/lib/python3.8/dist-packages (from openai) (4.64.1)\n",
            "Requirement already satisfied: aiohttp in /usr/local/lib/python3.8/dist-packages (from openai) (3.8.3)\n",
            "Requirement already satisfied: requests>=2.20 in /usr/local/lib/python3.8/dist-packages (from openai) (2.25.1)\n",
            "Requirement already satisfied: idna<3,>=2.5 in /usr/local/lib/python3.8/dist-packages (from requests>=2.20->openai) (2.10)\n",
            "Requirement already satisfied: urllib3<1.27,>=1.21.1 in /usr/local/lib/python3.8/dist-packages (from requests>=2.20->openai) (1.24.3)\n",
            "Requirement already satisfied: chardet<5,>=3.0.2 in /usr/local/lib/python3.8/dist-packages (from requests>=2.20->openai) (4.0.0)\n",
            "Requirement already satisfied: certifi>=2017.4.17 in /usr/local/lib/python3.8/dist-packages (from requests>=2.20->openai) (2022.12.7)\n",
            "Requirement already satisfied: yarl<2.0,>=1.0 in /usr/local/lib/python3.8/dist-packages (from aiohttp->openai) (1.8.2)\n",
            "Requirement already satisfied: charset-normalizer<3.0,>=2.0 in /usr/local/lib/python3.8/dist-packages (from aiohttp->openai) (2.1.1)\n",
            "Requirement already satisfied: multidict<7.0,>=4.5 in /usr/local/lib/python3.8/dist-packages (from aiohttp->openai) (6.0.4)\n",
            "Requirement already satisfied: attrs>=17.3.0 in /usr/local/lib/python3.8/dist-packages (from aiohttp->openai) (22.2.0)\n",
            "Requirement already satisfied: async-timeout<5.0,>=4.0.0a3 in /usr/local/lib/python3.8/dist-packages (from aiohttp->openai) (4.0.2)\n",
            "Requirement already satisfied: frozenlist>=1.1.1 in /usr/local/lib/python3.8/dist-packages (from aiohttp->openai) (1.3.3)\n",
            "Requirement already satisfied: aiosignal>=1.1.2 in /usr/local/lib/python3.8/dist-packages (from aiohttp->openai) (1.3.1)\n"
          ]
        }
      ]
    },
    {
      "cell_type": "code",
      "source": [
        "!openai tools fine_tunes.prepare_data -f '/content/gdrive/MyDrive/A1b-ChatGPT/depression-d.jsonl'\n"
      ],
      "metadata": {
        "colab": {
          "base_uri": "https://localhost:8080/"
        },
        "id": "i6I6uIECROn7",
        "outputId": "ada6cffc-4f69-435e-e982-1f7ac633d00c"
      },
      "execution_count": 37,
      "outputs": [
        {
          "output_type": "stream",
          "name": "stdout",
          "text": [
            "Analyzing...\n",
            "\n",
            "- Your file contains 51 prompt-completion pairs. In general, we recommend having at least a few hundred examples. We've found that performance tends to linearly increase for every doubling of the number of examples\n",
            "- Your data does not contain a common separator at the end of your prompts. Having a separator string appended to the end of the prompt makes it clearer to the fine-tuned model where the completion should begin. See https://beta.openai.com/docs/guides/fine-tuning/preparing-your-dataset for more detail and examples. If you intend to do open-ended generation, then you should leave the prompts empty\n",
            "- Your data does not contain a common ending at the end of your completions. Having a common ending string appended to the end of the completion makes it clearer to the fine-tuned model where the completion should end. See https://beta.openai.com/docs/guides/fine-tuning/preparing-your-dataset for more detail and examples.\n",
            "- The completion should start with a whitespace character (` `). This tends to produce better results due to the tokenization we use. See https://beta.openai.com/docs/guides/fine-tuning/preparing-your-dataset for more details\n",
            "\n",
            "Based on the analysis we will perform the following actions:\n",
            "- [Recommended] Add a suffix separator ` ->` to all prompts [Y/n]: Y\n",
            "- [Recommended] Add a suffix ending `\\n` to all completions [Y/n]: Y\n",
            "- [Recommended] Add a whitespace character to the beginning of the completion [Y/n]: Y\n",
            "\n",
            "\n",
            "Your data will be written to a new JSONL file. Proceed [Y/n]: n\n",
            "Aborting... did not write the file\n"
          ]
        }
      ]
    },
    {
      "cell_type": "code",
      "source": [
        "import os"
      ],
      "metadata": {
        "id": "NkLSRLKVh_O5"
      },
      "execution_count": 45,
      "outputs": []
    },
    {
      "cell_type": "code",
      "source": [
        "os.environ['OPENAI_API_KEY'] = 'insert ur api key'"
      ],
      "metadata": {
        "id": "oV2vabvCXHxy"
      },
      "execution_count": 39,
      "outputs": []
    },
    {
      "cell_type": "code",
      "source": [
        "# !set OPENAI_API_KEY=<YOUR-API-KEY>"
      ],
      "metadata": {
        "id": "FgO1egbbsXT7"
      },
      "execution_count": 40,
      "outputs": []
    },
    {
      "cell_type": "code",
      "source": [
        "!openai api fine_tunes.create -t \"/content/gdrive/MyDrive/A1b-ChatGPT/depression-d_prepared.jsonl\" -m davinci"
      ],
      "metadata": {
        "colab": {
          "base_uri": "https://localhost:8080/"
        },
        "id": "epglrlaFTjtY",
        "outputId": "e7c66d41-cc23-46c3-d023-b8f07669f31a"
      },
      "execution_count": 41,
      "outputs": [
        {
          "output_type": "stream",
          "name": "stdout",
          "text": [
            "\rUpload progress:   0% 0.00/14.8k [00:00<?, ?it/s]\rUpload progress: 100% 14.8k/14.8k [00:00<00:00, 20.8Mit/s]\n",
            "Uploaded file from /content/gdrive/MyDrive/A1b-ChatGPT/depression-d_prepared.jsonl: file-I6CNHjWUQfBWYIVnIojw6YHI\n",
            "Created fine-tune: ft-xj5zlsU90PNwVHYanYRE63Jq\n",
            "Streaming events until fine-tuning is complete...\n",
            "\n",
            "(Ctrl-C will interrupt the stream, but not cancel the fine-tune)\n",
            "[2023-02-02 05:46:45] Created fine-tune: ft-xj5zlsU90PNwVHYanYRE63Jq\n",
            "[2023-02-02 05:47:54] Fine-tune costs $0.37\n",
            "[2023-02-02 05:47:55] Fine-tune enqueued. Queue number: 0\n",
            "[2023-02-02 05:47:57] Fine-tune started\n",
            "[2023-02-02 05:50:17] Completed epoch 1/4\n",
            "[2023-02-02 05:50:32] Completed epoch 2/4\n",
            "[2023-02-02 05:50:48] Completed epoch 3/4\n",
            "[2023-02-02 05:51:04] Completed epoch 4/4\n",
            "[2023-02-02 05:51:41] Uploaded model: davinci:ft-personal-2023-02-02-05-51-41\n",
            "[2023-02-02 05:51:42] Uploaded result file: file-JWRjxcYYudj4HcmRqnCN5j4P\n",
            "[2023-02-02 05:51:43] Fine-tune succeeded\n",
            "\n",
            "Job complete! Status: succeeded 🎉\n",
            "Try out your fine-tuned model:\n",
            "\n",
            "openai api completions.create -m davinci:ft-personal-2023-02-02-05-51-41 -p <YOUR_PROMPT>\n"
          ]
        }
      ]
    },
    {
      "cell_type": "code",
      "source": [
        "import os\n",
        "import openai\n",
        "\n",
        "openai.api_key = os.getenv(\"OPENAI_API_KEY\")\n",
        "\n",
        "query = 'hi i feel low'\n",
        "\n",
        "\n",
        "\n",
        "def openai_create(prompt):\n",
        "\n",
        "    response = openai.Completion.create(\n",
        "    engine=\"davinci:ft-personal-2023-02-02-05-51-41\",   # fine tuned davinci model\n",
        "    # engine=\"davinci\",   # base engine without fine tuning\n",
        "    prompt=prompt,\n",
        "    temperature=1.0,\n",
        "    max_tokens=162,\n",
        "    top_p=1,\n",
        "    frequency_penalty=0,\n",
        "    presence_penalty=0.6,\n",
        "    stop=[\"\\n\"]\n",
        "    )\n",
        "\n",
        "    return response.choices[0].text\n"
      ],
      "metadata": {
        "id": "NS1IRkd_Tlew"
      },
      "execution_count": 42,
      "outputs": []
    },
    {
      "cell_type": "code",
      "source": [
        "!pip install gradio"
      ],
      "metadata": {
        "id": "uH8iLV4hZYDH",
        "colab": {
          "base_uri": "https://localhost:8080/"
        },
        "outputId": "1e867e1c-532b-434e-fdef-0343bba37f68"
      },
      "execution_count": 43,
      "outputs": [
        {
          "output_type": "stream",
          "name": "stdout",
          "text": [
            "Looking in indexes: https://pypi.org/simple, https://us-python.pkg.dev/colab-wheels/public/simple/\n",
            "Requirement already satisfied: gradio in /usr/local/lib/python3.8/dist-packages (3.17.0)\n",
            "Requirement already satisfied: markupsafe in /usr/local/lib/python3.8/dist-packages (from gradio) (2.0.1)\n",
            "Requirement already satisfied: orjson in /usr/local/lib/python3.8/dist-packages (from gradio) (3.8.5)\n",
            "Requirement already satisfied: markdown-it-py[linkify,plugins] in /usr/local/lib/python3.8/dist-packages (from gradio) (2.1.0)\n",
            "Requirement already satisfied: requests in /usr/local/lib/python3.8/dist-packages (from gradio) (2.25.1)\n",
            "Requirement already satisfied: pydantic in /usr/local/lib/python3.8/dist-packages (from gradio) (1.10.4)\n",
            "Requirement already satisfied: aiohttp in /usr/local/lib/python3.8/dist-packages (from gradio) (3.8.3)\n",
            "Requirement already satisfied: ffmpy in /usr/local/lib/python3.8/dist-packages (from gradio) (0.3.0)\n",
            "Requirement already satisfied: fastapi in /usr/local/lib/python3.8/dist-packages (from gradio) (0.89.1)\n",
            "Requirement already satisfied: python-multipart in /usr/local/lib/python3.8/dist-packages (from gradio) (0.0.5)\n",
            "Requirement already satisfied: pandas in /usr/local/lib/python3.8/dist-packages (from gradio) (1.3.5)\n",
            "Requirement already satisfied: altair>=4.2.0 in /usr/local/lib/python3.8/dist-packages (from gradio) (4.2.0)\n",
            "Requirement already satisfied: uvicorn in /usr/local/lib/python3.8/dist-packages (from gradio) (0.20.0)\n",
            "Requirement already satisfied: fsspec in /usr/local/lib/python3.8/dist-packages (from gradio) (2022.11.0)\n",
            "Requirement already satisfied: aiofiles in /usr/local/lib/python3.8/dist-packages (from gradio) (22.1.0)\n",
            "Requirement already satisfied: numpy in /usr/local/lib/python3.8/dist-packages (from gradio) (1.21.6)\n",
            "Requirement already satisfied: pycryptodome in /usr/local/lib/python3.8/dist-packages (from gradio) (3.17)\n",
            "Requirement already satisfied: matplotlib in /usr/local/lib/python3.8/dist-packages (from gradio) (3.2.2)\n",
            "Requirement already satisfied: httpx in /usr/local/lib/python3.8/dist-packages (from gradio) (0.23.3)\n",
            "Requirement already satisfied: pyyaml in /usr/local/lib/python3.8/dist-packages (from gradio) (6.0)\n",
            "Requirement already satisfied: websockets>=10.0 in /usr/local/lib/python3.8/dist-packages (from gradio) (10.4)\n",
            "Requirement already satisfied: pydub in /usr/local/lib/python3.8/dist-packages (from gradio) (0.25.1)\n",
            "Requirement already satisfied: jinja2 in /usr/local/lib/python3.8/dist-packages (from gradio) (2.11.3)\n",
            "Requirement already satisfied: pillow in /usr/local/lib/python3.8/dist-packages (from gradio) (7.1.2)\n",
            "Requirement already satisfied: typing-extensions in /usr/local/lib/python3.8/dist-packages (from gradio) (4.4.0)\n",
            "Requirement already satisfied: toolz in /usr/local/lib/python3.8/dist-packages (from altair>=4.2.0->gradio) (0.12.0)\n",
            "Requirement already satisfied: jsonschema>=3.0 in /usr/local/lib/python3.8/dist-packages (from altair>=4.2.0->gradio) (4.3.3)\n",
            "Requirement already satisfied: entrypoints in /usr/local/lib/python3.8/dist-packages (from altair>=4.2.0->gradio) (0.4)\n",
            "Requirement already satisfied: python-dateutil>=2.7.3 in /usr/local/lib/python3.8/dist-packages (from pandas->gradio) (2.8.2)\n",
            "Requirement already satisfied: pytz>=2017.3 in /usr/local/lib/python3.8/dist-packages (from pandas->gradio) (2022.7)\n",
            "Requirement already satisfied: frozenlist>=1.1.1 in /usr/local/lib/python3.8/dist-packages (from aiohttp->gradio) (1.3.3)\n",
            "Requirement already satisfied: aiosignal>=1.1.2 in /usr/local/lib/python3.8/dist-packages (from aiohttp->gradio) (1.3.1)\n",
            "Requirement already satisfied: attrs>=17.3.0 in /usr/local/lib/python3.8/dist-packages (from aiohttp->gradio) (22.2.0)\n",
            "Requirement already satisfied: multidict<7.0,>=4.5 in /usr/local/lib/python3.8/dist-packages (from aiohttp->gradio) (6.0.4)\n",
            "Requirement already satisfied: charset-normalizer<3.0,>=2.0 in /usr/local/lib/python3.8/dist-packages (from aiohttp->gradio) (2.1.1)\n",
            "Requirement already satisfied: yarl<2.0,>=1.0 in /usr/local/lib/python3.8/dist-packages (from aiohttp->gradio) (1.8.2)\n",
            "Requirement already satisfied: async-timeout<5.0,>=4.0.0a3 in /usr/local/lib/python3.8/dist-packages (from aiohttp->gradio) (4.0.2)\n",
            "Requirement already satisfied: starlette==0.22.0 in /usr/local/lib/python3.8/dist-packages (from fastapi->gradio) (0.22.0)\n",
            "Requirement already satisfied: anyio<5,>=3.4.0 in /usr/local/lib/python3.8/dist-packages (from starlette==0.22.0->fastapi->gradio) (3.6.2)\n",
            "Requirement already satisfied: rfc3986[idna2008]<2,>=1.3 in /usr/local/lib/python3.8/dist-packages (from httpx->gradio) (1.5.0)\n",
            "Requirement already satisfied: certifi in /usr/local/lib/python3.8/dist-packages (from httpx->gradio) (2022.12.7)\n",
            "Requirement already satisfied: httpcore<0.17.0,>=0.15.0 in /usr/local/lib/python3.8/dist-packages (from httpx->gradio) (0.16.3)\n",
            "Requirement already satisfied: sniffio in /usr/local/lib/python3.8/dist-packages (from httpx->gradio) (1.3.0)\n",
            "Requirement already satisfied: mdurl~=0.1 in /usr/local/lib/python3.8/dist-packages (from markdown-it-py[linkify,plugins]->gradio) (0.1.2)\n",
            "Requirement already satisfied: linkify-it-py~=1.0 in /usr/local/lib/python3.8/dist-packages (from markdown-it-py[linkify,plugins]->gradio) (1.0.3)\n",
            "Requirement already satisfied: mdit-py-plugins in /usr/local/lib/python3.8/dist-packages (from markdown-it-py[linkify,plugins]->gradio) (0.3.3)\n",
            "Requirement already satisfied: pyparsing!=2.0.4,!=2.1.2,!=2.1.6,>=2.0.1 in /usr/local/lib/python3.8/dist-packages (from matplotlib->gradio) (3.0.9)\n",
            "Requirement already satisfied: cycler>=0.10 in /usr/local/lib/python3.8/dist-packages (from matplotlib->gradio) (0.11.0)\n",
            "Requirement already satisfied: kiwisolver>=1.0.1 in /usr/local/lib/python3.8/dist-packages (from matplotlib->gradio) (1.4.4)\n",
            "Requirement already satisfied: six>=1.4.0 in /usr/local/lib/python3.8/dist-packages (from python-multipart->gradio) (1.15.0)\n",
            "Requirement already satisfied: idna<3,>=2.5 in /usr/local/lib/python3.8/dist-packages (from requests->gradio) (2.10)\n",
            "Requirement already satisfied: urllib3<1.27,>=1.21.1 in /usr/local/lib/python3.8/dist-packages (from requests->gradio) (1.24.3)\n",
            "Requirement already satisfied: chardet<5,>=3.0.2 in /usr/local/lib/python3.8/dist-packages (from requests->gradio) (4.0.0)\n",
            "Requirement already satisfied: click>=7.0 in /usr/local/lib/python3.8/dist-packages (from uvicorn->gradio) (7.1.2)\n",
            "Requirement already satisfied: h11>=0.8 in /usr/local/lib/python3.8/dist-packages (from uvicorn->gradio) (0.14.0)\n",
            "Requirement already satisfied: pyrsistent!=0.17.0,!=0.17.1,!=0.17.2,>=0.14.0 in /usr/local/lib/python3.8/dist-packages (from jsonschema>=3.0->altair>=4.2.0->gradio) (0.19.3)\n",
            "Requirement already satisfied: importlib-resources>=1.4.0 in /usr/local/lib/python3.8/dist-packages (from jsonschema>=3.0->altair>=4.2.0->gradio) (5.10.2)\n",
            "Requirement already satisfied: uc-micro-py in /usr/local/lib/python3.8/dist-packages (from linkify-it-py~=1.0->markdown-it-py[linkify,plugins]->gradio) (1.0.1)\n",
            "Requirement already satisfied: zipp>=3.1.0 in /usr/local/lib/python3.8/dist-packages (from importlib-resources>=1.4.0->jsonschema>=3.0->altair>=4.2.0->gradio) (3.11.0)\n"
          ]
        }
      ]
    },
    {
      "cell_type": "code",
      "source": [
        "import gradio as gr\n",
        "\n",
        "#iface = gr.Interface.load('davinci:ft-personal-2023-02-01-19-15-41','models'\n",
        "#,examples=[[\"This covid is very real\"],['tips:Label_0=Negative, Label_1=Neutral , Label_2=Positive']]\n",
        "#)\n",
        "#iface.launch()\n",
        "\n",
        "\n",
        "demo = gr.Interface(fn=openai_create, inputs=\"text\", outputs=\"text\")\n",
        "    \n",
        "if __name__ == \"__main__\":\n",
        "    demo.launch()\n"
      ],
      "metadata": {
        "id": "odw3HUM2rmmw",
        "colab": {
          "base_uri": "https://localhost:8080/",
          "height": 616
        },
        "outputId": "96ad3407-53d9-463f-81a8-40740d91495c"
      },
      "execution_count": 44,
      "outputs": [
        {
          "output_type": "stream",
          "name": "stdout",
          "text": [
            "Colab notebook detected. To show errors in colab notebook, set debug=True in launch()\n",
            "Note: opening Chrome Inspector may crash demo inside Colab notebooks.\n",
            "\n",
            "To create a public link, set `share=True` in `launch()`.\n"
          ]
        },
        {
          "output_type": "display_data",
          "data": {
            "text/plain": [
              "<IPython.core.display.Javascript object>"
            ],
            "application/javascript": [
              "(async (port, path, width, height, cache, element) => {\n",
              "                        if (!google.colab.kernel.accessAllowed && !cache) {\n",
              "                            return;\n",
              "                        }\n",
              "                        element.appendChild(document.createTextNode(''));\n",
              "                        const url = await google.colab.kernel.proxyPort(port, {cache});\n",
              "\n",
              "                        const external_link = document.createElement('div');\n",
              "                        external_link.innerHTML = `\n",
              "                            <div style=\"font-family: monospace; margin-bottom: 0.5rem\">\n",
              "                                Running on <a href=${new URL(path, url).toString()} target=\"_blank\">\n",
              "                                    https://localhost:${port}${path}\n",
              "                                </a>\n",
              "                            </div>\n",
              "                        `;\n",
              "                        element.appendChild(external_link);\n",
              "\n",
              "                        const iframe = document.createElement('iframe');\n",
              "                        iframe.src = new URL(path, url).toString();\n",
              "                        iframe.height = height;\n",
              "                        iframe.allow = \"autoplay; camera; microphone; clipboard-read; clipboard-write;\"\n",
              "                        iframe.width = width;\n",
              "                        iframe.style.border = 0;\n",
              "                        element.appendChild(iframe);\n",
              "                    })(7860, \"/\", \"100%\", 500, false, window.element)"
            ]
          },
          "metadata": {}
        }
      ]
    }
  ]
}